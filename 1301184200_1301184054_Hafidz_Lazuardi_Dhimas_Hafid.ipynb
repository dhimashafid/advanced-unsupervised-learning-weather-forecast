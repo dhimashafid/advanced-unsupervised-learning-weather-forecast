{
  "nbformat": 4,
  "nbformat_minor": 0,
  "metadata": {
    "colab": {
      "name": "1301184200_1301184054_Hafidz Lazuardi_Dhimas Hafid.ipynb",
      "provenance": [],
      "collapsed_sections": [],
      "toc_visible": true
    },
    "kernelspec": {
      "name": "python3",
      "display_name": "Python 3"
    },
    "language_info": {
      "name": "python"
    }
  },
  "cells": [
    {
      "cell_type": "markdown",
      "metadata": {
        "id": "1_tbIayPn62l"
      },
      "source": [
        "\n",
        "\n",
        "```\n",
        "# This is formatted as code\n",
        "```\n",
        "\n",
        "#**Tugas Besar MCL Tahap 2 Classification**\n",
        "Nama Anggota Kelompok:\n",
        "1. **Hafidz Lazuardi** (1301184200)\n",
        "2. **Dhimas Hafid Kurniawan** (1301184054)"
      ]
    },
    {
      "cell_type": "markdown",
      "metadata": {
        "id": "EG0XNwCwkgrr"
      },
      "source": [
        "#Import library"
      ]
    },
    {
      "cell_type": "code",
      "metadata": {
        "id": "IgZMhA2_hWvf"
      },
      "source": [
        "import pandas as pd\n",
        "import matplotlib.pyplot as plt\n",
        "import numpy as np\n",
        "import seaborn as sns\n",
        "import nltk\n",
        "import random\n",
        "import sklearn as sk\n",
        "from sklearn.linear_model import LogisticRegression\n",
        "from sklearn import metrics\n",
        "from sklearn.metrics import classification_report\n",
        "from sklearn.naive_bayes import GaussianNB\n",
        "from sklearn.preprocessing import LabelEncoder"
      ],
      "execution_count": null,
      "outputs": []
    },
    {
      "cell_type": "markdown",
      "metadata": {
        "id": "-7iftnBwnrYd"
      },
      "source": [
        "#Load Dataset"
      ]
    },
    {
      "cell_type": "code",
      "metadata": {
        "colab": {
          "resources": {
            "http://localhost:8080/nbextensions/google.colab/files.js": {
              "data": "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",
              "ok": true,
              "headers": [
                [
                  "content-type",
                  "application/javascript"
                ]
              ],
              "status": 200,
              "status_text": ""
            }
          },
          "base_uri": "https://localhost:8080/",
          "height": 89
        },
        "id": "28xVHsr_redH",
        "outputId": "4e3f0448-27cf-4df9-9c9f-2015e2e97af5"
      },
      "source": [
        "from google.colab import files\n",
        "uploaded = files.upload()"
      ],
      "execution_count": null,
      "outputs": [
        {
          "output_type": "display_data",
          "data": {
            "text/html": [
              "\n",
              "     <input type=\"file\" id=\"files-5792f0c4-85fb-4124-aca1-240d2831b312\" name=\"files[]\" multiple disabled\n",
              "        style=\"border:none\" />\n",
              "     <output id=\"result-5792f0c4-85fb-4124-aca1-240d2831b312\">\n",
              "      Upload widget is only available when the cell has been executed in the\n",
              "      current browser session. Please rerun this cell to enable.\n",
              "      </output>\n",
              "      <script src=\"/nbextensions/google.colab/files.js\"></script> "
            ],
            "text/plain": [
              "<IPython.core.display.HTML object>"
            ]
          },
          "metadata": {
            "tags": []
          }
        },
        {
          "output_type": "stream",
          "text": [
            "Saving salju_train.csv to salju_train.csv\n"
          ],
          "name": "stdout"
        }
      ]
    },
    {
      "cell_type": "code",
      "metadata": {
        "colab": {
          "base_uri": "https://localhost:8080/",
          "height": 439
        },
        "id": "XylV05lfpNT5",
        "outputId": "08343fd1-7db3-4877-da09-5c7de4c8aac9"
      },
      "source": [
        "datatrain = pd.read_csv(\"salju_train.csv\")\n",
        "datatrain"
      ],
      "execution_count": null,
      "outputs": [
        {
          "output_type": "execute_result",
          "data": {
            "text/html": [
              "<div>\n",
              "<style scoped>\n",
              "    .dataframe tbody tr th:only-of-type {\n",
              "        vertical-align: middle;\n",
              "    }\n",
              "\n",
              "    .dataframe tbody tr th {\n",
              "        vertical-align: top;\n",
              "    }\n",
              "\n",
              "    .dataframe thead th {\n",
              "        text-align: right;\n",
              "    }\n",
              "</style>\n",
              "<table border=\"1\" class=\"dataframe\">\n",
              "  <thead>\n",
              "    <tr style=\"text-align: right;\">\n",
              "      <th></th>\n",
              "      <th>id</th>\n",
              "      <th>Tanggal</th>\n",
              "      <th>KodeLokasi</th>\n",
              "      <th>SuhuMin</th>\n",
              "      <th>SuhuMax</th>\n",
              "      <th>Hujan</th>\n",
              "      <th>Penguapan</th>\n",
              "      <th>SinarMatahari</th>\n",
              "      <th>ArahAnginTerkencang</th>\n",
              "      <th>KecepatanAnginTerkencang</th>\n",
              "      <th>ArahAngin9am</th>\n",
              "      <th>ArahAngin3pm</th>\n",
              "      <th>KecepatanAngin9am</th>\n",
              "      <th>KecepatanAngin3pm</th>\n",
              "      <th>Kelembaban9am</th>\n",
              "      <th>Kelembaban3pm</th>\n",
              "      <th>Tekanan9am</th>\n",
              "      <th>Tekanan3pm</th>\n",
              "      <th>Awan9am</th>\n",
              "      <th>Awan3pm</th>\n",
              "      <th>Suhu9am</th>\n",
              "      <th>Suhu3pm</th>\n",
              "      <th>BersaljuHariIni</th>\n",
              "      <th>BersaljuBesok</th>\n",
              "    </tr>\n",
              "  </thead>\n",
              "  <tbody>\n",
              "    <tr>\n",
              "      <th>0</th>\n",
              "      <td>1</td>\n",
              "      <td>01/06/2014</td>\n",
              "      <td>C4</td>\n",
              "      <td>10.4</td>\n",
              "      <td>15.5</td>\n",
              "      <td>4.8</td>\n",
              "      <td>NaN</td>\n",
              "      <td>NaN</td>\n",
              "      <td>WSW</td>\n",
              "      <td>24.0</td>\n",
              "      <td>NaN</td>\n",
              "      <td>WSW</td>\n",
              "      <td>0.0</td>\n",
              "      <td>13.0</td>\n",
              "      <td>78.0</td>\n",
              "      <td>76.0</td>\n",
              "      <td>1020.1</td>\n",
              "      <td>1018.5</td>\n",
              "      <td>NaN</td>\n",
              "      <td>NaN</td>\n",
              "      <td>13.1</td>\n",
              "      <td>15.0</td>\n",
              "      <td>Ya</td>\n",
              "      <td>Tidak</td>\n",
              "    </tr>\n",
              "    <tr>\n",
              "      <th>1</th>\n",
              "      <td>2</td>\n",
              "      <td>15/07/2014</td>\n",
              "      <td>C10</td>\n",
              "      <td>9.0</td>\n",
              "      <td>17.0</td>\n",
              "      <td>8.0</td>\n",
              "      <td>2.6</td>\n",
              "      <td>7.4</td>\n",
              "      <td>NaN</td>\n",
              "      <td>NaN</td>\n",
              "      <td>SW</td>\n",
              "      <td>WNW</td>\n",
              "      <td>13.0</td>\n",
              "      <td>20.0</td>\n",
              "      <td>80.0</td>\n",
              "      <td>61.0</td>\n",
              "      <td>1015.2</td>\n",
              "      <td>1014.6</td>\n",
              "      <td>7.0</td>\n",
              "      <td>5.0</td>\n",
              "      <td>11.9</td>\n",
              "      <td>15.5</td>\n",
              "      <td>Ya</td>\n",
              "      <td>Ya</td>\n",
              "    </tr>\n",
              "    <tr>\n",
              "      <th>2</th>\n",
              "      <td>3</td>\n",
              "      <td>16/02/2011</td>\n",
              "      <td>C46</td>\n",
              "      <td>18.2</td>\n",
              "      <td>32.0</td>\n",
              "      <td>0.0</td>\n",
              "      <td>NaN</td>\n",
              "      <td>NaN</td>\n",
              "      <td>ESE</td>\n",
              "      <td>44.0</td>\n",
              "      <td>SE</td>\n",
              "      <td>SE</td>\n",
              "      <td>15.0</td>\n",
              "      <td>26.0</td>\n",
              "      <td>62.0</td>\n",
              "      <td>42.0</td>\n",
              "      <td>NaN</td>\n",
              "      <td>NaN</td>\n",
              "      <td>NaN</td>\n",
              "      <td>NaN</td>\n",
              "      <td>23.8</td>\n",
              "      <td>29.6</td>\n",
              "      <td>Tidak</td>\n",
              "      <td>Tidak</td>\n",
              "    </tr>\n",
              "    <tr>\n",
              "      <th>3</th>\n",
              "      <td>4</td>\n",
              "      <td>08/08/2012</td>\n",
              "      <td>C36</td>\n",
              "      <td>7.3</td>\n",
              "      <td>24.5</td>\n",
              "      <td>0.0</td>\n",
              "      <td>8.4</td>\n",
              "      <td>10.4</td>\n",
              "      <td>SSW</td>\n",
              "      <td>54.0</td>\n",
              "      <td>N</td>\n",
              "      <td>SW</td>\n",
              "      <td>13.0</td>\n",
              "      <td>19.0</td>\n",
              "      <td>25.0</td>\n",
              "      <td>17.0</td>\n",
              "      <td>1019.2</td>\n",
              "      <td>1016.9</td>\n",
              "      <td>1.0</td>\n",
              "      <td>7.0</td>\n",
              "      <td>15.3</td>\n",
              "      <td>23.2</td>\n",
              "      <td>Tidak</td>\n",
              "      <td>Tidak</td>\n",
              "    </tr>\n",
              "    <tr>\n",
              "      <th>4</th>\n",
              "      <td>5</td>\n",
              "      <td>29/10/2016</td>\n",
              "      <td>C7</td>\n",
              "      <td>5.9</td>\n",
              "      <td>20.3</td>\n",
              "      <td>0.0</td>\n",
              "      <td>3.6</td>\n",
              "      <td>12.6</td>\n",
              "      <td>N</td>\n",
              "      <td>37.0</td>\n",
              "      <td>NNW</td>\n",
              "      <td>ESE</td>\n",
              "      <td>22.0</td>\n",
              "      <td>19.0</td>\n",
              "      <td>55.0</td>\n",
              "      <td>48.0</td>\n",
              "      <td>1019.7</td>\n",
              "      <td>1014.7</td>\n",
              "      <td>2.0</td>\n",
              "      <td>6.0</td>\n",
              "      <td>12.4</td>\n",
              "      <td>18.1</td>\n",
              "      <td>Tidak</td>\n",
              "      <td>Tidak</td>\n",
              "    </tr>\n",
              "    <tr>\n",
              "      <th>...</th>\n",
              "      <td>...</td>\n",
              "      <td>...</td>\n",
              "      <td>...</td>\n",
              "      <td>...</td>\n",
              "      <td>...</td>\n",
              "      <td>...</td>\n",
              "      <td>...</td>\n",
              "      <td>...</td>\n",
              "      <td>...</td>\n",
              "      <td>...</td>\n",
              "      <td>...</td>\n",
              "      <td>...</td>\n",
              "      <td>...</td>\n",
              "      <td>...</td>\n",
              "      <td>...</td>\n",
              "      <td>...</td>\n",
              "      <td>...</td>\n",
              "      <td>...</td>\n",
              "      <td>...</td>\n",
              "      <td>...</td>\n",
              "      <td>...</td>\n",
              "      <td>...</td>\n",
              "      <td>...</td>\n",
              "      <td>...</td>\n",
              "    </tr>\n",
              "    <tr>\n",
              "      <th>109090</th>\n",
              "      <td>109091</td>\n",
              "      <td>31/01/2009</td>\n",
              "      <td>C38</td>\n",
              "      <td>20.1</td>\n",
              "      <td>23.7</td>\n",
              "      <td>0.0</td>\n",
              "      <td>7.2</td>\n",
              "      <td>8.9</td>\n",
              "      <td>ESE</td>\n",
              "      <td>43.0</td>\n",
              "      <td>SE</td>\n",
              "      <td>ESE</td>\n",
              "      <td>24.0</td>\n",
              "      <td>26.0</td>\n",
              "      <td>74.0</td>\n",
              "      <td>70.0</td>\n",
              "      <td>1019.3</td>\n",
              "      <td>1017.6</td>\n",
              "      <td>4.0</td>\n",
              "      <td>6.0</td>\n",
              "      <td>22.0</td>\n",
              "      <td>22.1</td>\n",
              "      <td>Tidak</td>\n",
              "      <td>Ya</td>\n",
              "    </tr>\n",
              "    <tr>\n",
              "      <th>109091</th>\n",
              "      <td>109092</td>\n",
              "      <td>03/11/2010</td>\n",
              "      <td>C16</td>\n",
              "      <td>15.7</td>\n",
              "      <td>25.2</td>\n",
              "      <td>0.0</td>\n",
              "      <td>NaN</td>\n",
              "      <td>NaN</td>\n",
              "      <td>SSE</td>\n",
              "      <td>37.0</td>\n",
              "      <td>SSE</td>\n",
              "      <td>E</td>\n",
              "      <td>28.0</td>\n",
              "      <td>19.0</td>\n",
              "      <td>52.0</td>\n",
              "      <td>52.0</td>\n",
              "      <td>1018.4</td>\n",
              "      <td>1016.2</td>\n",
              "      <td>NaN</td>\n",
              "      <td>NaN</td>\n",
              "      <td>23.8</td>\n",
              "      <td>24.4</td>\n",
              "      <td>Tidak</td>\n",
              "      <td>Ya</td>\n",
              "    </tr>\n",
              "    <tr>\n",
              "      <th>109092</th>\n",
              "      <td>109093</td>\n",
              "      <td>11/11/2010</td>\n",
              "      <td>C17</td>\n",
              "      <td>7.5</td>\n",
              "      <td>20.4</td>\n",
              "      <td>1.6</td>\n",
              "      <td>NaN</td>\n",
              "      <td>NaN</td>\n",
              "      <td>NW</td>\n",
              "      <td>33.0</td>\n",
              "      <td>N</td>\n",
              "      <td>NW</td>\n",
              "      <td>4.0</td>\n",
              "      <td>13.0</td>\n",
              "      <td>92.0</td>\n",
              "      <td>51.0</td>\n",
              "      <td>1014.5</td>\n",
              "      <td>1010.6</td>\n",
              "      <td>NaN</td>\n",
              "      <td>NaN</td>\n",
              "      <td>12.6</td>\n",
              "      <td>19.8</td>\n",
              "      <td>Ya</td>\n",
              "      <td>Tidak</td>\n",
              "    </tr>\n",
              "    <tr>\n",
              "      <th>109093</th>\n",
              "      <td>109094</td>\n",
              "      <td>16/04/2012</td>\n",
              "      <td>C11</td>\n",
              "      <td>10.8</td>\n",
              "      <td>29.8</td>\n",
              "      <td>0.0</td>\n",
              "      <td>7.8</td>\n",
              "      <td>11.2</td>\n",
              "      <td>E</td>\n",
              "      <td>48.0</td>\n",
              "      <td>ESE</td>\n",
              "      <td>SE</td>\n",
              "      <td>13.0</td>\n",
              "      <td>26.0</td>\n",
              "      <td>35.0</td>\n",
              "      <td>18.0</td>\n",
              "      <td>1020.0</td>\n",
              "      <td>1015.8</td>\n",
              "      <td>0.0</td>\n",
              "      <td>1.0</td>\n",
              "      <td>21.7</td>\n",
              "      <td>29.2</td>\n",
              "      <td>Tidak</td>\n",
              "      <td>Tidak</td>\n",
              "    </tr>\n",
              "    <tr>\n",
              "      <th>109094</th>\n",
              "      <td>109095</td>\n",
              "      <td>09/10/2011</td>\n",
              "      <td>C16</td>\n",
              "      <td>12.3</td>\n",
              "      <td>27.4</td>\n",
              "      <td>9.0</td>\n",
              "      <td>NaN</td>\n",
              "      <td>NaN</td>\n",
              "      <td>WNW</td>\n",
              "      <td>35.0</td>\n",
              "      <td>NNE</td>\n",
              "      <td>NE</td>\n",
              "      <td>11.0</td>\n",
              "      <td>15.0</td>\n",
              "      <td>71.0</td>\n",
              "      <td>76.0</td>\n",
              "      <td>1010.4</td>\n",
              "      <td>1005.4</td>\n",
              "      <td>NaN</td>\n",
              "      <td>NaN</td>\n",
              "      <td>20.4</td>\n",
              "      <td>23.3</td>\n",
              "      <td>Ya</td>\n",
              "      <td>Tidak</td>\n",
              "    </tr>\n",
              "  </tbody>\n",
              "</table>\n",
              "<p>109095 rows × 24 columns</p>\n",
              "</div>"
            ],
            "text/plain": [
              "            id     Tanggal KodeLokasi  ...  Suhu3pm  BersaljuHariIni  BersaljuBesok\n",
              "0            1  01/06/2014         C4  ...     15.0               Ya          Tidak\n",
              "1            2  15/07/2014        C10  ...     15.5               Ya             Ya\n",
              "2            3  16/02/2011        C46  ...     29.6            Tidak          Tidak\n",
              "3            4  08/08/2012        C36  ...     23.2            Tidak          Tidak\n",
              "4            5  29/10/2016         C7  ...     18.1            Tidak          Tidak\n",
              "...        ...         ...        ...  ...      ...              ...            ...\n",
              "109090  109091  31/01/2009        C38  ...     22.1            Tidak             Ya\n",
              "109091  109092  03/11/2010        C16  ...     24.4            Tidak             Ya\n",
              "109092  109093  11/11/2010        C17  ...     19.8               Ya          Tidak\n",
              "109093  109094  16/04/2012        C11  ...     29.2            Tidak          Tidak\n",
              "109094  109095  09/10/2011        C16  ...     23.3               Ya          Tidak\n",
              "\n",
              "[109095 rows x 24 columns]"
            ]
          },
          "metadata": {
            "tags": []
          },
          "execution_count": 55
        }
      ]
    },
    {
      "cell_type": "code",
      "metadata": {
        "colab": {
          "resources": {
            "http://localhost:8080/nbextensions/google.colab/files.js": {
              "data": "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",
              "ok": true,
              "headers": [
                [
                  "content-type",
                  "application/javascript"
                ]
              ],
              "status": 200,
              "status_text": ""
            }
          },
          "base_uri": "https://localhost:8080/",
          "height": 72
        },
        "id": "ydaoCgn3vDaD",
        "outputId": "adc3b567-8026-4cfd-d6e9-f1b1da36a15b"
      },
      "source": [
        "from google.colab import files\n",
        "uploaded = files.upload()"
      ],
      "execution_count": null,
      "outputs": [
        {
          "output_type": "display_data",
          "data": {
            "text/html": [
              "\n",
              "     <input type=\"file\" id=\"files-2be97280-695f-401c-83a6-6bbf080e0f9b\" name=\"files[]\" multiple disabled\n",
              "        style=\"border:none\" />\n",
              "     <output id=\"result-2be97280-695f-401c-83a6-6bbf080e0f9b\">\n",
              "      Upload widget is only available when the cell has been executed in the\n",
              "      current browser session. Please rerun this cell to enable.\n",
              "      </output>\n",
              "      <script src=\"/nbextensions/google.colab/files.js\"></script> "
            ],
            "text/plain": [
              "<IPython.core.display.HTML object>"
            ]
          },
          "metadata": {
            "tags": []
          }
        },
        {
          "output_type": "stream",
          "text": [
            "Saving salju_test.csv to salju_test (1).csv\n"
          ],
          "name": "stdout"
        }
      ]
    },
    {
      "cell_type": "code",
      "metadata": {
        "colab": {
          "base_uri": "https://localhost:8080/",
          "height": 439
        },
        "id": "VLsVCZwQvQ4q",
        "outputId": "d28f7cf9-07f8-4fb9-a77d-997fae03815d"
      },
      "source": [
        "datatest = pd.read_csv(\"salju_test.csv\")\n",
        "datatest"
      ],
      "execution_count": null,
      "outputs": [
        {
          "output_type": "execute_result",
          "data": {
            "text/html": [
              "<div>\n",
              "<style scoped>\n",
              "    .dataframe tbody tr th:only-of-type {\n",
              "        vertical-align: middle;\n",
              "    }\n",
              "\n",
              "    .dataframe tbody tr th {\n",
              "        vertical-align: top;\n",
              "    }\n",
              "\n",
              "    .dataframe thead th {\n",
              "        text-align: right;\n",
              "    }\n",
              "</style>\n",
              "<table border=\"1\" class=\"dataframe\">\n",
              "  <thead>\n",
              "    <tr style=\"text-align: right;\">\n",
              "      <th></th>\n",
              "      <th>Tanggal</th>\n",
              "      <th>KodeLokasi</th>\n",
              "      <th>SuhuMin</th>\n",
              "      <th>SuhuMax</th>\n",
              "      <th>Hujan</th>\n",
              "      <th>Penguapan</th>\n",
              "      <th>SinarMatahari</th>\n",
              "      <th>ArahAnginTerkencang</th>\n",
              "      <th>KecepatanAnginTerkencang</th>\n",
              "      <th>ArahAngin9am</th>\n",
              "      <th>ArahAngin3pm</th>\n",
              "      <th>KecepatanAngin9am</th>\n",
              "      <th>KecepatanAngin3pm</th>\n",
              "      <th>Kelembaban9am</th>\n",
              "      <th>Kelembaban3pm</th>\n",
              "      <th>Tekanan9am</th>\n",
              "      <th>Tekanan3pm</th>\n",
              "      <th>Awan9am</th>\n",
              "      <th>Awan3pm</th>\n",
              "      <th>Suhu9am</th>\n",
              "      <th>Suhu3pm</th>\n",
              "      <th>BersaljuHariIni</th>\n",
              "      <th>BersaljuBesok</th>\n",
              "    </tr>\n",
              "  </thead>\n",
              "  <tbody>\n",
              "    <tr>\n",
              "      <th>0</th>\n",
              "      <td>04/11/2010</td>\n",
              "      <td>C39</td>\n",
              "      <td>11.0</td>\n",
              "      <td>27.5</td>\n",
              "      <td>0.0</td>\n",
              "      <td>NaN</td>\n",
              "      <td>6.4</td>\n",
              "      <td>WSW</td>\n",
              "      <td>46.0</td>\n",
              "      <td>W</td>\n",
              "      <td>W</td>\n",
              "      <td>20.0</td>\n",
              "      <td>28.0</td>\n",
              "      <td>39.0</td>\n",
              "      <td>56.0</td>\n",
              "      <td>1013.0</td>\n",
              "      <td>1012.4</td>\n",
              "      <td>4.0</td>\n",
              "      <td>7.0</td>\n",
              "      <td>25.7</td>\n",
              "      <td>23.6</td>\n",
              "      <td>No</td>\n",
              "      <td>No</td>\n",
              "    </tr>\n",
              "    <tr>\n",
              "      <th>1</th>\n",
              "      <td>26/03/2015</td>\n",
              "      <td>C35</td>\n",
              "      <td>10.0</td>\n",
              "      <td>19.9</td>\n",
              "      <td>0.2</td>\n",
              "      <td>NaN</td>\n",
              "      <td>NaN</td>\n",
              "      <td>WNW</td>\n",
              "      <td>56.0</td>\n",
              "      <td>W</td>\n",
              "      <td>NW</td>\n",
              "      <td>24.0</td>\n",
              "      <td>33.0</td>\n",
              "      <td>76.0</td>\n",
              "      <td>32.0</td>\n",
              "      <td>1017.0</td>\n",
              "      <td>1015.2</td>\n",
              "      <td>8.0</td>\n",
              "      <td>1.0</td>\n",
              "      <td>10.7</td>\n",
              "      <td>18.9</td>\n",
              "      <td>No</td>\n",
              "      <td>Yes</td>\n",
              "    </tr>\n",
              "    <tr>\n",
              "      <th>2</th>\n",
              "      <td>22/03/2016</td>\n",
              "      <td>C18</td>\n",
              "      <td>9.2</td>\n",
              "      <td>27.2</td>\n",
              "      <td>0.0</td>\n",
              "      <td>5.2</td>\n",
              "      <td>10.4</td>\n",
              "      <td>SSW</td>\n",
              "      <td>33.0</td>\n",
              "      <td>NE</td>\n",
              "      <td>N</td>\n",
              "      <td>13.0</td>\n",
              "      <td>19.0</td>\n",
              "      <td>89.0</td>\n",
              "      <td>27.0</td>\n",
              "      <td>1018.6</td>\n",
              "      <td>1015.7</td>\n",
              "      <td>0.0</td>\n",
              "      <td>1.0</td>\n",
              "      <td>13.9</td>\n",
              "      <td>26.3</td>\n",
              "      <td>No</td>\n",
              "      <td>No</td>\n",
              "    </tr>\n",
              "    <tr>\n",
              "      <th>3</th>\n",
              "      <td>09/12/2011</td>\n",
              "      <td>C31</td>\n",
              "      <td>17.7</td>\n",
              "      <td>27.0</td>\n",
              "      <td>0.0</td>\n",
              "      <td>4.6</td>\n",
              "      <td>6.7</td>\n",
              "      <td>SW</td>\n",
              "      <td>35.0</td>\n",
              "      <td>E</td>\n",
              "      <td>SSE</td>\n",
              "      <td>20.0</td>\n",
              "      <td>15.0</td>\n",
              "      <td>55.0</td>\n",
              "      <td>41.0</td>\n",
              "      <td>1010.2</td>\n",
              "      <td>1008.6</td>\n",
              "      <td>7.0</td>\n",
              "      <td>6.0</td>\n",
              "      <td>22.3</td>\n",
              "      <td>26.4</td>\n",
              "      <td>No</td>\n",
              "      <td>No</td>\n",
              "    </tr>\n",
              "    <tr>\n",
              "      <th>4</th>\n",
              "      <td>20/05/2017</td>\n",
              "      <td>C14</td>\n",
              "      <td>2.3</td>\n",
              "      <td>7.9</td>\n",
              "      <td>88.0</td>\n",
              "      <td>NaN</td>\n",
              "      <td>NaN</td>\n",
              "      <td>NW</td>\n",
              "      <td>46.0</td>\n",
              "      <td>W</td>\n",
              "      <td>WNW</td>\n",
              "      <td>13.0</td>\n",
              "      <td>9.0</td>\n",
              "      <td>98.0</td>\n",
              "      <td>95.0</td>\n",
              "      <td>NaN</td>\n",
              "      <td>NaN</td>\n",
              "      <td>NaN</td>\n",
              "      <td>NaN</td>\n",
              "      <td>4.4</td>\n",
              "      <td>6.0</td>\n",
              "      <td>Yes</td>\n",
              "      <td>No</td>\n",
              "    </tr>\n",
              "    <tr>\n",
              "      <th>...</th>\n",
              "      <td>...</td>\n",
              "      <td>...</td>\n",
              "      <td>...</td>\n",
              "      <td>...</td>\n",
              "      <td>...</td>\n",
              "      <td>...</td>\n",
              "      <td>...</td>\n",
              "      <td>...</td>\n",
              "      <td>...</td>\n",
              "      <td>...</td>\n",
              "      <td>...</td>\n",
              "      <td>...</td>\n",
              "      <td>...</td>\n",
              "      <td>...</td>\n",
              "      <td>...</td>\n",
              "      <td>...</td>\n",
              "      <td>...</td>\n",
              "      <td>...</td>\n",
              "      <td>...</td>\n",
              "      <td>...</td>\n",
              "      <td>...</td>\n",
              "      <td>...</td>\n",
              "      <td>...</td>\n",
              "    </tr>\n",
              "    <tr>\n",
              "      <th>18177</th>\n",
              "      <td>14/11/2012</td>\n",
              "      <td>C40</td>\n",
              "      <td>7.8</td>\n",
              "      <td>25.8</td>\n",
              "      <td>0.0</td>\n",
              "      <td>8.0</td>\n",
              "      <td>13.2</td>\n",
              "      <td>NE</td>\n",
              "      <td>31.0</td>\n",
              "      <td>ENE</td>\n",
              "      <td>NW</td>\n",
              "      <td>22.0</td>\n",
              "      <td>13.0</td>\n",
              "      <td>59.0</td>\n",
              "      <td>21.0</td>\n",
              "      <td>1017.1</td>\n",
              "      <td>1014.2</td>\n",
              "      <td>6.0</td>\n",
              "      <td>1.0</td>\n",
              "      <td>16.8</td>\n",
              "      <td>24.0</td>\n",
              "      <td>No</td>\n",
              "      <td>No</td>\n",
              "    </tr>\n",
              "    <tr>\n",
              "      <th>18178</th>\n",
              "      <td>24/10/2015</td>\n",
              "      <td>C40</td>\n",
              "      <td>12.4</td>\n",
              "      <td>26.6</td>\n",
              "      <td>0.0</td>\n",
              "      <td>8.0</td>\n",
              "      <td>11.6</td>\n",
              "      <td>NW</td>\n",
              "      <td>37.0</td>\n",
              "      <td>NE</td>\n",
              "      <td>WNW</td>\n",
              "      <td>17.0</td>\n",
              "      <td>20.0</td>\n",
              "      <td>59.0</td>\n",
              "      <td>25.0</td>\n",
              "      <td>1022.2</td>\n",
              "      <td>1018.7</td>\n",
              "      <td>1.0</td>\n",
              "      <td>1.0</td>\n",
              "      <td>17.1</td>\n",
              "      <td>25.7</td>\n",
              "      <td>No</td>\n",
              "      <td>No</td>\n",
              "    </tr>\n",
              "    <tr>\n",
              "      <th>18179</th>\n",
              "      <td>31/08/2010</td>\n",
              "      <td>C21</td>\n",
              "      <td>6.7</td>\n",
              "      <td>22.9</td>\n",
              "      <td>0.0</td>\n",
              "      <td>NaN</td>\n",
              "      <td>NaN</td>\n",
              "      <td>NaN</td>\n",
              "      <td>NaN</td>\n",
              "      <td>NaN</td>\n",
              "      <td>NW</td>\n",
              "      <td>0.0</td>\n",
              "      <td>4.0</td>\n",
              "      <td>84.0</td>\n",
              "      <td>35.0</td>\n",
              "      <td>NaN</td>\n",
              "      <td>NaN</td>\n",
              "      <td>1.0</td>\n",
              "      <td>2.0</td>\n",
              "      <td>11.8</td>\n",
              "      <td>22.0</td>\n",
              "      <td>No</td>\n",
              "      <td>No</td>\n",
              "    </tr>\n",
              "    <tr>\n",
              "      <th>18180</th>\n",
              "      <td>24/08/2013</td>\n",
              "      <td>C12</td>\n",
              "      <td>12.5</td>\n",
              "      <td>26.7</td>\n",
              "      <td>0.0</td>\n",
              "      <td>9.0</td>\n",
              "      <td>10.8</td>\n",
              "      <td>NE</td>\n",
              "      <td>35.0</td>\n",
              "      <td>SW</td>\n",
              "      <td>ENE</td>\n",
              "      <td>2.0</td>\n",
              "      <td>26.0</td>\n",
              "      <td>56.0</td>\n",
              "      <td>45.0</td>\n",
              "      <td>1021.9</td>\n",
              "      <td>1018.1</td>\n",
              "      <td>5.0</td>\n",
              "      <td>5.0</td>\n",
              "      <td>22.9</td>\n",
              "      <td>25.4</td>\n",
              "      <td>No</td>\n",
              "      <td>No</td>\n",
              "    </tr>\n",
              "    <tr>\n",
              "      <th>18181</th>\n",
              "      <td>26/10/2011</td>\n",
              "      <td>C22</td>\n",
              "      <td>12.3</td>\n",
              "      <td>15.9</td>\n",
              "      <td>8.2</td>\n",
              "      <td>NaN</td>\n",
              "      <td>NaN</td>\n",
              "      <td>SE</td>\n",
              "      <td>31.0</td>\n",
              "      <td>SW</td>\n",
              "      <td>SSE</td>\n",
              "      <td>15.0</td>\n",
              "      <td>15.0</td>\n",
              "      <td>87.0</td>\n",
              "      <td>74.0</td>\n",
              "      <td>NaN</td>\n",
              "      <td>NaN</td>\n",
              "      <td>NaN</td>\n",
              "      <td>NaN</td>\n",
              "      <td>13.8</td>\n",
              "      <td>15.4</td>\n",
              "      <td>Yes</td>\n",
              "      <td>Yes</td>\n",
              "    </tr>\n",
              "  </tbody>\n",
              "</table>\n",
              "<p>18182 rows × 23 columns</p>\n",
              "</div>"
            ],
            "text/plain": [
              "          Tanggal KodeLokasi  SuhuMin  ...  Suhu3pm  BersaljuHariIni  BersaljuBesok\n",
              "0      04/11/2010        C39     11.0  ...     23.6               No             No\n",
              "1      26/03/2015        C35     10.0  ...     18.9               No            Yes\n",
              "2      22/03/2016        C18      9.2  ...     26.3               No             No\n",
              "3      09/12/2011        C31     17.7  ...     26.4               No             No\n",
              "4      20/05/2017        C14      2.3  ...      6.0              Yes             No\n",
              "...           ...        ...      ...  ...      ...              ...            ...\n",
              "18177  14/11/2012        C40      7.8  ...     24.0               No             No\n",
              "18178  24/10/2015        C40     12.4  ...     25.7               No             No\n",
              "18179  31/08/2010        C21      6.7  ...     22.0               No             No\n",
              "18180  24/08/2013        C12     12.5  ...     25.4               No             No\n",
              "18181  26/10/2011        C22     12.3  ...     15.4              Yes            Yes\n",
              "\n",
              "[18182 rows x 23 columns]"
            ]
          },
          "metadata": {
            "tags": []
          },
          "execution_count": 57
        }
      ]
    },
    {
      "cell_type": "code",
      "metadata": {
        "id": "GfcfSkyoztT5"
      },
      "source": [
        "# Mengganti nama kolom \"BersaljuBesok\" menjadi \"Class\" pada datatest\n",
        "datatest.rename(columns={'BersaljuBesok':'Class'}, inplace=True)\n",
        "\n",
        "# Mengganti nama kolom 'BersaljuBesok' menjadi 'Class' pada datatrain\n",
        "datatrain.rename(columns={'BersaljuBesok':'Class'}, inplace=True)"
      ],
      "execution_count": null,
      "outputs": []
    },
    {
      "cell_type": "markdown",
      "metadata": {
        "id": "bFI1sKLWys8w"
      },
      "source": [
        "# Data Pre Processing (Raw Data)"
      ]
    },
    {
      "cell_type": "code",
      "metadata": {
        "id": "Bya8xQqr2Vch"
      },
      "source": [
        "#drop kolom yang tidak diperlukan pada datatrain\n",
        "datatrain = datatrain.drop(columns=['id'])"
      ],
      "execution_count": null,
      "outputs": []
    },
    {
      "cell_type": "code",
      "metadata": {
        "colab": {
          "base_uri": "https://localhost:8080/"
        },
        "id": "5H8Jk5Uh4Lxv",
        "outputId": "b55ec9e7-5cb1-427d-a09a-47c8a12749c9"
      },
      "source": [
        "#menampilkan jumlah data pada kolom class pada datatest\n",
        "datatest['Class'].value_counts()"
      ],
      "execution_count": null,
      "outputs": [
        {
          "output_type": "execute_result",
          "data": {
            "text/plain": [
              "No     13824\n",
              "Yes     3939\n",
              "Name: Class, dtype: int64"
            ]
          },
          "metadata": {
            "tags": []
          },
          "execution_count": 60
        }
      ]
    },
    {
      "cell_type": "code",
      "metadata": {
        "colab": {
          "base_uri": "https://localhost:8080/"
        },
        "id": "u-PfqSf-4cVb",
        "outputId": "d171e2d4-db38-451b-ad57-4e8400d365ec"
      },
      "source": [
        "#menampilkan jumlah data pada kolom class pada datatrain\n",
        "datatrain['Class'].value_counts()"
      ],
      "execution_count": null,
      "outputs": [
        {
          "output_type": "execute_result",
          "data": {
            "text/plain": [
              "Tidak    82701\n",
              "Ya       23963\n",
              "Name: Class, dtype: int64"
            ]
          },
          "metadata": {
            "tags": []
          },
          "execution_count": 61
        }
      ]
    },
    {
      "cell_type": "code",
      "metadata": {
        "colab": {
          "base_uri": "https://localhost:8080/",
          "height": 333
        },
        "id": "tgDNlCSt45r-",
        "outputId": "ec7706a5-15d2-422f-f32c-de24f178d3ad"
      },
      "source": [
        "# Memvisualisasi data pada kolom 'Class' pada datatrain\n",
        "train_plot = sns.countplot(datatrain['Class'])\n",
        "train_plot.set_xticklabels(['Tidak','Ya'])\n",
        "plt.show()"
      ],
      "execution_count": null,
      "outputs": [
        {
          "output_type": "stream",
          "text": [
            "/usr/local/lib/python3.7/dist-packages/seaborn/_decorators.py:43: FutureWarning: Pass the following variable as a keyword arg: x. From version 0.12, the only valid positional argument will be `data`, and passing other arguments without an explicit keyword will result in an error or misinterpretation.\n",
            "  FutureWarning\n"
          ],
          "name": "stderr"
        },
        {
          "output_type": "display_data",
          "data": {
            "image/png": "[encoded data removed]",
            "text/plain": [
              "<Figure size 432x288 with 1 Axes>"
            ]
          },
          "metadata": {
            "tags": [],
            "needs_background": "light"
          }
        }
      ]
    },
    {
      "cell_type": "code",
      "metadata": {
        "colab": {
          "base_uri": "https://localhost:8080/",
          "height": 333
        },
        "id": "DLRx9pfz5Yue",
        "outputId": "7ebf6993-9f99-4af5-ab5f-dc03ab71a207"
      },
      "source": [
        "# Memvisualisasi data pada kolom 'Class' pada datatest\n",
        "train_plot = sns.countplot(datatest['Class'])\n",
        "train_plot.set_xticklabels(['Tidak','Ya'])\n",
        "plt.show()"
      ],
      "execution_count": null,
      "outputs": [
        {
          "output_type": "stream",
          "text": [
            "/usr/local/lib/python3.7/dist-packages/seaborn/_decorators.py:43: FutureWarning: Pass the following variable as a keyword arg: x. From version 0.12, the only valid positional argument will be `data`, and passing other arguments without an explicit keyword will result in an error or misinterpretation.\n",
            "  FutureWarning\n"
          ],
          "name": "stderr"
        },
        {
          "output_type": "display_data",
          "data": {
            "image/png": "[encoded data removed]",
            "text/plain": [
              "<Figure size 432x288 with 1 Axes>"
            ]
          },
          "metadata": {
            "tags": [],
            "needs_background": "light"
          }
        }
      ]
    },
    {
      "cell_type": "markdown",
      "metadata": {
        "id": "gwv_nIM15rXT"
      },
      "source": [
        "##Data preprocessing untuk data train"
      ]
    },
    {
      "cell_type": "code",
      "metadata": {
        "colab": {
          "base_uri": "https://localhost:8080/"
        },
        "id": "fzitmErj5tSr",
        "outputId": "407fd5ca-d8c1-4845-b8b2-41069bb17746"
      },
      "source": [
        "train_0 = datatrain[datatrain['Class'] == 'Tidak']\n",
        "train_1 = datatrain[datatrain['Class'] == 'Ya']\n",
        "\n",
        "print(\"Class 0 :\", train_0.shape)\n",
        "print(\"Class 1 :\", train_1.shape)"
      ],
      "execution_count": null,
      "outputs": [
        {
          "output_type": "stream",
          "text": [
            "Class 0 : (82701, 23)\n",
            "Class 1 : (23963, 23)\n"
          ],
          "name": "stdout"
        }
      ]
    },
    {
      "cell_type": "markdown",
      "metadata": {
        "id": "rGX5m-gW6Qth"
      },
      "source": [
        "\n",
        "\n",
        "> Oversampling Data\n",
        "\n"
      ]
    },
    {
      "cell_type": "code",
      "metadata": {
        "colab": {
          "base_uri": "https://localhost:8080/"
        },
        "id": "IhhbHAdb6W2b",
        "outputId": "5a948abb-1b66-49c7-da35-9569f3cb11ae"
      },
      "source": [
        "train_count_0, train_count_1 = datatrain['Class'].value_counts()\n",
        "train_1_over = train_1.sample(train_count_0, replace = True)\n",
        "\n",
        "salju_train_sampling = pd.concat([train_1_over, train_0], axis=0)\n",
        "\n",
        "print(\"Total Class 1 and 0 :\", salju_train_sampling['Class'].value_counts())"
      ],
      "execution_count": null,
      "outputs": [
        {
          "output_type": "stream",
          "text": [
            "Total Class 1 and 0 : Ya       82701\n",
            "Tidak    82701\n",
            "Name: Class, dtype: int64\n"
          ],
          "name": "stdout"
        }
      ]
    },
    {
      "cell_type": "code",
      "metadata": {
        "colab": {
          "base_uri": "https://localhost:8080/"
        },
        "id": "Pm7qaX1R7DtH",
        "outputId": "5c4d0450-a3ba-4210-c506-6b22cc84a797"
      },
      "source": [
        "# Mengecek missing values\n",
        "salju_train_sampling.isnull().sum()"
      ],
      "execution_count": null,
      "outputs": [
        {
          "output_type": "execute_result",
          "data": {
            "text/plain": [
              "Tanggal                         0\n",
              "KodeLokasi                      0\n",
              "SuhuMin                       786\n",
              "SuhuMax                       323\n",
              "Hujan                        2263\n",
              "Penguapan                   71275\n",
              "SinarMatahari               78527\n",
              "ArahAnginTerkencang         11533\n",
              "KecepatanAnginTerkencang    11434\n",
              "ArahAngin9am                10945\n",
              "ArahAngin3pm                 4819\n",
              "KecepatanAngin9am            1642\n",
              "KecepatanAngin3pm            3233\n",
              "Kelembaban9am                2284\n",
              "Kelembaban3pm                4486\n",
              "Tekanan9am                  16322\n",
              "Tekanan3pm                  16350\n",
              "Awan9am                     60980\n",
              "Awan3pm                     64214\n",
              "Suhu9am                      1209\n",
              "Suhu3pm                      3412\n",
              "BersaljuHariIni              2263\n",
              "Class                           0\n",
              "dtype: int64"
            ]
          },
          "metadata": {
            "tags": []
          },
          "execution_count": 66
        }
      ]
    },
    {
      "cell_type": "code",
      "metadata": {
        "id": "L0qFX4x47JsP"
      },
      "source": [
        "# Mengatasi Missing Values\n",
        "salju_train_sampling.fillna(salju_train_sampling.median(), inplace=True)  \n",
        "# Nilai Numeric diisi dengan nilai median              \n",
        "\n",
        "salju_train_sampling = salju_train_sampling.fillna(salju_train_sampling.mode().iloc[0]) \n",
        "# Nilai String diisi dengan nilai modus"
      ],
      "execution_count": null,
      "outputs": []
    },
    {
      "cell_type": "code",
      "metadata": {
        "colab": {
          "base_uri": "https://localhost:8080/"
        },
        "id": "ux5LXZup7ZY0",
        "outputId": "818b5805-61cf-4871-99bb-f385d6aee29a"
      },
      "source": [
        "# Mengecek missing values\n",
        "salju_train_sampling.isnull().sum()"
      ],
      "execution_count": null,
      "outputs": [
        {
          "output_type": "execute_result",
          "data": {
            "text/plain": [
              "Tanggal                     0\n",
              "KodeLokasi                  0\n",
              "SuhuMin                     0\n",
              "SuhuMax                     0\n",
              "Hujan                       0\n",
              "Penguapan                   0\n",
              "SinarMatahari               0\n",
              "ArahAnginTerkencang         0\n",
              "KecepatanAnginTerkencang    0\n",
              "ArahAngin9am                0\n",
              "ArahAngin3pm                0\n",
              "KecepatanAngin9am           0\n",
              "KecepatanAngin3pm           0\n",
              "Kelembaban9am               0\n",
              "Kelembaban3pm               0\n",
              "Tekanan9am                  0\n",
              "Tekanan3pm                  0\n",
              "Awan9am                     0\n",
              "Awan3pm                     0\n",
              "Suhu9am                     0\n",
              "Suhu3pm                     0\n",
              "BersaljuHariIni             0\n",
              "Class                       0\n",
              "dtype: int64"
            ]
          },
          "metadata": {
            "tags": []
          },
          "execution_count": 68
        }
      ]
    },
    {
      "cell_type": "markdown",
      "metadata": {
        "id": "8IJbm8iS76dO"
      },
      "source": [
        "\n",
        "\n",
        "> Menentukan Fitur Categorical\n",
        "\n"
      ]
    },
    {
      "cell_type": "code",
      "metadata": {
        "id": "ifld68jw70xL"
      },
      "source": [
        "numerics = ['int8', 'int16', 'int32', 'int64', 'float16', 'float32', 'float64']\n",
        "categorical_columns = []\n",
        "features = salju_train_sampling.columns.values.tolist()\n",
        "for col in features:\n",
        "    if salju_train_sampling[col].dtype in numerics: continue\n",
        "    categorical_columns.append(col)  "
      ],
      "execution_count": null,
      "outputs": []
    },
    {
      "cell_type": "markdown",
      "metadata": {
        "id": "K4V0C8nD8HFz"
      },
      "source": [
        "\n",
        "\n",
        "> Encoding Fitur Categorical\n",
        "\n"
      ]
    },
    {
      "cell_type": "code",
      "metadata": {
        "id": "KrQCv-gC8Jzw"
      },
      "source": [
        "for col in categorical_columns:\n",
        "    if col in salju_train_sampling.columns:\n",
        "        enco = LabelEncoder()\n",
        "        enco.fit(list(salju_train_sampling[col].astype(str).values))\n",
        "        salju_train_sampling[col] = enco.transform(list(salju_train_sampling[col].astype(str).values))"
      ],
      "execution_count": null,
      "outputs": []
    },
    {
      "cell_type": "code",
      "metadata": {
        "colab": {
          "base_uri": "https://localhost:8080/",
          "height": 224
        },
        "id": "qUVQLG05-9GI",
        "outputId": "99465ada-232d-4fd2-c87d-66faa6d15402"
      },
      "source": [
        "salju_train_sampling.head()"
      ],
      "execution_count": null,
      "outputs": [
        {
          "output_type": "execute_result",
          "data": {
            "text/html": [
              "<div>\n",
              "<style scoped>\n",
              "    .dataframe tbody tr th:only-of-type {\n",
              "        vertical-align: middle;\n",
              "    }\n",
              "\n",
              "    .dataframe tbody tr th {\n",
              "        vertical-align: top;\n",
              "    }\n",
              "\n",
              "    .dataframe thead th {\n",
              "        text-align: right;\n",
              "    }\n",
              "</style>\n",
              "<table border=\"1\" class=\"dataframe\">\n",
              "  <thead>\n",
              "    <tr style=\"text-align: right;\">\n",
              "      <th></th>\n",
              "      <th>Tanggal</th>\n",
              "      <th>KodeLokasi</th>\n",
              "      <th>SuhuMin</th>\n",
              "      <th>SuhuMax</th>\n",
              "      <th>Hujan</th>\n",
              "      <th>Penguapan</th>\n",
              "      <th>SinarMatahari</th>\n",
              "      <th>ArahAnginTerkencang</th>\n",
              "      <th>KecepatanAnginTerkencang</th>\n",
              "      <th>ArahAngin9am</th>\n",
              "      <th>ArahAngin3pm</th>\n",
              "      <th>KecepatanAngin9am</th>\n",
              "      <th>KecepatanAngin3pm</th>\n",
              "      <th>Kelembaban9am</th>\n",
              "      <th>Kelembaban3pm</th>\n",
              "      <th>Tekanan9am</th>\n",
              "      <th>Tekanan3pm</th>\n",
              "      <th>Awan9am</th>\n",
              "      <th>Awan3pm</th>\n",
              "      <th>Suhu9am</th>\n",
              "      <th>Suhu3pm</th>\n",
              "      <th>BersaljuHariIni</th>\n",
              "      <th>Class</th>\n",
              "    </tr>\n",
              "  </thead>\n",
              "  <tbody>\n",
              "    <tr>\n",
              "      <th>75745</th>\n",
              "      <td>419</td>\n",
              "      <td>26</td>\n",
              "      <td>3.0</td>\n",
              "      <td>17.1</td>\n",
              "      <td>0.0</td>\n",
              "      <td>4.4</td>\n",
              "      <td>6.9</td>\n",
              "      <td>6</td>\n",
              "      <td>50.0</td>\n",
              "      <td>3</td>\n",
              "      <td>14</td>\n",
              "      <td>9.0</td>\n",
              "      <td>22.0</td>\n",
              "      <td>84.0</td>\n",
              "      <td>93.0</td>\n",
              "      <td>1015.0</td>\n",
              "      <td>1012.4</td>\n",
              "      <td>6.0</td>\n",
              "      <td>6.0</td>\n",
              "      <td>12.6</td>\n",
              "      <td>14.7</td>\n",
              "      <td>0</td>\n",
              "      <td>1</td>\n",
              "    </tr>\n",
              "    <tr>\n",
              "      <th>108371</th>\n",
              "      <td>1849</td>\n",
              "      <td>34</td>\n",
              "      <td>6.2</td>\n",
              "      <td>15.3</td>\n",
              "      <td>4.2</td>\n",
              "      <td>1.8</td>\n",
              "      <td>6.9</td>\n",
              "      <td>5</td>\n",
              "      <td>33.0</td>\n",
              "      <td>6</td>\n",
              "      <td>6</td>\n",
              "      <td>11.0</td>\n",
              "      <td>11.0</td>\n",
              "      <td>93.0</td>\n",
              "      <td>87.0</td>\n",
              "      <td>1015.7</td>\n",
              "      <td>1014.1</td>\n",
              "      <td>8.0</td>\n",
              "      <td>8.0</td>\n",
              "      <td>12.2</td>\n",
              "      <td>14.9</td>\n",
              "      <td>1</td>\n",
              "      <td>1</td>\n",
              "    </tr>\n",
              "    <tr>\n",
              "      <th>79848</th>\n",
              "      <td>3314</td>\n",
              "      <td>37</td>\n",
              "      <td>6.1</td>\n",
              "      <td>12.5</td>\n",
              "      <td>3.4</td>\n",
              "      <td>1.2</td>\n",
              "      <td>5.2</td>\n",
              "      <td>8</td>\n",
              "      <td>41.0</td>\n",
              "      <td>5</td>\n",
              "      <td>3</td>\n",
              "      <td>7.0</td>\n",
              "      <td>11.0</td>\n",
              "      <td>99.0</td>\n",
              "      <td>92.0</td>\n",
              "      <td>1003.1</td>\n",
              "      <td>999.1</td>\n",
              "      <td>6.0</td>\n",
              "      <td>6.0</td>\n",
              "      <td>9.2</td>\n",
              "      <td>11.6</td>\n",
              "      <td>1</td>\n",
              "      <td>1</td>\n",
              "    </tr>\n",
              "    <tr>\n",
              "      <th>15317</th>\n",
              "      <td>1791</td>\n",
              "      <td>45</td>\n",
              "      <td>25.2</td>\n",
              "      <td>31.3</td>\n",
              "      <td>11.8</td>\n",
              "      <td>3.8</td>\n",
              "      <td>3.2</td>\n",
              "      <td>12</td>\n",
              "      <td>37.0</td>\n",
              "      <td>6</td>\n",
              "      <td>10</td>\n",
              "      <td>11.0</td>\n",
              "      <td>6.0</td>\n",
              "      <td>76.0</td>\n",
              "      <td>78.0</td>\n",
              "      <td>1007.9</td>\n",
              "      <td>1005.2</td>\n",
              "      <td>7.0</td>\n",
              "      <td>7.0</td>\n",
              "      <td>29.9</td>\n",
              "      <td>28.7</td>\n",
              "      <td>1</td>\n",
              "      <td>1</td>\n",
              "    </tr>\n",
              "    <tr>\n",
              "      <th>102437</th>\n",
              "      <td>2571</td>\n",
              "      <td>21</td>\n",
              "      <td>10.2</td>\n",
              "      <td>16.9</td>\n",
              "      <td>10.0</td>\n",
              "      <td>1.0</td>\n",
              "      <td>5.2</td>\n",
              "      <td>11</td>\n",
              "      <td>48.0</td>\n",
              "      <td>12</td>\n",
              "      <td>12</td>\n",
              "      <td>7.0</td>\n",
              "      <td>22.0</td>\n",
              "      <td>100.0</td>\n",
              "      <td>82.0</td>\n",
              "      <td>1015.2</td>\n",
              "      <td>1016.3</td>\n",
              "      <td>7.0</td>\n",
              "      <td>7.0</td>\n",
              "      <td>12.4</td>\n",
              "      <td>11.5</td>\n",
              "      <td>1</td>\n",
              "      <td>1</td>\n",
              "    </tr>\n",
              "  </tbody>\n",
              "</table>\n",
              "</div>"
            ],
            "text/plain": [
              "        Tanggal  KodeLokasi  SuhuMin  ...  Suhu3pm  BersaljuHariIni  Class\n",
              "75745       419          26      3.0  ...     14.7                0      1\n",
              "108371     1849          34      6.2  ...     14.9                1      1\n",
              "79848      3314          37      6.1  ...     11.6                1      1\n",
              "15317      1791          45     25.2  ...     28.7                1      1\n",
              "102437     2571          21     10.2  ...     11.5                1      1\n",
              "\n",
              "[5 rows x 23 columns]"
            ]
          },
          "metadata": {
            "tags": []
          },
          "execution_count": 71
        }
      ]
    },
    {
      "cell_type": "code",
      "metadata": {
        "colab": {
          "base_uri": "https://localhost:8080/",
          "height": 299
        },
        "id": "6yb35cFQCtrT",
        "outputId": "962c0056-5434-4471-f771-2a4f2aedfc57"
      },
      "source": [
        "# Mengecek Outliers\n",
        "f,axes = plt.subplots(1,3)\n",
        "plt.figure(figsize=(20,10))\n",
        "salju_train_sampling['SuhuMin'].plot(kind='box',ax=axes[0])\n",
        "salju_train_sampling['SuhuMax'].plot(kind='box',ax=axes[1])\n",
        "salju_train_sampling['Class'].plot(kind='box',ax=axes[2])"
      ],
      "execution_count": null,
      "outputs": [
        {
          "output_type": "execute_result",
          "data": {
            "text/plain": [
              "<matplotlib.axes._subplots.AxesSubplot at 0x7f137262c610>"
            ]
          },
          "metadata": {
            "tags": []
          },
          "execution_count": 72
        },
        {
          "output_type": "display_data",
          "data": {
            "image/png": "[encoded data removed]",
            "text/plain": [
              "<Figure size 432x288 with 3 Axes>"
            ]
          },
          "metadata": {
            "tags": [],
            "needs_background": "light"
          }
        },
        {
          "output_type": "display_data",
          "data": {
            "text/plain": [
              "<Figure size 1440x720 with 0 Axes>"
            ]
          },
          "metadata": {
            "tags": []
          }
        }
      ]
    },
    {
      "cell_type": "code",
      "metadata": {
        "colab": {
          "base_uri": "https://localhost:8080/"
        },
        "id": "R4Oaxy7FC7gI",
        "outputId": "ad30dbc5-8da3-433d-d3f7-d49a1793d51f"
      },
      "source": [
        "#Metode IQR untuk SuhuMin\n",
        "Q1=salju_train_sampling['SuhuMin'].quantile(0.25)\n",
        "Q3=salju_train_sampling['SuhuMin'].quantile(0.75)\n",
        "IQR=Q3-Q1\n",
        "print(Q1)\n",
        "print(Q3)\n",
        "print(IQR)\n",
        "Lower_Whisker = Q1-1.5*IQR\n",
        "Upper_Whisker = Q3+1.5*IQR\n",
        "print(Lower_Whisker, Upper_Whisker)"
      ],
      "execution_count": null,
      "outputs": [
        {
          "output_type": "stream",
          "text": [
            "8.0\n",
            "17.2\n",
            "9.2\n",
            "-5.799999999999999 31.0\n"
          ],
          "name": "stdout"
        }
      ]
    },
    {
      "cell_type": "code",
      "metadata": {
        "id": "rlvudfk0DCnZ"
      },
      "source": [
        "salju_train_sampling = salju_train_sampling[salju_train_sampling['SuhuMin']< Upper_Whisker]\n",
        "salju_train_sampling = salju_train_sampling[salju_train_sampling['SuhuMin']> Lower_Whisker]"
      ],
      "execution_count": null,
      "outputs": []
    },
    {
      "cell_type": "code",
      "metadata": {
        "colab": {
          "base_uri": "https://localhost:8080/"
        },
        "id": "tuV9EnJmDFx7",
        "outputId": "82499f06-33c9-45c4-bb26-942ace071732"
      },
      "source": [
        "#Metode IQR untuk SuhuMax\n",
        "Q1=salju_train_sampling['SuhuMax'].quantile(0.25)\n",
        "Q3=salju_train_sampling['SuhuMax'].quantile(0.75)\n",
        "IQR=Q3-Q1\n",
        "print(Q1)\n",
        "print(Q3)\n",
        "print(IQR)\n",
        "Lower_Whisker = Q1-1.5*IQR\n",
        "Upper_Whisker = Q3+1.5*IQR\n",
        "print(Lower_Whisker, Upper_Whisker)"
      ],
      "execution_count": null,
      "outputs": [
        {
          "output_type": "stream",
          "text": [
            "17.2\n",
            "27.4\n",
            "10.2\n",
            "1.9000000000000004 42.699999999999996\n"
          ],
          "name": "stdout"
        }
      ]
    },
    {
      "cell_type": "code",
      "metadata": {
        "id": "5Mm9TKEnDJ6S"
      },
      "source": [
        "salju_train_sampling = salju_train_sampling[salju_train_sampling['SuhuMax']< Upper_Whisker]\n",
        "salju_train_sampling = salju_train_sampling[salju_train_sampling['SuhuMax']> Lower_Whisker]"
      ],
      "execution_count": null,
      "outputs": []
    },
    {
      "cell_type": "code",
      "metadata": {
        "colab": {
          "base_uri": "https://localhost:8080/",
          "height": 282
        },
        "id": "ZX9d0U2mDOET",
        "outputId": "986d1aeb-6dfd-414f-aa30-7dd16f8e4fa2"
      },
      "source": [
        "# Mengecek Outliers setelah menggunakan metode IQR\n",
        "f,axes = plt.subplots(1,3)\n",
        "plt.figure(figsize=(20,10))\n",
        "salju_train_sampling['SuhuMin'].plot(kind='box',ax=axes[0])\n",
        "salju_train_sampling['SuhuMax'].plot(kind='box',ax=axes[1])\n",
        "salju_train_sampling['Class'].plot(kind='box',ax=axes[2])\n",
        "\n",
        "plt.show()"
      ],
      "execution_count": null,
      "outputs": [
        {
          "output_type": "display_data",
          "data": {
            "image/png": "[encoded data removed]",
            "text/plain": [
              "<Figure size 432x288 with 3 Axes>"
            ]
          },
          "metadata": {
            "tags": [],
            "needs_background": "light"
          }
        },
        {
          "output_type": "display_data",
          "data": {
            "text/plain": [
              "<Figure size 1440x720 with 0 Axes>"
            ]
          },
          "metadata": {
            "tags": []
          }
        }
      ]
    },
    {
      "cell_type": "code",
      "metadata": {
        "colab": {
          "base_uri": "https://localhost:8080/"
        },
        "id": "Z5i2QZO_DWLy",
        "outputId": "3f93f980-eaaf-467e-ce0e-9a3df17c88aa"
      },
      "source": [
        "# Mengecek Data Unique\n",
        "def check(data):\n",
        "  for col in data.columns:\n",
        "    print(col, data[col].unique())\n",
        "\n",
        "check(salju_train_sampling)"
      ],
      "execution_count": null,
      "outputs": [
        {
          "output_type": "stream",
          "text": [
            "Tanggal [ 419 1849 3314 ... 3010 1002 3153]\n",
            "KodeLokasi [26 34 37 45 21 30 18  4  1 12  5 22 32 13 14 33 27 19  9  3 46 23 11 20\n",
            "  0 41 39 35 36 17 15  2 38 31 28  7  8  6 48 42 10 24 47 25 44 16 40 29\n",
            " 43]\n",
            "SuhuMin [ 3.   6.2  6.1 25.2 10.2 21.4 18.5 14.6 11.1 -0.5  7.  22.  15.4 19.\n",
            " 13.3 11.3 21.3 11.8  7.2 18.1 11.4  9.2 19.8 12.  18.6 23.7 18.9  1.9\n",
            "  6.8 20.6  6.3  1.3 23.5 11.   7.9  9.  13.6  7.5 17.8  5.2  9.5 24.5\n",
            "  1.7 11.2  9.4 11.6  0.9 21.6  4.3  5.6 17.7 14.7 17.4  9.7 28.1 12.6\n",
            " 13.  18.2 19.3 20.4  2.1 10.5  8.7  9.1 14.3 19.2  9.3  3.4  3.5 24.1\n",
            " 23.8  3.7 14.1 16.5 17.1  8.2 23.4 20.1 17.6 24.7 12.2 19.7 19.1 14.8\n",
            " 16.1 12.1 13.7 19.6  8.3 22.4 15.9 24.3 11.7 13.9  9.8 14.5 11.9 18.4\n",
            "  3.1  4.9  8.9 12.4  5.9  1.5  7.1 24.2  8.8  7.3 13.2 13.4 10.7  2.9\n",
            " 13.8 15.7 11.5 16.2 15.8  2.6 21.9 23.9 10.4  6.4 17.   7.4 21.8  7.7\n",
            "  6.6 15.  20.8 14.  27.9 15.1 12.7  8.4 10.3 13.5 10.8 15.2 20.7  5.4\n",
            " 14.2  4.   5.5 16.  17.5  9.6 26.6 16.8  5.  -0.7  6.5 18.3  6.7  3.6\n",
            "  8.  12.9 18.8  2.  -1.3  5.8  4.1  5.7 12.5 14.4 16.4 16.7 17.3 18.\n",
            " 16.9 20.  17.2 10.  21.5 15.3  4.8  1.   8.5  7.8 22.3  5.1  4.5 10.9\n",
            " 22.6  4.6 10.1 12.8 25.3 15.6  4.7  7.6  1.4 12.3 18.7 22.5 22.7  8.6\n",
            "  4.2 19.5 16.6 23.2 26.  15.5 22.2 -0.9 21.   0.2 21.1  8.1  0.4 25.9\n",
            " 13.1 20.9 20.2 25.8 19.4 24.6 23.   2.4  6.  24.4 14.9  5.3 16.3  3.2\n",
            "  2.2  3.9  9.9 24.  26.5 20.5 22.1 25.6 23.6 25.5 26.2 23.3 29.  27.3\n",
            " 19.9  3.8 21.2 23.1 17.9 20.3  6.9  4.4 10.6  2.5 -1.2  0.1 -1.  25.\n",
            " 29.8 -3.3 21.7  0.3  1.8  0.6 -0.6 25.4 25.1 24.9 27.6 28.3 -0.1 27.1\n",
            " 24.8  3.3 -1.5 -4.9 26.7 -3.5 22.9 25.7 22.8 26.4  0.5 27.2  2.8 -1.1\n",
            "  0.   1.1  2.3 28.6 -2.   2.7 27.4 26.3 -0.2  0.8 30.2  1.6 -1.4 28.2\n",
            " -3.  -0.4 -2.4 -2.7 -0.8 27.  -2.5 26.1  1.2 27.5 28.  -1.8 -2.2 -3.4\n",
            " -0.3 -4.7 26.9 -1.9 -2.1  0.7 -3.6 -3.7 27.7 28.5 26.8 -2.6 -2.3 -3.8\n",
            " -3.2 -1.6 29.1 29.3 -4.4 -3.9 -2.8 -4.5 27.8 -2.9 -1.7 28.8 -5.6 -5.3\n",
            " 29.7 28.4 -5.5 -5.  -4.2 -4.8 -4.1 28.7 -5.4 -4.6 -3.1 -5.1 -4.3 28.9\n",
            " -4.  29.2 -5.2 -5.7 29.4]\n",
            "SuhuMax [17.1 15.3 12.5 31.3 16.9 35.5 30.5 22.  28.7 19.2  9.8 11.7 21.6 25.2\n",
            " 32.3 15.7 23.8 26.4 17.3 29.6 16.4 25.5 26.2 16.5 23.1 22.4 30.  31.2\n",
            " 27.1 13.6 13.3 25.9 26.7 38.7 14.7 15.4  9.5 32.7 23.3 16.6 13.  14.\n",
            " 23.9 20.  14.5 10.1 22.7 20.5 15.9 16.7 34.9 10.2 16.2 21.7 18.2 10.5\n",
            " 26.1 11.8 17.5 17.8 32.  19.5 21.5 26.9 35.7 24.  19.  21.3 27.3 26.3\n",
            " 12.4 19.6 16.1 22.1 28.2 19.8 28.  15.2 23.  30.8 31.1 20.6 24.2 17.2\n",
            " 29.7 36.5 26.8 33.1 27.2 24.4 18.5 23.2 21.9 19.3 23.7 24.9 15.1 29.2\n",
            " 18.6 15.  24.8 26.5 27.4 14.2 16.  31.5 29.4 17.4 19.7 23.5 16.8 20.9\n",
            " 20.4 13.5 13.1 20.3 13.9 14.4 30.6 16.3 14.1  7.1 18.9 20.1 18.  17.7\n",
            " 24.7 31.7 17.6 18.3 19.4 22.3 32.4 28.6 21.8 22.5 18.4 12.2 13.8 25.4\n",
            " 12.  12.1 36.9 34.4 24.5 33.2 27.9 23.6 25.6 20.8 31.6 18.7 22.9 33.3\n",
            " 19.9 13.2 17.9  2.9 24.3 12.8 13.7 22.2 26.  15.8 11.1  5.2 36.4 33.7\n",
            " 11.6 29.3 12.3 21.2 21.  27.7 21.4 15.5 23.4 11.2 25.   9.4 11.4 15.6\n",
            " 18.1 20.2 28.4 14.9 32.5 17.  22.8 25.1 24.6 13.4 14.8 21.1 33.5 37.5\n",
            " 19.1 25.7 35.4 31.4 12.9 14.6 32.9 27.6  7.  30.2 33.8 25.8 11.9  9.2\n",
            " 28.1 10.9 26.6 14.3  4.5 18.8 30.7 22.6 12.6 31.  29.  33.6 30.3 35.2\n",
            " 25.3 32.2 34.2 28.5 20.7 24.1 30.4  7.8 11.5 28.9 38.8 28.3 29.8 39.9\n",
            " 11.3 33.  33.9 33.4 34.  29.1 27.   9.  40.7 36.  29.9 31.9 10.6 32.8\n",
            " 41.9 32.6 38.5 27.8 10.7 41.1 11.  35.6  8.2 34.5 10.  34.8  7.3 37.8\n",
            " 32.1 40.3  3.2  4.8 35.  37.4  9.6 34.3 35.9 37.7 29.5  9.7 12.7  9.9\n",
            " 41.2 34.6 27.5 34.1 31.8 37.2 30.1  4.7 36.3 40.6 40.   6.8 40.5  2.6\n",
            " 41.3 36.1  8.7 38.2 37.3 41.5  6.9 41.6  3.8 30.9  8.8  7.9 37.1  3.4\n",
            "  6.4  3.1 38.  40.4 35.8 39.5 34.7 37.   8.5  9.3 39.8 28.8  3.9 35.3\n",
            " 10.8 39.  39.3  4.1 36.2  8.6  6.1  8.9 42.  37.9  4.3 36.6 35.1 10.3\n",
            " 38.4  7.4  5.1 40.8  3.7  5.6 10.4  3.  38.6  2.3  3.5  8.1 40.9 36.8\n",
            " 42.5 39.7  2.2 38.1 39.6 40.2  2.1  6.3  5.9  4.9 39.1  7.6 37.6  6.7\n",
            "  9.1 39.4  4.2  2.7  6.5 36.7 40.1 39.2  7.7  7.2  2.5  4.4 38.3 42.4\n",
            "  5.   7.5  6.2 38.9  8.   8.3  6.   8.4 42.3 42.1  4.   4.6  2.8  5.4\n",
            " 41.4 41.   5.8  3.3 41.8  6.6  5.3  5.5 41.7  2.4 42.6  3.6 42.2  2.\n",
            "  5.7]\n",
            "Hujan [0.000e+00 4.200e+00 3.400e+00 1.180e+01 1.000e+01 1.060e+01 2.000e-01\n",
            " 3.800e+00 3.420e+01 4.600e+00 1.200e+00 3.000e+00 2.800e+00 9.200e+00\n",
            " 1.000e+00 2.000e+00 5.000e+00 2.600e+00 2.200e+00 3.180e+01 8.000e-01\n",
            " 6.620e+01 5.800e+00 2.400e+00 4.000e-01 6.600e+00 6.000e+00 6.000e-01\n",
            " 7.600e+00 1.400e+00 8.200e+00 7.200e+00 6.420e+01 1.560e+01 8.800e+00\n",
            " 1.760e+01 1.440e+01 3.200e+01 4.400e+00 4.480e+01 1.800e+00 1.420e+01\n",
            " 7.000e+00 1.640e+01 1.752e+02 6.800e+00 1.940e+01 5.600e+00 1.460e+01\n",
            " 4.000e+00 3.200e+00 2.280e+01 2.920e+01 1.600e+00 5.200e+00 5.400e+00\n",
            " 1.380e+01 1.160e+01 1.400e+01 8.000e+00 1.480e+01 6.200e+00 1.200e+01\n",
            " 1.660e+01 3.700e+01 1.120e+01 9.800e+00 1.720e+01 5.060e+01 1.100e+01\n",
            " 8.480e+01 1.500e+01 9.400e+00 9.600e+00 1.080e+01 1.820e+01 3.300e+01\n",
            " 1.340e+01 2.940e+01 2.100e+01 7.000e+01 5.480e+01 1.000e-01 1.620e+01\n",
            " 2.880e+01 1.520e+01 2.080e+01 5.220e+01 1.280e+01 1.700e+01 9.000e+00\n",
            " 4.880e+01 7.800e+00 4.900e+01 4.800e+00 1.300e+01 8.400e+00 5.740e+01\n",
            " 2.020e+01 1.040e+01 1.540e+01 2.380e+01 1.880e+01 1.220e+01 2.140e+01\n",
            " 3.620e+01 2.480e+01 2.540e+01 7.200e+01 7.400e+00 5.600e+01 3.780e+01\n",
            " 2.680e+01 6.400e+00 4.060e+01 3.720e+01 3.000e+01 7.220e+01 1.140e+01\n",
            " 2.120e+01 3.020e+01 6.240e+01 4.440e+01 1.600e+01 1.920e+01 2.000e+01\n",
            " 3.560e+01 3.480e+01 5.400e+01 2.840e+01 1.780e+01 5.660e+01 1.020e+01\n",
            " 3.600e+00 3.740e+01 1.860e+01 4.580e+01 2.960e+01 8.600e+00 2.600e+01\n",
            " 1.776e+02 1.580e+01 2.500e+01 1.680e+01 3.000e-01 2.040e+01 2.760e+01\n",
            " 5.360e+01 7.000e-01 6.180e+01 5.200e+01 3.900e+01 7.720e+01 1.230e+01\n",
            " 2.240e+01 3.980e+01 3.880e+01 3.540e+01 3.760e+01 1.900e+01 5.080e+01\n",
            " 4.160e+01 3.320e+01 4.340e+01 7.460e+01 5.520e+01 3.060e+01 2.900e+01\n",
            " 2.520e+01 4.200e+01 2.180e+01 5.000e+01 1.240e+01 1.800e+01 3.260e+01\n",
            " 3.120e+01 5.440e+01 1.360e+01 2.360e+01 5.100e+01 3.920e+01 7.520e+01\n",
            " 2.160e+01 4.320e+01 3.840e+01 2.800e+01 3.340e+01 2.060e+01 1.260e+01\n",
            " 2.340e+01 1.840e+01 2.660e+01 2.640e+01 3.820e+01 2.420e+01 3.440e+01\n",
            " 2.620e+01 4.940e+01 4.100e+01 3.360e+01 1.130e+02 1.980e+01 4.660e+01\n",
            " 5.920e+01 1.782e+02 6.120e+01 8.900e+01 2.820e+01 2.250e+02 4.980e+01\n",
            " 3.500e+01 1.740e+01 3.040e+01 3.160e+01 1.320e+01 4.500e+01 4.740e+01\n",
            " 2.320e+01 4.460e+01 7.500e+01 2.200e+01 2.720e+01 2.220e+01 5.820e+01\n",
            " 4.420e+01 2.440e+01 9.500e+00 6.960e+01 6.700e+00 5.020e+01 4.380e+01\n",
            " 4.600e+01 8.260e+01 3.600e+01 1.094e+02 4.080e+01 3.380e+01 6.900e+01\n",
            " 3.800e+01 5.840e+01 1.076e+02 4.680e+01 3.240e+01 3.940e+01 7.940e+01\n",
            " 6.540e+01 5.500e+00 2.460e+01 3.140e+01 1.652e+02 1.314e+02 2.260e+01\n",
            " 6.580e+01 9.610e+01 3.220e+01 4.700e+01 3.280e+01 1.418e+02 1.960e+01\n",
            " 8.760e+01 4.960e+01 2.500e+00 4.000e+01 1.500e+00 6.500e+00 2.580e+01\n",
            " 5.000e-01 5.640e+01 2.400e+01 1.348e+02 6.200e+01 3.660e+01 7.100e+01\n",
            " 7.640e+01 3.680e+01 3.640e+01 7.380e+01 5.380e+01 2.100e+00 8.560e+01\n",
            " 3.960e+01 8.160e+01 9.820e+01 1.096e+02 1.282e+02 1.276e+02 5.040e+01\n",
            " 3.860e+01 2.300e+01 5.860e+01 4.860e+01 7.320e+01 9.920e+01 5.460e+01\n",
            " 5.980e+01 1.020e+02 3.100e+01 2.740e+01 9.260e+01 4.640e+01 2.980e+01\n",
            " 4.540e+01 1.668e+02 1.616e+02 4.180e+01 2.780e+01 7.160e+01 2.700e+01\n",
            " 4.560e+01 1.550e+01 5.180e+01 5.960e+01 8.640e+01 6.480e+01 6.100e+00\n",
            " 6.360e+01 1.900e+00 9.140e+01 3.460e+01 1.090e+01 7.920e+01 1.850e+01\n",
            " 1.052e+02 4.720e+01 8.220e+01 4.240e+01 1.670e+02 6.400e+01 9.300e+01\n",
            " 8.140e+01 2.085e+02 9.060e+01 5.760e+01 6.800e+01 6.300e+01 9.340e+01\n",
            " 3.400e+01 4.840e+01 5.320e+01 9.440e+01 2.860e+01 4.800e+01 6.980e+01\n",
            " 4.920e+01 7.340e+01 1.210e+01 3.520e+01 8.500e+00 8.040e+01 7.560e+01\n",
            " 7.840e+01 7.880e+01 8.860e+01 4.260e+01 1.300e+00 6.000e+01 7.740e+01\n",
            " 2.560e+01 5.500e+01 9.160e+01 5.580e+01 4.140e+01 6.140e+01 4.120e+01\n",
            " 1.144e+02 5.680e+01 5.540e+01 3.080e+01 5.780e+01 9.280e+01 7.580e+01\n",
            " 4.520e+01 1.182e+02 6.260e+01 1.472e+02 1.158e+02 1.890e+02 3.500e+00\n",
            " 8.700e+01 7.300e+01 8.680e+01 7.020e+01 4.400e+01 8.340e+01 3.110e+01\n",
            " 1.330e+01 1.022e+02 1.570e+01 9.360e+01 5.280e+01 2.068e+02 8.940e+01\n",
            " 1.190e+01 6.040e+01 4.780e+01 6.880e+01 1.326e+02 1.004e+02 8.240e+01\n",
            " 1.830e+02 7.480e+01 7.620e+01 1.750e+01 1.042e+02 8.740e+01 1.108e+02\n",
            " 6.560e+01 1.134e+02 7.680e+01 1.422e+02 5.240e+01 2.062e+02 1.700e+00\n",
            " 4.760e+01 5.880e+01 8.800e+01 7.140e+01 6.900e+00 3.390e+01 5.300e+01\n",
            " 6.460e+01 5.340e+01 4.280e+01 1.056e+02 5.620e+01 8.500e+01 6.820e+01\n",
            " 8.360e+01 1.122e+02 8.280e+01 8.980e+01 4.500e+00 5.700e+00 6.500e+01\n",
            " 2.390e+01 2.300e+00 7.180e+01 4.020e+01 4.820e+01 1.325e+02 4.900e+00\n",
            " 2.784e+02 9.100e+01 6.700e+01 1.100e+00 1.152e+02 2.900e+00 5.260e+01\n",
            " 1.684e+02 9.000e-01 6.320e+01 1.226e+02 5.900e+01 2.270e+01 9.640e+01\n",
            " 8.700e+00 1.120e+02 6.520e+01 6.280e+01 6.640e+01 2.650e+01 9.580e+01\n",
            " 6.840e+01 1.970e+01 1.502e+02 1.002e+02 4.550e+01 4.040e+01 2.686e+02\n",
            " 3.580e+01 1.622e+02 1.642e+02 1.438e+02 1.284e+02 1.704e+02 7.080e+01\n",
            " 8.020e+01 3.710e+02 8.420e+01 1.202e+02 4.220e+01 1.214e+02 1.010e+01\n",
            " 8.080e+01 5.700e+01 4.300e+01 8.780e+01 6.950e+01 6.860e+01 2.163e+02\n",
            " 5.140e+01 1.150e+01 9.940e+01 7.760e+01 1.050e+02 6.160e+01 7.120e+01\n",
            " 3.100e+00 5.940e+01 1.364e+02 1.064e+02 8.400e+01 9.680e+01 8.920e+01\n",
            " 1.062e+02 7.260e+01 6.100e+01 1.208e+02 3.250e+01 2.950e+01 1.250e+01\n",
            " 6.020e+01 2.070e+01 3.990e+01 2.290e+01 4.360e+01 2.106e+02 1.060e+02\n",
            " 3.070e+01 8.320e+01 1.486e+02 2.990e+01 9.380e+01 9.000e+01 1.176e+02\n",
            " 1.450e+01 9.560e+01 1.746e+02 1.456e+02 5.420e+01 1.412e+02 8.540e+01\n",
            " 3.430e+01 1.550e+02 6.780e+01 1.018e+02 1.054e+02 8.380e+01 1.580e+02\n",
            " 1.294e+02 9.400e+01 1.270e+01 8.120e+01 1.366e+02 1.194e+02 9.220e+01\n",
            " 1.058e+02 3.676e+02 7.780e+01 6.920e+01 1.118e+02 7.280e+01 5.560e+01\n",
            " 7.600e+01 3.790e+01 1.248e+02 1.450e+02 6.340e+01 5.160e+01 4.730e+01\n",
            " 1.048e+02 6.410e+01 4.700e+00 5.800e+01 3.270e+01 8.820e+01 5.900e+00\n",
            " 3.300e+00 1.046e+02 7.800e+01 1.264e+02 7.420e+01 7.660e+01 8.180e+01\n",
            " 8.060e+01 1.568e+02 1.576e+02 5.300e+00 1.826e+02 8.100e+01 1.186e+02\n",
            " 9.800e+01 8.300e+01 2.930e+01 7.980e+01 1.810e+01 9.520e+01 9.700e+01\n",
            " 7.900e+01 1.402e+02 2.700e+00 1.260e+02 1.452e+02 1.150e+02 2.530e+01\n",
            " 1.598e+02 1.390e+01 7.820e+01 2.250e+01 1.478e+02 1.390e+02 6.220e+01\n",
            " 7.100e+00 2.090e+01 1.074e+02 7.360e+01 2.910e+01 1.106e+02 1.092e+02\n",
            " 7.300e+00 2.196e+02 2.400e+02 1.428e+02 6.600e+01 2.370e+01 8.440e+01\n",
            " 1.110e+01 1.068e+02 6.380e+01 4.100e+00 6.080e+01 1.154e+02 4.150e+01]\n",
            "Penguapan [4.40e+00 1.80e+00 1.20e+00 3.80e+00 1.00e+00 8.60e+00 3.60e+00 4.20e+00\n",
            " 7.20e+00 2.00e+00 1.00e+01 6.80e+00 5.20e+00 8.00e+00 9.40e+00 8.00e-01\n",
            " 8.80e+00 2.20e+00 2.60e+00 5.60e+00 5.40e+00 2.40e+00 2.80e+00 1.60e+00\n",
            " 2.00e-01 4.60e+00 1.12e+01 8.40e+00 5.50e+00 1.06e+01 6.00e+00 5.00e+00\n",
            " 4.00e+00 1.08e+01 6.60e+00 4.10e+00 3.20e+00 3.40e+00 1.28e+01 2.72e+01\n",
            " 1.40e+00 9.00e+00 4.00e-01 9.80e+00 6.00e-01 6.20e+00 3.00e+00 6.40e+00\n",
            " 1.20e+01 4.80e+00 7.40e+00 3.30e+00 5.80e+00 7.60e+00 7.00e+00 4.90e+00\n",
            " 9.20e+00 1.22e+01 1.54e+01 1.50e+00 1.10e+00 1.46e+01 9.60e+00 1.42e+01\n",
            " 1.38e+01 1.04e+01 2.92e+01 1.34e+01 1.48e+01 7.80e+00 1.53e+01 7.00e-01\n",
            " 1.16e+01 2.34e+01 2.10e+00 1.10e+01 1.70e+00 1.02e+01 1.44e+01 1.60e+01\n",
            " 1.40e+01 2.28e+01 6.10e+00 2.10e+01 1.36e+01 1.32e+01 1.14e+01 2.88e+01\n",
            " 8.20e+00 0.00e+00 1.50e+01 1.56e+01 1.90e+00 1.24e+01 2.40e+01 2.00e+01\n",
            " 5.90e+00 2.30e+00 1.92e+01 1.18e+01 9.00e-01 1.30e+01 1.78e+01 1.52e+01\n",
            " 1.72e+01 1.64e+01 1.62e+01 5.10e+00 2.74e+01 4.23e+01 1.31e+01 2.06e+01\n",
            " 2.66e+01 4.30e+00 8.10e+00 1.26e+01 2.44e+01 1.88e+01 1.30e+00 1.58e+01\n",
            " 2.24e+01 5.30e+00 1.74e+01 6.70e+00 1.03e+01 9.90e+00 3.10e+00 3.04e+01\n",
            " 1.66e+01 7.70e+00 2.90e+00 3.70e+00 1.27e+01 1.68e+01 1.07e+01 2.84e+01\n",
            " 2.42e+01 2.04e+01 9.70e+00 7.90e+00 2.76e+01 2.86e+01 1.86e+01 1.01e+01\n",
            " 2.70e+00 2.50e+00 3.38e+01 1.82e+01 7.10e+00 1.98e+01 2.38e+01 2.30e+01\n",
            " 3.00e-01 3.64e+01 2.02e+01 4.50e+00 1.80e+01 1.96e+01 2.20e+01 1.94e+01\n",
            " 5.00e-01 5.56e+01 3.50e+00 4.30e+01 7.50e+00 2.51e+01 2.14e+01 3.54e+01\n",
            " 1.11e+01 1.70e+01 3.20e+01 1.21e+01 1.00e-01 3.24e+01 3.08e+01 6.30e+00\n",
            " 2.56e+01 4.70e+00 3.50e+01 1.81e+01 3.02e+01 2.58e+01 3.86e+01 8.70e+00\n",
            " 7.48e+01 6.90e+00 1.90e+01 2.48e+01 1.93e+01 1.84e+01 5.58e+01 2.08e+01\n",
            " 2.22e+01 4.08e+01 1.76e+01 2.36e+01 9.10e+00 3.42e+01 2.68e+01 7.30e+00\n",
            " 2.94e+01 2.16e+01 3.12e+01 3.60e+01 2.26e+01 3.74e+01 3.14e+01 2.12e+01\n",
            " 7.00e+01 3.94e+01 5.62e+01 2.32e+01 2.80e+01 4.18e+01 4.20e+01 1.45e+02\n",
            " 5.94e+01 3.30e+01 2.50e+01 6.50e+00 5.70e+00 1.49e+01 9.50e+00 1.15e+01\n",
            " 2.82e+01 3.52e+01 3.90e+00 8.30e+00 3.44e+01 2.78e+01 3.32e+01 1.77e+01\n",
            " 7.73e+01 2.60e+01 3.56e+01 3.26e+01 6.08e+01 5.36e+01 3.28e+01 8.50e+00\n",
            " 3.70e+01 4.36e+01 3.16e+01 4.32e+01 2.62e+01 3.76e+01 1.05e+01 1.51e+01\n",
            " 6.44e+01 3.84e+01 2.70e+01 3.34e+01 5.76e+01 2.52e+01 6.20e+01 4.84e+01\n",
            " 4.88e+01 9.30e+00 3.40e+01 1.23e+01 2.98e+01 3.62e+01 6.02e+01 3.36e+01\n",
            " 5.66e+01 3.72e+01 2.64e+01 8.62e+01 3.46e+01 5.04e+01 4.00e+01 5.50e+01\n",
            " 5.72e+01 3.80e+01 4.66e+01 5.16e+01 1.09e+01 4.22e+01 4.16e+01 4.70e+01\n",
            " 3.10e+01 5.10e+01 4.26e+01 2.18e+01 1.13e+01 1.39e+01 4.62e+01 2.46e+01\n",
            " 5.40e+01 1.45e+01 4.72e+01 4.42e+01 4.24e+01 7.22e+01 8.90e+00 5.52e+01\n",
            " 1.25e+01 4.68e+01 5.64e+01 1.35e+01 6.30e+01 5.92e+01 5.48e+01 1.19e+01\n",
            " 3.00e+01 2.31e+01 1.71e+01 6.88e+01 3.88e+01 7.04e+01 3.22e+01 6.54e+01\n",
            " 5.08e+01 5.85e+01 2.25e+01 1.91e+01 1.43e+01 2.54e+01 5.96e+01 6.48e+01\n",
            " 2.05e+01 4.40e+01]\n",
            "SinarMatahari [ 6.9  5.2  3.2  6.8  0.   5.8  1.5  7.8  6.3  8.9  0.3  1.4  4.1  2.4\n",
            "  7.3  9.8  7.   0.4  7.6  4.3  8.   0.1  0.2  9.3  6.1  7.1  6.5  7.5\n",
            "  0.7  2.9  4.5  6.7  7.2  3.5  3.3  1.8  6.   8.8  3.9  4.   9.7  8.7\n",
            "  7.9 10.3  2.2  8.4 11.9  5.4 12.2  2.7  2.3  9.6  4.2  1.2  5.9  9.4\n",
            "  3.8  6.4  7.4  3.7  4.9  5.   2.1  1.9  1.6  1.7  0.8  8.2 11.4 10.5\n",
            " 12.5  2.   6.6 12.1  3.4  5.3  5.1  1.   4.6  4.7 11.2  3.6  9.   0.9\n",
            " 10.6  9.5  8.6  2.6 10.1  5.5  1.1  5.7 11.6  7.7  9.9  3.   2.5  8.1\n",
            " 11.8 12.   2.8  0.6  3.1  8.3  6.2 10.   9.2 10.7  5.6  4.8  1.3  9.1\n",
            " 10.8  0.5 13.8 13.   4.4 13.5 10.4 11.5  8.5 10.9 11.7 10.2 11.3 12.7\n",
            " 12.4 11.1 12.3 12.9 13.3 13.4 11.  12.6 13.9 13.1 13.2 12.8 13.7 13.6\n",
            " 14.  14.2 14.1 14.3]\n",
            "ArahAnginTerkencang [ 6  5  8 12 11 15 10  9 13  1  3 14  0  7  2  4]\n",
            "KecepatanAnginTerkencang [ 50.  33.  41.  37.  48.  67.  61.  28.  56.  52.  54.  22.  35.  30.\n",
            "  31.  39.  15.  43.  44.  65.  46.  17.  72.  83.  69.  19.  70.  57.\n",
            "  24.  80.  59.  26.  81.  63.  11.  20.  91.  78.  98.  87.  76.  74.\n",
            "  85. 107.  94.  13. 100.  96.  89.  93. 102. 117. 106. 126. 104.   7.\n",
            "   9. 109. 124. 111. 120. 115. 130. 113. 135. 122.]\n",
            "ArahAngin9am [ 3  6  5 12  9  8 15  1  2  4  0 11 14  7 10 13]\n",
            "ArahAngin3pm [14  6  3 10 12 15  9  8  7  1 13  5 11  2  0  4]\n",
            "KecepatanAngin9am [  9.  11.   7.  17.   6.  26.   4.  19.   0.   2.  15.  13.  35.  28.\n",
            "  24.  30.  20.  41.  22.  31.  37.  33.  44.  43.  56.  46.  39.  65.\n",
            "  50.  59.  48.  54.  61.  63.  52.  57.  87.  67.  69.  74. 130.]\n",
            "KecepatanAngin3pm [22. 11.  6. 43. 13. 15. 37.  7. 17. 19.  9. 33. 31. 39.  2. 24. 28. 20.\n",
            " 26. 44. 30.  4.  0. 46. 35. 41. 50. 48. 52. 54. 56. 72. 61. 59. 65. 63.\n",
            " 57. 87. 74. 69. 76. 78. 67.]\n",
            "Kelembaban9am [ 84.  93.  99.  76. 100.  56.  81.  77.  97.  80.  82.  89.  75.  62.\n",
            "  90.  61.  69.  74.  51.  88.  78.  86.  49.  65.  16.  83.  64.  70.\n",
            "  72.  79.  92.  87.  91.  68.  46.  53.  94.  98.  96.  54.  71.  47.\n",
            "  67.  44.  66.  95.  59.  85.  58.  55.  52.  43.  60.  21.  48.  39.\n",
            "  57.  37.  42.  40.  63.  73.  35.  45.  30.  38.  34.  19.  50.  22.\n",
            "  36.  32.  29.  25.  41.  18.  27.  13.  20.  26.  33.  24.  23.  31.\n",
            "   8.  28.  15.  17.  11.   9.  14.   5.  10.  12.   2.   7.   4.   3.\n",
            "   6.   1.   0.]\n",
            "Kelembaban3pm [ 93.  87.  92.  78.  82.  81.  74.  96.  68.  66.  79.  72.  77.  58.\n",
            "  36.  62.  41.  45.  34.  54.  99.  75.  40.  95.  60.  71.  84.  56.\n",
            "  25.  70.  57.  59.  90.  55.  50.  97.  67.  52.  88.  91.  94.  47.\n",
            "  69.  38.  76.  85.  89.  65.  80.  31.  32.  39.  61.  48.  63.  83.\n",
            "  35.  51.  43.  98.  64.  33.  22.  27.  86.  28.  49.  42.  44.  20.\n",
            "  21.  53.  24.  73. 100.  46.  29.  26.  16.   8.  13.  37.  19.  12.\n",
            "  30.  18.  23.  14.   5.  15.  11.  10.  17.   9.   1.   6.   3.   4.\n",
            "   7.   2.   0.]\n",
            "Tekanan9am [1015.  1015.7 1003.1 1007.9 1015.2 1015.4 1007.3 1007.7 1006.9 1016.2\n",
            " 1019.3 1016.5 1008.1 1020.2 1019.5 1016.3 1021.4 1012.3 1016.8 1018.6\n",
            " 1008.7 1011.1 1006.5 1007.2 1010.6 1013.  1017.4 1010.  1014.8 1008.8\n",
            " 1018.8 1012.9 1009.5 1015.1 1008.  1022.3 1016.7 1003.9 1009.6 1022.9\n",
            " 1003.3 1017.5 1005.7 1025.3 1011.4 1011.3 1020.4 1006.6 1008.3 1028.3\n",
            " 1018.  1012.7 1026.5 1012.8 1010.8 1007.5 1022.  1014.  1010.7 1016.6\n",
            " 1014.3 1024.2 1002.  1021.8 1009.9 1017.  1005.4 1018.2 1006.3 1023.1\n",
            " 1014.9 1022.5 1018.7 1007.   997.2 1021.3 1007.6 1011.  1014.7 1017.3\n",
            " 1007.4 1011.5 1015.6 1023.2 1015.9 1017.9 1021.9 1027.  1010.5 1010.3\n",
            " 1024.  1014.6 1015.5 1018.9 1009.8 1024.4 1014.5 1016.1 1013.8 1006.2\n",
            " 1009.2 1019.7 1026.  1021.5 1017.2 1022.4 1025.4 1008.6 1005.8 1011.9\n",
            " 1001.6 1024.5 1012.5 1013.9 1024.3 1028.5 1002.1 1022.1 1000.5 1014.2\n",
            " 1010.9 1029.1 1025.2 1017.6  999.4 1000.8 1016.  1015.8 1012.  1011.8\n",
            " 1025.7 1014.4 1023.  1019.1 1027.3 1013.1 1009.7 1023.3  990.9 1013.6\n",
            " 1017.8 1007.8 1012.2 1016.4 1013.5  998.6 1020.1 1024.9 1002.2 1030.8\n",
            " 1001.2 1003.4 1020.8 1017.1 1019.6 1020.6 1026.9 1013.7 1011.2 1012.6\n",
            " 1030.4  997.  1025.8  998.3 1019.4 1014.1 1019.  1021.1 1034.   991.1\n",
            " 1030.2 1023.4 1029.8 1021.7 1013.3 1024.7 1004.5 1004.8 1020.  1018.4\n",
            " 1020.7 1019.8 1011.7 1024.8 1009.4 1016.9 1007.1 1009.  1031.7 1005.9\n",
            " 1021.6 1018.5 1000.3 1002.4 1002.5 1023.6 1003.  1013.2 1024.6 1028.7\n",
            " 1012.1 1022.6 1004.  1000.9 1006.8 1002.8 1013.4 1010.4  995.  1017.7\n",
            " 1008.4 1030.9 1011.6 1010.1 1005.3 1008.5 1018.1  991.5 1015.3 1023.5\n",
            " 1031.  1005.1 1005.6 1002.7 1021.  1003.6  998.1 1023.8 1025.5  998.8\n",
            " 1025.6 1004.6 1026.2 1030.  1012.4  996.4  993.  1021.2 1022.2 1019.9\n",
            " 1020.3 1006.7 1027.6 1008.9 1025.  1020.9  995.8  993.4 1024.1  999.5\n",
            " 1006.1 1028.1 1032.  1005.5 1019.2 1004.4 1018.3 1028.2 1006.4 1026.1\n",
            " 1004.3 1005.2 1027.9  995.7 1005.  1026.6 1009.1  999.8 1027.1 1002.9\n",
            " 1022.8 1026.3 1025.9  992.3 1010.2  993.7 1000.2 1025.1 1030.5 1003.8\n",
            " 1006.  1004.7  993.9 1023.7  993.2  993.8 1020.5  999.2 1031.8 1004.9\n",
            " 1029.9 1028.9 1001.1 1028.   994.8  996.5 1022.7 1031.5 1003.2  998.7\n",
            "  992.4 1002.3 1003.5 1031.3  991.6 1027.4 1001.  1009.3 1003.7 1000.1\n",
            " 1004.1 1032.6 1029.5 1029.3 1027.2 1008.2 1001.9 1004.2 1001.5  998.9\n",
            "  995.6  999.   997.3 1031.6 1026.4  999.6  992.7 1027.8  989.5 1027.5\n",
            " 1000.7 1026.8  997.8 1001.7  995.5  988.5  996.6  995.4 1001.4 1031.1\n",
            " 1000.6  999.1 1023.9 1030.6 1035.3  992.8  999.9 1028.6 1029.7 1030.3\n",
            "  995.3  996.8  997.7 1026.7 1033.7 1029.4  997.1 1002.6  992.1 1033.\n",
            "  995.2  994.9 1032.8 1029.2 1001.3  997.9 1037.1  997.5 1029.6  999.7\n",
            " 1030.1 1029.   996.1  993.6  991.  1034.2 1028.8 1035.4  994.7 1028.4\n",
            " 1027.7 1033.2 1033.1  983.9  999.3  984.6 1038.2 1033.9 1035.   990.5\n",
            " 1031.4 1032.9  993.3 1036.3  995.1 1032.2 1035.1 1032.1  991.7 1031.2\n",
            " 1033.8 1034.3 1032.4  980.5  991.9 1031.9  994.4 1000.4 1036.9 1035.7\n",
            "  995.9  986.6  991.2 1030.7  996.2 1001.8  998.4  997.4  992.2  993.5\n",
            "  998.5 1033.5  997.6 1037.4 1032.3  991.3  996.9  990.8  983.7  996.\n",
            "  996.3 1037.  1000.   991.4 1033.3  982.2  998.   988.   994.6 1038.1\n",
            "  988.8  991.8  992.9  994.5 1034.1  996.7  990.3 1034.7 1033.4 1035.8\n",
            "  986.7  994.3  989.2  982.   988.3  994.2 1035.6  992.6  993.1 1036.5\n",
            "  998.2  992.5 1032.7 1033.6 1035.9  990.6 1032.5 1035.2  989.7  986.2\n",
            " 1036.1  988.9  989.8 1039.4 1036.6  986.9  989.9  988.1  987.  1034.8\n",
            "  982.9  985.   988.2 1036.8 1037.9 1037.8  987.3 1039.5  989.4  994.\n",
            " 1035.5 1037.3 1034.6 1034.9 1039.1 1037.5 1036.7 1034.4 1037.2 1038.8\n",
            " 1036.4 1036.2 1034.5 1036.  1038.  1039.2 1037.6 1037.7 1038.9  994.1\n",
            "  987.2 1038.6 1038.7 1038.4 1040.2 1039.  1040.1 1040.4 1038.3 1040.6\n",
            " 1039.3  992.   990.2 1038.5  989.1 1039.7  985.8 1040.9  987.4  989.3\n",
            " 1040.3 1040.5 1040.  1041.   986.3]\n",
            "Tekanan3pm [1012.4   1014.1    999.1   1005.2   1016.3   1012.7   1006.3   1005.9\n",
            " 1008.6   1015.4   1014.3   1014.2   1006.2   1017.4   1016.2   1015.2\n",
            " 1016.8   1016.5   1006.7   1014.8   1019.6   1006.9   1006.6   1004.2\n",
            " 1005.6   1007.9   1010.2   1018.    1015.    1006.5   1017.6   1014.7\n",
            " 1009.9   1012.5   1003.8   1016.9   1007.6   1008.7   1013.9   1019.9\n",
            " 1016.1   1001.2   1023.    1011.4   1007.2   1008.    1003.9   1027.6\n",
            " 1016.    1010.9   1022.2   1011.8   1010.3   1007.3   1006.8   1020.7\n",
            " 1008.5   1013.4   1015.1   1021.9   1004.    1018.7   1011.2   1019.1\n",
            " 1017.2   1017.    1003.2   1010.1   1020.4   1015.7   1003.4    995.5\n",
            " 1019.3   1002.7   1012.8   1005.7   1021.3   1015.8   1020.3   1022.8\n",
            " 1015.5   1009.4   1023.4   1010.5   1015.6   1010.    1022.6   1013.8\n",
            " 1012.2   1013.7   1014.    1003.6   1004.6   1022.5   1018.5   1004.9\n",
            " 1024.6   1008.9   1023.2   1023.5   1007.1   1012.1   1020.8   1009.\n",
            " 1001.    1023.7   1009.8   1011.9   1023.3   1026.7   1022.7   1001.9\n",
            " 1018.9   1002.4   1010.8   1009.7   1027.2   1013.5    996.2   1023.1\n",
            " 1020.2   1013.2   1019.2   1011.1   1007.4   1009.3   1021.4   1009.5\n",
            " 1022.3   1021.8   1012.3   1009.1   1020.6    986.5   1007.5   1016.4\n",
            " 1003.     999.4   1010.7   1012.9   1010.6   1000.5   1019.    1010.4\n",
            " 1000.6   1029.    1002.2   1003.1   1001.5    998.4   1018.6   1017.9\n",
            " 1015.9   1026.6   1029.2    996.3    995.    1022.9   1021.5   1020.5\n",
            " 1018.1   1031.5   1009.2    992.    1011.6   1027.3   1018.8   1020.1\n",
            " 1027.5   1021.1   1005.    1002.5   1013.     998.    1020.    1008.1\n",
            " 1013.3   1001.1   1019.8   1024.5   1016.7   1017.3   1011.    1011.7\n",
            " 1028.9    997.7   1002.8   1018.3   1014.6   1006.1   1004.5   1011.3\n",
            " 1003.5   1018.4   1012.6   1024.7   1008.2   1007.    1012.    1004.3\n",
            "  995.7   1004.1   1024.    1001.4   1008.8   1005.3   1005.1   1028.1\n",
            " 1028.8   1020.9    998.9   1013.6   1025.2   1009.6    990.2   1021.2\n",
            " 1013.1   1021.6   1008.4   1027.1   1004.4   1006.4   1000.8   1000.1\n",
            " 1004.8   1028.7   1014.9   1021.7   1005.8    995.1    996.    1001.7\n",
            "  995.8   1024.1   1002.3   1026.3   1000.2   1027.4    991.6    988.8\n",
            " 1017.5   1007.7   1018.2   1002.9   1000.9   1003.7   1008.3   1002.1\n",
            " 1005.5   1017.1   1016.6   1019.4    998.1    998.8   1019.7   1014.5\n",
            " 1023.9   1014.4   1017.8   1030.3   1027.9   1024.4   1011.5   1024.3\n",
            " 1028.3   1003.3    994.1    999.6   1025.5   1024.9   1025.6   1006.\n",
            "  999.8   1000.    1007.8   1002.    1023.6    989.5   1017.7    992.7\n",
            "  994.4   1001.8   1022.    1005.4   1029.5   1021.     999.9   1030.7\n",
            " 1001.3   1004.7   1000.3   1029.1    998.7   1015.3    997.3   1025.4\n",
            " 1026.5    997.    1027.    1022.4    997.6    997.5    992.6   1026.9\n",
            "  995.9    991.9   1000.7   1029.8   1028.     991.1   1024.2    999.\n",
            "  997.1   1019.5    995.3    996.5    993.9   1024.8   1026.4    992.9\n",
            " 1028.2    996.9    997.9   1026.8    998.2    994.9    996.4    994.6\n",
            " 1001.6   1022.1   1028.5    991.5   1025.7   1025.8   1023.8    994.8\n",
            "  988.4   1026.2    999.5   1027.8    992.4    992.5   1002.6   1033.\n",
            "  999.2    988.7   1025.3    995.6   1025.1   1028.6    999.3    984.4\n",
            " 1026.1    995.2    999.7    997.8    994.5   1031.4    995.4    993.4\n",
            "  993.6   1032.3    987.8   1026.    1030.1    998.5   1000.4   1030.8\n",
            "  990.9    997.2   1035.9    994.7   1028.4   1030.2    987.1    985.5\n",
            " 1025.    1027.7   1032.7   1033.6    998.3   1034.5    991.2   1031.1\n",
            "  978.2   1036.9   1030.9   1035.8   1029.6    996.6    996.1   1030.\n",
            " 1033.5   1029.7   1030.4    986.    1029.9    993.1   1032.    1032.1\n",
            " 1025.9    998.6    979.     993.5   1029.4   1033.2    988.5   1036.\n",
            " 1032.5   1029.3    994.2    997.4    981.4   1031.2    990.     996.8\n",
            "  993.7    996.7   1036.4    991.     993.8    991.3    988.     988.3\n",
            "  992.8   1035.7    988.6    990.8    990.6    987.6   1031.7    991.4\n",
            "  993.3    993.2    984.    1035.1    989.6    980.2    987.4   1031.\n",
            "  993.    1033.9    989.8   1032.6   1030.6    992.1    994.     986.1\n",
            " 1031.8    990.7    992.2   1030.5   1033.8    985.6    986.4    984.2\n",
            " 1032.4    986.2   1032.2   1034.4    989.4   1032.8    987.7    991.8\n",
            "  992.3   1031.9   1035.3    989.3   1033.4    989.9   1032.9   1035.\n",
            "  990.4    994.3    985.8    990.1    988.2    985.     985.2    990.3\n",
            " 1033.7    982.9    987.3   1035.6   1034.2    981.9   1031.6    991.7\n",
            "  989.2    988.9   1034.1    982.6    982.2    987.    1034.     981.2\n",
            "  989.1    989.     986.8   1036.3    977.1   1034.7   1031.3   1034.8\n",
            " 1035.2   1033.1   1035.5   1033.3   1037.    1037.2   1036.6   1037.3\n",
            " 1035.4    985.3   1034.3   1036.8   1034.9    989.7   1037.5   1036.2\n",
            "  983.2   1036.5   1036.1   1037.9   1038.    1034.6   1036.7   1016.777\n",
            "  987.2   1037.1   1037.8   1026.66  1037.7   1038.2   1009.555 1039.6\n",
            " 1038.5   1038.9  ]\n",
            "Awan9am [6. 8. 7. 3. 2. 1. 4. 0. 5. 9.]\n",
            "Awan3pm [6. 8. 7. 5. 4. 1. 2. 3. 0. 9.]\n",
            "Suhu9am [12.6 12.2  9.2 29.9 12.4 26.6 20.6 17.  17.5 19.   3.1  9.  26.5 17.8\n",
            " 19.5 18.8 13.  23.  20.1 13.9 21.1 16.5 19.2 13.8 15.6 27.8 26.3 20.2\n",
            "  8.8  9.4 19.6 23.7 33.7  8.2 14.1  6.5  6.7 26.7 15.8 15.1  8.7  8.\n",
            " 14.4 14.  19.9 15.  12.9  5.  14.9 12.5  6.9 25.1 11.9 23.3 17.6 19.3\n",
            " 15.7 31.8 12.3 20.4 19.4 21.9 15.9  9.6 15.5 11.  20.3 16.7 22.8 11.4\n",
            " 14.7  7.  14.5 28.9 27.2  7.1 16.9  9.5 20.8 29.4 24.7 26.1 22.9 30.1\n",
            " 24.1 23.2 19.1 18.1 13.3 21.5 10.4 10.  18.6 11.1 20.  21.6 22.2 24.8\n",
            " 25.5 27.3 21.  14.2 16.  11.6 13.7 17.2 16.1 10.5 10.6 11.8 17.9  9.7\n",
            " 16.4 12.8  4.1 11.5 14.8 16.6 12.  22.1 28.4 13.4 18.3 23.5 16.8 29.1\n",
            "  9.8 23.6 25.6 18.9 18.4 25.3 15.3  4.9 22.4  8.4 16.2 10.8 35.1 25.9\n",
            " 22.7 29.5 17.4 17.7 22.5 12.1 13.2 11.3 21.3 26.4 11.2 30.4 13.5 12.7\n",
            " 23.9  8.9 15.2 17.1 28.3 17.3 24.2 10.7 21.2  2.4  8.6 13.1 -0.4 21.4\n",
            " 18.5 23.8 27.9 18.2 21.7  7.9  7.2 19.8 23.1 10.1  9.9 10.9  7.5  5.3\n",
            " 15.4  9.1 10.2 24.6 24.4 28.2 30.  27.  16.3  6.2 18.  27.6 26.9 18.7\n",
            "  5.9 23.4  6.1 25.8 19.7  7.3 20.5  5.1 24.3  4.8 14.3  4.2  6.3 24.5\n",
            " 28.6 13.6 25.2 20.7  6.6 11.7  8.5  8.3 25.4  5.8  7.7  7.8 33.2 24.9\n",
            " 28.8 28.1 20.9 25.7 29.8 31.   3.6 29.3 22.   7.6 21.8  8.1 30.2 22.6\n",
            " 22.3 10.3 30.3  5.7 26.8 32.  26.2 25.  14.6 30.7 24.   7.4 34.  33.6\n",
            "  2.  30.8  3.8 29.  31.3 31.4  9.3  1.3 29.6 -0.2 28.5 27.7  0.  31.1\n",
            " 29.2 28.7  4.7 26.  28.  27.5 27.4  6.4 32.1  6.8 31.2  3.3  3.2  4.\n",
            " 33.4 31.5  2.9 27.1  2.5 33.  30.5 29.7  0.6  4.5  6.   1.6 30.6  2.7\n",
            " -0.1  5.2 33.1 32.4  4.3  3.   0.2 36.  32.2  2.8 -0.7  5.6 32.9  4.4\n",
            "  4.6  2.3  0.5  3.5  1.9  0.7  0.1  5.4 36.3 33.5 31.7  3.7  5.5 32.6\n",
            " 32.8  3.9 31.6 33.3  1.7  1.8 32.3 30.9  3.4  2.2  1.   2.6 34.9  0.3\n",
            "  1.2 34.3 32.7 34.5 -1.1 -1.3 -1.2  1.1  0.8 36.4 34.7 -0.3  2.1 31.9\n",
            " 34.4 34.2 32.5 -0.5 34.8  1.4 -1.6 39.  -1.  34.6 -1.4 -1.9 -0.6 34.1\n",
            "  0.9  0.4 33.9 35.2 33.8 -1.7 35.7 -0.9 35.  -3.2 -1.8 -0.8 -1.5 35.5\n",
            " -2.3  1.5 -3.7 -3.6 36.5 -2.6 35.8 35.3 -2.  -2.4 -2.2 35.4 37.2 36.2\n",
            " -2.8 35.9 -2.7 36.8 -2.5 -2.1 -3.3 37.4]\n",
            "Suhu3pm [14.7 14.9 11.6 28.7 11.5 24.7 21.3 19.3 18.4 18.5  9.   8.5 28.9 18.7\n",
            " 20.1 31.  14.4 22.9 16.7 27.6 16.3 24.1 25.6 15.1 21.7 21.8 24.8 29.8\n",
            " 23.9 12.9  9.2 19.6 23.6 35.9 14.  14.1  8.3 10.2 32.  22.8 13.2 10.1\n",
            " 13.  20.7 17.6 13.7  9.3 21.5 20.  12.3 10.5 31.9  9.7 21.4 15.6 25.\n",
            " 16.5 17.1 16.9 20.2 34.1 23.1 20.6 25.4 21.1 26.  14.3 11.3 17.5 15.5\n",
            " 11.2 19.8 27.5 18.8 24.9 15.  21.   8.7 22.6 27.3 30.3  8.  20.5 19.9\n",
            " 22.7 21.6 16.  36.1 25.1 30.9 13.5 15.8 19.1 20.3 23.8 15.3 14.6 28.1\n",
            " 11.8 26.3 28.3 24.5 13.1 19.7 15.2 17.4 19.2 19.5 18.6 14.8 29.6 22.2\n",
            " 12.7  6.  12.8 16.6 18.2 30.5 13.6 17.8 31.5 17.3 18.3 20.4  9.9 13.8\n",
            " 22.  19.  23.7 10.  17.2 34.5 32.1  9.6 33.9 16.1 18.1 32.3 22.5 26.2\n",
            " 23.5 24.3 17.  22.4 29.  29.2 12.5 10.3 18.9 30.1 26.5 18.   8.8 10.7\n",
            " 21.2 20.8 32.7 24.4 11.7  0.2 23.3 10.6 15.4 11.9 16.2 24.2  3.  16.4\n",
            " 12.2 25.2 17.9 34.6 31.6 27.  11.4 22.1 12.  28.8 17.7 15.9 25.3  6.8\n",
            " 19.4 11.1 21.9 15.7 10.4 14.2 31.1  7.7 16.8 25.8 31.8 11.  29.7 12.4\n",
            " 14.5 24.  10.9 32.9 35.5 13.9 26.4  4.8 23.4 27.7 32.5 26.8 25.7 25.5\n",
            "  9.4 29.9 13.3 22.3 32.8 12.1 35.6 24.6  7.2  7.4 20.9  6.7 37.4 27.4\n",
            " 28.6 26.6 28.5 23.2 23.  30.2 26.7 27.8 30.7  6.5 33.1 37.  31.2 10.8\n",
            " 31.3  7.1 28.  39.2 12.6 34.9 30.4  7.3 27.9 31.4  9.1 26.9 29.3 40.8\n",
            " 31.7 13.4 37.1  7.9  9.5 28.4 30.  37.6  8.2 25.9 33.3 34.2  9.8  7.5\n",
            "  6.2 34.   5.7 27.2 33.5 39.4  2.2  1.3  5.1 35.3  6.4 32.4  8.6 30.6\n",
            " 29.5 28.2 29.1 39.7  8.4 33.4 27.1 34.7 36.2  6.9 29.4 35.7 34.3 38.1\n",
            "  5.   6.1 38.6 32.2 33.   2.6 39.3 26.1 37.8 39.5  5.9 40.2  3.4 30.8\n",
            "  2.4  5.8 32.6  6.3  2.   4.9 35.1 38.7 38.5  8.1  1.2 33.6 36.9 39.\n",
            " 36.5 35.8 33.8  5.4 40.5  2.1 40.3 35.   5.3 36.6  7.6  5.2 36.3 37.7\n",
            "  6.6 33.7  4.5  8.9 34.8  3.3 38.9 35.4  0.6 -0.3 40.   3.6  5.5 38.8\n",
            " 38.3 33.2 38.2  3.8  7.   4.  36.8 36.7 36.4 36.  35.2 -0.1  0.3  1.4\n",
            "  4.7 40.6  4.3  0.7 38.4 37.5 34.4  0.9  4.1  0.8 39.1  4.6  7.8  2.8\n",
            " 39.9  1.6  5.6 41.3  3.7 37.9  2.9  1.   1.7  4.2  2.5 37.3 37.2  0.1\n",
            "  2.3  3.9  0.5 38.   4.4  3.5  1.8  3.2 -1.1 40.7 41.2 40.9 41.  42.1\n",
            " 39.6  2.7 39.8 40.4  3.1 41.4 40.1 42.3 41.1 41.9 41.5 41.8 -0.5 -0.4\n",
            " -0.6  1.9  0.4 41.7  1.1  1.5 41.6  0.  -0.8]\n",
            "BersaljuHariIni [0 1]\n",
            "Class [1 0]\n"
          ],
          "name": "stdout"
        }
      ]
    },
    {
      "cell_type": "code",
      "metadata": {
        "colab": {
          "base_uri": "https://localhost:8080/"
        },
        "id": "YUnvCt_zDrDF",
        "outputId": "6ed4aca9-5c41-4cb8-eedf-68c8c34bba94"
      },
      "source": [
        "# Mengecek type atribut\n",
        "print(salju_train_sampling.dtypes)"
      ],
      "execution_count": null,
      "outputs": [
        {
          "output_type": "stream",
          "text": [
            "Tanggal                       int64\n",
            "KodeLokasi                    int64\n",
            "SuhuMin                     float64\n",
            "SuhuMax                     float64\n",
            "Hujan                       float64\n",
            "Penguapan                   float64\n",
            "SinarMatahari               float64\n",
            "ArahAnginTerkencang           int64\n",
            "KecepatanAnginTerkencang    float64\n",
            "ArahAngin9am                  int64\n",
            "ArahAngin3pm                  int64\n",
            "KecepatanAngin9am           float64\n",
            "KecepatanAngin3pm           float64\n",
            "Kelembaban9am               float64\n",
            "Kelembaban3pm               float64\n",
            "Tekanan9am                  float64\n",
            "Tekanan3pm                  float64\n",
            "Awan9am                     float64\n",
            "Awan3pm                     float64\n",
            "Suhu9am                     float64\n",
            "Suhu3pm                     float64\n",
            "BersaljuHariIni               int64\n",
            "Class                         int64\n",
            "dtype: object\n"
          ],
          "name": "stdout"
        }
      ]
    },
    {
      "cell_type": "markdown",
      "metadata": {
        "id": "QAzm9eVoD3Bs"
      },
      "source": [
        "##Data preprocessing untuk data test"
      ]
    },
    {
      "cell_type": "code",
      "metadata": {
        "colab": {
          "base_uri": "https://localhost:8080/"
        },
        "id": "OutK90VrD37R",
        "outputId": "69e0572d-f280-43e8-b56c-eddcbe5a5ef0"
      },
      "source": [
        "test_0 = datatest[datatest['Class'] == 'No']\n",
        "test_1 = datatest[datatest['Class'] == 'Yes']\n",
        "\n",
        "print(\"Class 0 :\", test_0.shape)\n",
        "print(\"Class 1 :\", test_1.shape)"
      ],
      "execution_count": null,
      "outputs": [
        {
          "output_type": "stream",
          "text": [
            "Class 0 : (13824, 23)\n",
            "Class 1 : (3939, 23)\n"
          ],
          "name": "stdout"
        }
      ]
    },
    {
      "cell_type": "markdown",
      "metadata": {
        "id": "gXO2dhq2FbWV"
      },
      "source": [
        "\n",
        "\n",
        "> Oversampling Data\n",
        "\n"
      ]
    },
    {
      "cell_type": "code",
      "metadata": {
        "colab": {
          "base_uri": "https://localhost:8080/"
        },
        "id": "Soy2rhyMFeWE",
        "outputId": "dcc1aa62-fb96-4aa6-be99-4e237b4320d4"
      },
      "source": [
        "test_count_0, test_count_1 = datatest['Class'].value_counts()\n",
        "test_1_over = test_1.sample(test_count_0, replace = True)\n",
        "\n",
        "salju_test_sampling = pd.concat([test_1_over, test_0], axis=0)\n",
        "\n",
        "print(\"Total Class 1 and 0 :\", salju_test_sampling['Class'].value_counts())"
      ],
      "execution_count": null,
      "outputs": [
        {
          "output_type": "stream",
          "text": [
            "Total Class 1 and 0 : Yes    13824\n",
            "No     13824\n",
            "Name: Class, dtype: int64\n"
          ],
          "name": "stdout"
        }
      ]
    },
    {
      "cell_type": "code",
      "metadata": {
        "colab": {
          "base_uri": "https://localhost:8080/"
        },
        "id": "M-QUn4bfFx_H",
        "outputId": "7a68652d-666d-498f-daea-4764d34e85a6"
      },
      "source": [
        "# Mengecek missing values\n",
        "salju_test_sampling.isnull().sum()"
      ],
      "execution_count": null,
      "outputs": [
        {
          "output_type": "execute_result",
          "data": {
            "text/plain": [
              "Tanggal                         0\n",
              "KodeLokasi                      0\n",
              "SuhuMin                       118\n",
              "SuhuMax                        59\n",
              "Hujan                         376\n",
              "Penguapan                   11858\n",
              "SinarMatahari               13075\n",
              "ArahAnginTerkencang          1854\n",
              "KecepatanAnginTerkencang     1836\n",
              "ArahAngin9am                 1867\n",
              "ArahAngin3pm                  720\n",
              "KecepatanAngin9am             266\n",
              "KecepatanAngin3pm             481\n",
              "Kelembaban9am                 418\n",
              "Kelembaban3pm                 696\n",
              "Tekanan9am                   2613\n",
              "Tekanan3pm                   2605\n",
              "Awan9am                     10245\n",
              "Awan3pm                     10721\n",
              "Suhu9am                       230\n",
              "Suhu3pm                       525\n",
              "BersaljuHariIni               376\n",
              "Class                           0\n",
              "dtype: int64"
            ]
          },
          "metadata": {
            "tags": []
          },
          "execution_count": 82
        }
      ]
    },
    {
      "cell_type": "code",
      "metadata": {
        "id": "1e1pyYG9F4mW"
      },
      "source": [
        "# Mengatasi Missing Values\n",
        "salju_test_sampling.fillna(salju_test_sampling.median(), inplace=True) \n",
        "# Nilai Numeric diisi dengan nilai median\n",
        "\n",
        "salju_test_sampling = salju_test_sampling.fillna(salju_test_sampling.mode().iloc[0]) \n",
        "# Nilai String diisi dengan nilai modus"
      ],
      "execution_count": null,
      "outputs": []
    },
    {
      "cell_type": "code",
      "metadata": {
        "colab": {
          "base_uri": "https://localhost:8080/"
        },
        "id": "6e-QrltEGPkZ",
        "outputId": "e5d2c660-0430-472b-878d-0e31b5594449"
      },
      "source": [
        "salju_test_sampling.isnull().sum()"
      ],
      "execution_count": null,
      "outputs": [
        {
          "output_type": "execute_result",
          "data": {
            "text/plain": [
              "Tanggal                     0\n",
              "KodeLokasi                  0\n",
              "SuhuMin                     0\n",
              "SuhuMax                     0\n",
              "Hujan                       0\n",
              "Penguapan                   0\n",
              "SinarMatahari               0\n",
              "ArahAnginTerkencang         0\n",
              "KecepatanAnginTerkencang    0\n",
              "ArahAngin9am                0\n",
              "ArahAngin3pm                0\n",
              "KecepatanAngin9am           0\n",
              "KecepatanAngin3pm           0\n",
              "Kelembaban9am               0\n",
              "Kelembaban3pm               0\n",
              "Tekanan9am                  0\n",
              "Tekanan3pm                  0\n",
              "Awan9am                     0\n",
              "Awan3pm                     0\n",
              "Suhu9am                     0\n",
              "Suhu3pm                     0\n",
              "BersaljuHariIni             0\n",
              "Class                       0\n",
              "dtype: int64"
            ]
          },
          "metadata": {
            "tags": []
          },
          "execution_count": 85
        }
      ]
    },
    {
      "cell_type": "markdown",
      "metadata": {
        "id": "1oJw8dqNGUxT"
      },
      "source": [
        "\n",
        "\n",
        "> Menentukan Fitur Categorical\n",
        "\n"
      ]
    },
    {
      "cell_type": "code",
      "metadata": {
        "id": "AtIMUkCrGW8u"
      },
      "source": [
        "numerics = ['int8', 'int16', 'int32', 'int64', 'float16', 'float32', 'float64']\n",
        "categorical_columns = []\n",
        "features = salju_test_sampling.columns.values.tolist()\n",
        "for col in features:\n",
        "    if salju_test_sampling[col].dtype in numerics: continue\n",
        "    categorical_columns.append(col)"
      ],
      "execution_count": null,
      "outputs": []
    },
    {
      "cell_type": "markdown",
      "metadata": {
        "id": "fMQiwMi4GejV"
      },
      "source": [
        "\n",
        "\n",
        "> Encoding Fitur Categorical\n",
        "\n"
      ]
    },
    {
      "cell_type": "code",
      "metadata": {
        "id": "XobHjkZZGg-i"
      },
      "source": [
        "for col in categorical_columns:\n",
        "    if col in salju_test_sampling.columns:\n",
        "        enco = LabelEncoder()\n",
        "        enco.fit(list(salju_test_sampling[col].astype(str).values))\n",
        "        salju_test_sampling[col] = enco.transform(list(salju_test_sampling[col].astype(str).values))"
      ],
      "execution_count": null,
      "outputs": []
    },
    {
      "cell_type": "code",
      "metadata": {
        "colab": {
          "base_uri": "https://localhost:8080/",
          "height": 224
        },
        "id": "xDy9n46xGl4f",
        "outputId": "088df913-66fb-4c41-d9b1-23a2c5573dc1"
      },
      "source": [
        "salju_test_sampling.head()"
      ],
      "execution_count": null,
      "outputs": [
        {
          "output_type": "execute_result",
          "data": {
            "text/html": [
              "<div>\n",
              "<style scoped>\n",
              "    .dataframe tbody tr th:only-of-type {\n",
              "        vertical-align: middle;\n",
              "    }\n",
              "\n",
              "    .dataframe tbody tr th {\n",
              "        vertical-align: top;\n",
              "    }\n",
              "\n",
              "    .dataframe thead th {\n",
              "        text-align: right;\n",
              "    }\n",
              "</style>\n",
              "<table border=\"1\" class=\"dataframe\">\n",
              "  <thead>\n",
              "    <tr style=\"text-align: right;\">\n",
              "      <th></th>\n",
              "      <th>Tanggal</th>\n",
              "      <th>KodeLokasi</th>\n",
              "      <th>SuhuMin</th>\n",
              "      <th>SuhuMax</th>\n",
              "      <th>Hujan</th>\n",
              "      <th>Penguapan</th>\n",
              "      <th>SinarMatahari</th>\n",
              "      <th>ArahAnginTerkencang</th>\n",
              "      <th>KecepatanAnginTerkencang</th>\n",
              "      <th>ArahAngin9am</th>\n",
              "      <th>ArahAngin3pm</th>\n",
              "      <th>KecepatanAngin9am</th>\n",
              "      <th>KecepatanAngin3pm</th>\n",
              "      <th>Kelembaban9am</th>\n",
              "      <th>Kelembaban3pm</th>\n",
              "      <th>Tekanan9am</th>\n",
              "      <th>Tekanan3pm</th>\n",
              "      <th>Awan9am</th>\n",
              "      <th>Awan3pm</th>\n",
              "      <th>Suhu9am</th>\n",
              "      <th>Suhu3pm</th>\n",
              "      <th>BersaljuHariIni</th>\n",
              "      <th>Class</th>\n",
              "    </tr>\n",
              "  </thead>\n",
              "  <tbody>\n",
              "    <tr>\n",
              "      <th>15679</th>\n",
              "      <td>671</td>\n",
              "      <td>34</td>\n",
              "      <td>7.9</td>\n",
              "      <td>11.8</td>\n",
              "      <td>2.6</td>\n",
              "      <td>0.8</td>\n",
              "      <td>6.9</td>\n",
              "      <td>13</td>\n",
              "      <td>39.0</td>\n",
              "      <td>7</td>\n",
              "      <td>13</td>\n",
              "      <td>20.0</td>\n",
              "      <td>13.0</td>\n",
              "      <td>90.0</td>\n",
              "      <td>92.0</td>\n",
              "      <td>1005.4</td>\n",
              "      <td>1005.3</td>\n",
              "      <td>8.0</td>\n",
              "      <td>8.0</td>\n",
              "      <td>9.5</td>\n",
              "      <td>11.1</td>\n",
              "      <td>1</td>\n",
              "      <td>1</td>\n",
              "    </tr>\n",
              "    <tr>\n",
              "      <th>15634</th>\n",
              "      <td>2048</td>\n",
              "      <td>45</td>\n",
              "      <td>24.2</td>\n",
              "      <td>35.2</td>\n",
              "      <td>0.0</td>\n",
              "      <td>7.8</td>\n",
              "      <td>9.1</td>\n",
              "      <td>0</td>\n",
              "      <td>63.0</td>\n",
              "      <td>0</td>\n",
              "      <td>5</td>\n",
              "      <td>22.0</td>\n",
              "      <td>26.0</td>\n",
              "      <td>69.0</td>\n",
              "      <td>55.0</td>\n",
              "      <td>1011.8</td>\n",
              "      <td>1006.8</td>\n",
              "      <td>2.0</td>\n",
              "      <td>7.0</td>\n",
              "      <td>28.3</td>\n",
              "      <td>33.9</td>\n",
              "      <td>0</td>\n",
              "      <td>1</td>\n",
              "    </tr>\n",
              "    <tr>\n",
              "      <th>9955</th>\n",
              "      <td>1861</td>\n",
              "      <td>9</td>\n",
              "      <td>17.2</td>\n",
              "      <td>26.2</td>\n",
              "      <td>17.6</td>\n",
              "      <td>4.0</td>\n",
              "      <td>6.4</td>\n",
              "      <td>6</td>\n",
              "      <td>56.0</td>\n",
              "      <td>5</td>\n",
              "      <td>6</td>\n",
              "      <td>28.0</td>\n",
              "      <td>31.0</td>\n",
              "      <td>95.0</td>\n",
              "      <td>53.0</td>\n",
              "      <td>1002.5</td>\n",
              "      <td>1000.4</td>\n",
              "      <td>5.0</td>\n",
              "      <td>7.0</td>\n",
              "      <td>19.2</td>\n",
              "      <td>24.3</td>\n",
              "      <td>1</td>\n",
              "      <td>1</td>\n",
              "    </tr>\n",
              "    <tr>\n",
              "      <th>1778</th>\n",
              "      <td>68</td>\n",
              "      <td>26</td>\n",
              "      <td>2.7</td>\n",
              "      <td>15.7</td>\n",
              "      <td>0.0</td>\n",
              "      <td>4.4</td>\n",
              "      <td>6.9</td>\n",
              "      <td>3</td>\n",
              "      <td>31.0</td>\n",
              "      <td>0</td>\n",
              "      <td>6</td>\n",
              "      <td>11.0</td>\n",
              "      <td>17.0</td>\n",
              "      <td>69.0</td>\n",
              "      <td>54.0</td>\n",
              "      <td>1028.4</td>\n",
              "      <td>1024.1</td>\n",
              "      <td>6.0</td>\n",
              "      <td>6.0</td>\n",
              "      <td>8.1</td>\n",
              "      <td>14.1</td>\n",
              "      <td>0</td>\n",
              "      <td>1</td>\n",
              "    </tr>\n",
              "    <tr>\n",
              "      <th>12983</th>\n",
              "      <td>1360</td>\n",
              "      <td>35</td>\n",
              "      <td>21.6</td>\n",
              "      <td>31.5</td>\n",
              "      <td>2.4</td>\n",
              "      <td>4.6</td>\n",
              "      <td>3.8</td>\n",
              "      <td>13</td>\n",
              "      <td>30.0</td>\n",
              "      <td>6</td>\n",
              "      <td>0</td>\n",
              "      <td>9.0</td>\n",
              "      <td>2.0</td>\n",
              "      <td>89.0</td>\n",
              "      <td>71.0</td>\n",
              "      <td>1006.9</td>\n",
              "      <td>1003.7</td>\n",
              "      <td>2.0</td>\n",
              "      <td>7.0</td>\n",
              "      <td>24.9</td>\n",
              "      <td>28.7</td>\n",
              "      <td>1</td>\n",
              "      <td>1</td>\n",
              "    </tr>\n",
              "  </tbody>\n",
              "</table>\n",
              "</div>"
            ],
            "text/plain": [
              "       Tanggal  KodeLokasi  SuhuMin  ...  Suhu3pm  BersaljuHariIni  Class\n",
              "15679      671          34      7.9  ...     11.1                1      1\n",
              "15634     2048          45     24.2  ...     33.9                0      1\n",
              "9955      1861           9     17.2  ...     24.3                1      1\n",
              "1778        68          26      2.7  ...     14.1                0      1\n",
              "12983     1360          35     21.6  ...     28.7                1      1\n",
              "\n",
              "[5 rows x 23 columns]"
            ]
          },
          "metadata": {
            "tags": []
          },
          "execution_count": 88
        }
      ]
    },
    {
      "cell_type": "code",
      "metadata": {
        "colab": {
          "base_uri": "https://localhost:8080/",
          "height": 284
        },
        "id": "HD8gHzfoGsMF",
        "outputId": "a752da12-ea1d-4e7a-f1fd-d59be39f39e9"
      },
      "source": [
        "# Mengecek Outliers\n",
        "f,axes = plt.subplots(1,3)\n",
        "plt.figure(figsize=(20,10))\n",
        "salju_test_sampling['SuhuMin'].plot(kind='box',ax=axes[0])\n",
        "salju_test_sampling['SuhuMax'].plot(kind='box',ax=axes[1])\n",
        "salju_test_sampling['Class'].plot(kind='box',ax=axes[2])\n",
        "\n",
        "plt.show()"
      ],
      "execution_count": null,
      "outputs": [
        {
          "output_type": "display_data",
          "data": {
            "image/png": "[encoded data removed]",
            "text/plain": [
              "<Figure size 432x288 with 3 Axes>"
            ]
          },
          "metadata": {
            "tags": [],
            "needs_background": "light"
          }
        },
        {
          "output_type": "display_data",
          "data": {
            "text/plain": [
              "<Figure size 1440x720 with 0 Axes>"
            ]
          },
          "metadata": {
            "tags": []
          }
        }
      ]
    },
    {
      "cell_type": "code",
      "metadata": {
        "colab": {
          "base_uri": "https://localhost:8080/"
        },
        "id": "YexGle_VG5D7",
        "outputId": "ca270b8f-4593-44ae-ef7a-dbcf9be418c7"
      },
      "source": [
        "#Metode IQR untuk SuhuMin\n",
        "Q1=salju_test_sampling['SuhuMin'].quantile(0.25)\n",
        "Q3=salju_test_sampling['SuhuMin'].quantile(0.75)\n",
        "IQR=Q3-Q1\n",
        "print(Q1)\n",
        "print(Q3)\n",
        "print(IQR)\n",
        "Lower_Whisker = Q1-1.5*IQR\n",
        "Upper_Whisker = Q3+1.5*IQR\n",
        "print(Lower_Whisker, Upper_Whisker)"
      ],
      "execution_count": null,
      "outputs": [
        {
          "output_type": "stream",
          "text": [
            "8.0\n",
            "17.3\n",
            "9.3\n",
            "-5.950000000000001 31.25\n"
          ],
          "name": "stdout"
        }
      ]
    },
    {
      "cell_type": "code",
      "metadata": {
        "id": "1HoISlTvG8Or"
      },
      "source": [
        "salju_test_sampling = salju_test_sampling[salju_test_sampling['SuhuMin']< Upper_Whisker]\n",
        "salju_test_sampling = salju_test_sampling[salju_test_sampling['SuhuMin']> Lower_Whisker]"
      ],
      "execution_count": null,
      "outputs": []
    },
    {
      "cell_type": "code",
      "metadata": {
        "colab": {
          "base_uri": "https://localhost:8080/"
        },
        "id": "vmv5QPE2G_UR",
        "outputId": "566dba8d-834a-4e40-e431-5fb15c97ea52"
      },
      "source": [
        "#Metode IQR untuk SuhuMax\n",
        "Q1=salju_test_sampling['SuhuMax'].quantile(0.25)\n",
        "Q3=salju_test_sampling['SuhuMax'].quantile(0.75)\n",
        "IQR=Q3-Q1\n",
        "print(Q1)\n",
        "print(Q3)\n",
        "print(IQR)\n",
        "Lower_Whisker = Q1-1.5*IQR\n",
        "Upper_Whisker = Q3+1.5*IQR\n",
        "print(Lower_Whisker, Upper_Whisker)"
      ],
      "execution_count": null,
      "outputs": [
        {
          "output_type": "stream",
          "text": [
            "17.3\n",
            "27.7\n",
            "10.399999999999999\n",
            "1.7000000000000028 43.3\n"
          ],
          "name": "stdout"
        }
      ]
    },
    {
      "cell_type": "code",
      "metadata": {
        "id": "wmuSLb8_HH_9"
      },
      "source": [
        "salju_test_sampling = salju_test_sampling[salju_test_sampling['SuhuMax']< Upper_Whisker]\n",
        "salju_test_sampling = salju_test_sampling[salju_test_sampling['SuhuMax']> Lower_Whisker]"
      ],
      "execution_count": null,
      "outputs": []
    },
    {
      "cell_type": "code",
      "metadata": {
        "colab": {
          "base_uri": "https://localhost:8080/",
          "height": 282
        },
        "id": "e_PBKLkqHMWy",
        "outputId": "285d17dc-160a-49b9-81db-6b8b63382edf"
      },
      "source": [
        "# Mengecek Outliers setelah menggunakan metode IQR\n",
        "f,axes = plt.subplots(1,3)\n",
        "plt.figure(figsize=(20,10))\n",
        "salju_test_sampling['SuhuMin'].plot(kind='box',ax=axes[0])\n",
        "salju_test_sampling['SuhuMax'].plot(kind='box',ax=axes[1])\n",
        "salju_test_sampling['Class'].plot(kind='box',ax=axes[2])\n",
        "\n",
        "plt.show()"
      ],
      "execution_count": null,
      "outputs": [
        {
          "output_type": "display_data",
          "data": {
            "image/png": "[encoded data removed]",
            "text/plain": [
              "<Figure size 432x288 with 3 Axes>"
            ]
          },
          "metadata": {
            "tags": [],
            "needs_background": "light"
          }
        },
        {
          "output_type": "display_data",
          "data": {
            "text/plain": [
              "<Figure size 1440x720 with 0 Axes>"
            ]
          },
          "metadata": {
            "tags": []
          }
        }
      ]
    },
    {
      "cell_type": "code",
      "metadata": {
        "colab": {
          "base_uri": "https://localhost:8080/"
        },
        "id": "bzd1aCaBHRGZ",
        "outputId": "a7bd9fda-9ea7-45c5-e105-04af6b7d0c70"
      },
      "source": [
        "# Mengecek Data Unique\n",
        "def check(data):\n",
        "  for col in data.columns:\n",
        "    print(col, data[col].unique())\n",
        "\n",
        "check(salju_test_sampling)"
      ],
      "execution_count": null,
      "outputs": [
        {
          "output_type": "stream",
          "text": [
            "Tanggal [ 671 2048 1861 ...   62 1358  435]\n",
            "KodeLokasi [34 45  9 26 35 38 17 47 24 39 12 22  5 46  3  7 37 18 48 27  0 20 13  8\n",
            "  4 32  6 14 11 28 41 33 36 10 19  1 40 16 31  2 21 23 30 25 15 42 44 29\n",
            " 43]\n",
            "SuhuMin [ 7.9 24.2 17.2  2.7 21.6 10.8 16.   9.  11.7 15.5 10.6 10.2 15.3  8.4\n",
            " 21.1 -2.3 14.1 24.1 12.2 14.3 24.9  8.  13.4  9.2 18.8 17.8 12.6  7.7\n",
            " 15.7  7.2 11.2 13.7 19.2  8.8 26.5  5.7 17.1  5.9  5.6 11.   8.6 11.6\n",
            " 24.6 12.3 23.  24.5  6.1 26.4 12.4 21.9 25.   8.2  9.1 22.3 12.  26.6\n",
            " 17.7 14.  12.5  8.1  9.5 16.2  8.3  7.3 23.8  3.7 14.9 11.3 21.2  6.4\n",
            "  3.9 11.9 16.7 22.4  8.9 12.7 22.5 13.8 17.3 20.4 22.7 15.9 -1.1 25.4\n",
            " 22.9  4.8  9.9  5.4 19.4 14.7 16.5 17.9 19.9 12.1  6.6 17.4  9.7 20.8\n",
            " 13.3 18.3  7.8 25.8  3.6 10.7  7.4 13.6 10.9 21.3 15.2  0.5 21.5 13.\n",
            " 11.8  9.8  5.1  6.5 24.7  7.1  8.5  4.5 20.   4.9 19.3 11.1 18.2 14.4\n",
            " 16.8  6.8 18.  24.4 12.9  5.  15.6  9.4 21.4 10.5 13.2  1.3 24.  20.3\n",
            "  7.5 27.8  5.5 -1.2 10.4 13.9 27.  18.5 20.6 17.  14.5 17.5 10.3 21.7\n",
            " -0.3  5.8 20.2 21.  25.5  4.4  9.6 19.5  1.5  4.2 22.1 16.4 23.6 18.9\n",
            "  5.2 19.1  7.  10.  22.2 12.8  6.2  4.7  2.1 11.4  6.7 23.1  3.1 -3.8\n",
            " 13.1  6.3 15.   2.2 14.6 22.8 20.1 19.  19.6  6.9 -0.5 26.  -1.5  5.3\n",
            " 16.3 14.2 25.1 22.6 20.9  7.6 18.4 10.1  4.1 18.1 11.5 18.7 23.7 16.9\n",
            "  0.8  2.5 19.7  3.5 23.4 23.3 17.6 13.5  2.9  6.  23.2 22.  14.8 26.7\n",
            "  9.3 18.6  4.3 15.8 24.8 27.3  1.1  0.6 23.5 23.9  1.2  1.7 16.1 25.7\n",
            " 27.9 15.1 24.3 20.5 25.9 15.4  4.6  2.  16.6  2.8 21.8 28.1  2.6  3.8\n",
            " -1.9 25.6 20.7  3.3  2.3  3.  -0.2  8.7 19.8  4.   1.6  1.8 27.5  2.4\n",
            "  3.4  0.9 27.4  0.2 26.8 25.3  1.9 -2.8  0.4 -0.8 25.2 26.2  3.2 30.7\n",
            " -0.4  0.1 -1.8 28.  -2.9 27.6 -2.5  1.4 28.6 -1.  -2.6 26.1 -4.   0.\n",
            " -1.3 -2.   0.7  1.  -2.1 -0.9 -1.7 -3.4 -0.1 -0.6 -4.3  0.3 27.2 -0.7\n",
            " -3.5 26.3 -1.6 -2.4 -1.4 -5.8 -5.9 -5.5 -3.9 -3.1 -4.7 28.2 -3.2 -3.3\n",
            " 29.6 -4.1 -2.2 28.5 -3.6 -4.9 -5.7 27.7 -4.6 -3.  29.4 -4.5 29.7 26.9\n",
            " -3.7 -4.2 29.3 -5.1 -4.4 28.3 -2.7 -4.8 28.8 28.4 29.  -5. ]\n",
            "SuhuMax [11.8 35.2 26.2 15.7 31.5 18.6 34.8 22.5 15.8 20.8 20.6 20.2 20.3 13.4\n",
            " 31.1  3.  33.9 32.2 29.9 18.3 33.8 30.4 15.3 15.1 16.2 21.3 19.4 23.5\n",
            " 11.5 16.3 15.  27.6 15.2 30.9 12.7 26.9 12.6 19.  17.4 19.6 31.2 21.\n",
            " 31.  21.4 33.  16.9 34.4 24.2 35.4 39.8 14.  36.5 17.  20.1 18.7 18.2\n",
            " 26.3 17.6 12.5 19.5 21.2 24.8 30.6 12.9 27.8 11.6 15.4 20.7 28.  37.1\n",
            " 19.9 26.  14.8 17.8 22.2 39.6 33.5 22.8 10.8 13.5 32.3 26.6 12.2 35.3\n",
            " 13.7 32.  23.7 26.4 25.9 23.  16.  23.2 34.3 17.7 17.3 10.6 19.1 14.2\n",
            " 32.8 27.3 29.2 13.1 21.6 25.6 15.5 13.8 42.5 11.4 20.5 15.9 22.6 23.6\n",
            " 19.8 30.  18.8 19.3 16.1 23.4 31.9 16.4 24.4 13.9 22.  38.5 17.9 34.5\n",
            " 35.5 29.1 18.  13.6 33.4 22.1 14.7 23.8 24.3 20.  21.1 14.1 23.1 35.6\n",
            " 30.1 27.2 18.5 11.9  2.6 32.1 18.9 20.4 17.1 24.5 27.  17.2 20.9 32.7\n",
            "  9.8 12.8 28.8 25.5 14.5 25.1 25.3 18.1 16.8 36.  29.5 14.6 28.7 11.2\n",
            "  9.5 26.1 23.9 42.1 40.1 30.5 28.4 30.3 17.5 16.6 25.2 21.7 32.5 12.3\n",
            " 22.4 14.9 37.5 24.6 29.4 10.2 30.8 16.7 29.3 31.7 28.2 24.7 27.9 21.9\n",
            " 27.7  4.8 34.7 27.1 33.1  3.8 34.1 30.7 25.4  3.4 37.8 22.3 19.7 12.\n",
            " 34.6 27.5 15.6 22.9 26.8 28.1 37.4 10.1 10.7 35.1 11.1 19.2 13.3 25.\n",
            " 33.2 16.5 11.3 18.4 32.4 12.1 32.6 28.6 29.6 21.8 27.4  7.2 34.2 13.2\n",
            "  9.4 37.6 24.9 26.5 32.9 28.5 11.7 37.2 14.3  4.4 28.3 31.3 37.7 31.6\n",
            "  2.8 33.3 10.4 14.4 23.3 24.  28.9 40.4 13.  30.2 22.7 34.9  8.8 11.\n",
            " 29.8 25.7 38.6 37.9  2.7 21.5 37.  10.3 41.2 12.4 33.6 37.3  9.7 24.1\n",
            " 26.7 38.4  8.6 29.  36.2  5.7  7.9 10.5 36.6  4.7 36.7 38.9  8.1  9.3\n",
            " 40.8  9.1  9.9 25.8 31.4  3.9 31.8  5.5 39.1 33.7  7.7 35.8  4.3  8.4\n",
            " 36.9  5.2 41.9  4.5 10.9 29.7  6.6  6.2 38.3  9.6 35.  34.  39.3  6.7\n",
            " 40.  38.2  6.8  8.9 10.  41.5  8.   9.2  9.  35.9 41.6 35.7 41.8  5.3\n",
            "  6.1  2.2  4.  38.7  2.5  2.3  7.4 36.3 42.6  2.4 36.1  8.5 40.2 41.4\n",
            " 38.  39.5 42.8 43.1 36.4  8.7 40.9 40.7 36.8 38.1  7.   6.9  5.8 43.\n",
            " 39.9 38.8 39.   3.1  3.3 39.2 39.7 41.3  7.6 42.7  4.9 40.6 42.2 40.3\n",
            " 40.5 41.1  3.7 41.7  4.1 39.4  8.2 41.  42.9  2.   7.5  2.9  7.8  7.3\n",
            " 43.2  1.9 42.3  7.1  3.2 42.   3.6 42.4  8.3]\n",
            "Hujan [2.600e+00 0.000e+00 1.760e+01 2.400e+00 2.000e-01 1.000e+00 1.120e+01\n",
            " 2.800e+00 5.600e+00 1.400e+00 2.680e+01 5.440e+01 8.000e-01 1.380e+01\n",
            " 3.140e+01 4.400e+00 1.300e+01 1.900e+01 8.000e+00 1.560e+01 1.240e+01\n",
            " 5.400e+00 2.320e+01 6.600e+00 6.200e+00 4.000e-01 1.060e+01 4.080e+01\n",
            " 6.000e-01 1.320e+01 2.200e+00 1.280e+02 2.540e+01 8.200e+00 3.000e+00\n",
            " 3.200e+00 2.000e+01 1.600e+00 4.200e+00 1.280e+01 1.420e+01 7.200e+00\n",
            " 1.780e+01 5.560e+01 3.400e+00 6.800e+00 2.280e+01 9.000e+00 1.000e+01\n",
            " 3.800e+00 4.180e+01 2.440e+01 4.020e+01 3.600e+00 5.000e+00 4.800e+00\n",
            " 1.200e+00 2.060e+01 8.800e+00 2.800e+01 2.160e+01 4.000e+00 9.600e+00\n",
            " 4.060e+01 1.020e+01 3.440e+01 6.440e+01 1.040e+01 1.460e+01 1.260e+01\n",
            " 6.140e+01 3.260e+01 4.600e+00 3.740e+01 1.800e+00 2.000e+00 7.600e+00\n",
            " 5.800e+00 6.000e+00 2.740e+01 1.480e+01 5.200e+00 2.080e+01 9.400e+00\n",
            " 1.660e+01 1.940e+01 4.600e+01 7.000e+00 3.220e+01 3.020e+01 3.980e+01\n",
            " 2.200e+01 2.260e+01 1.100e+01 3.640e+01 7.400e+00 1.960e+01 2.840e+01\n",
            " 1.360e+01 1.620e+01 1.180e+01 2.368e+02 1.080e+01 8.400e+00 2.700e+01\n",
            " 2.980e+01 2.600e+01 3.180e+01 9.200e+00 2.220e+01 1.000e-01 1.860e+01\n",
            " 1.640e+01 3.760e+01 2.560e+01 9.800e+00 1.500e+01 6.400e+00 5.820e+01\n",
            " 3.860e+01 1.846e+02 3.700e+01 6.460e+01 3.280e+01 1.200e+01 3.380e+01\n",
            " 8.600e+00 7.100e+01 1.520e+01 8.640e+01 7.800e+00 1.980e+01 3.100e+01\n",
            " 1.140e+01 5.500e+01 4.340e+01 1.440e+01 1.160e+01 6.620e+01 5.100e+01\n",
            " 1.880e+01 3.080e+01 2.120e+01 2.720e+01 4.380e+01 1.340e+01 8.900e+01\n",
            " 1.228e+02 1.680e+01 1.220e+01 5.620e+01 4.840e+01 3.620e+01 4.420e+01\n",
            " 5.780e+01 2.640e+01 1.540e+01 2.100e+01 2.400e+01 1.700e+01 3.780e+01\n",
            " 4.800e+01 1.920e+01 7.960e+01 2.140e+01 5.240e+01 3.500e+01 2.300e+01\n",
            " 3.300e+01 2.360e+01 1.720e+01 6.060e+01 1.740e+01 1.154e+02 7.860e+01\n",
            " 7.680e+01 4.320e+01 2.480e+01 4.620e+01 3.520e+01 2.180e+01 2.620e+01\n",
            " 6.600e+01 3.000e-01 3.160e+01 1.820e+01 3.340e+01 1.500e+00 5.140e+01\n",
            " 1.800e+01 4.300e+01 2.380e+01 2.580e+01 1.840e+01 3.940e+01 4.100e+01\n",
            " 3.540e+01 4.660e+01 3.360e+01 3.400e+01 7.900e+00 5.740e+01 6.220e+01\n",
            " 4.540e+01 1.070e+01 8.400e+01 3.920e+01 6.280e+01 3.300e+00 4.860e+01\n",
            " 5.960e+01 4.240e+01 5.880e+01 6.700e+01 3.320e+01 3.420e+01 2.020e+01\n",
            " 3.680e+01 9.260e+01 3.820e+01 7.160e+01 1.300e+00 2.880e+01 6.340e+01\n",
            " 1.216e+02 1.600e+01 5.060e+01 4.960e+01 2.940e+01 6.420e+01 4.640e+01\n",
            " 7.400e+01 4.920e+01 3.560e+01 5.120e+01 2.420e+01 4.880e+01 4.040e+01\n",
            " 4.440e+01 2.780e+01 1.442e+02 1.090e+02 3.900e+01 8.380e+01 5.800e+01\n",
            " 6.400e+01 7.100e+00 6.380e+01 8.360e+01 1.900e+00 1.400e+01 6.200e+01\n",
            " 6.100e+01 7.260e+01 3.880e+01 2.760e+01 4.460e+01 6.160e+01 5.600e+01\n",
            " 2.900e+01 1.138e+02 7.060e+01 2.340e+01 2.500e+01 7.620e+01 2.960e+01\n",
            " 8.060e+01 3.120e+01 3.660e+01 6.020e+01 2.520e+01 2.040e+01 1.152e+02\n",
            " 7.800e+01 4.940e+01 2.860e+01 4.980e+01 3.600e+01 1.580e+01 1.034e+02\n",
            " 9.040e+01 4.820e+01 3.580e+01 2.472e+02 4.900e+01 2.660e+01 3.460e+01\n",
            " 4.700e+01 5.580e+01 1.822e+02 3.240e+01 8.800e+01 5.000e-01 4.760e+01\n",
            " 7.080e+01 8.240e+01 7.500e+01 4.200e+01 1.590e+01 3.960e+01 4.900e+00\n",
            " 4.740e+01 4.700e+00 5.320e+01 6.500e+00 4.120e+01 7.000e-01 3.200e+01\n",
            " 6.900e+00 9.320e+01 2.460e+01 2.240e+01 3.040e+01 2.300e+00 5.420e+01\n",
            " 2.900e+00 7.420e+01 6.300e+00 5.160e+01 6.520e+01 3.720e+01 3.900e+00\n",
            " 2.100e+00 4.500e+00 1.180e+02 1.110e+02 4.220e+01 1.700e+00 1.050e+02\n",
            " 5.300e+01 6.000e+01 2.820e+01 4.000e+01 2.920e+01 1.100e+00 4.140e+01\n",
            " 1.834e+02 7.520e+01 8.180e+01 6.780e+01]\n",
            "Penguapan [ 0.8  7.8  4.   4.4  4.6  6.6  3.2  1.8  2.8  5.8 10.8  2.2  5.2  4.2\n",
            "  1.2  7.4  2.4  9.6  3.8  5.6  2.   7.2  7.   9.8  8.4  2.6  6.   7.6\n",
            "  0.4  0.2  6.2  3.6  3.  11.8 16.   8.  26.   5.   0.6  8.8  8.6  1.4\n",
            " 13.4  4.8 10.4  3.4 11.6  1.6 10.6 11.   1.   8.2  2.1  9.4 10.   2.9\n",
            " 15.6 10.2  6.4  5.4 13.   3.5  9.2  6.8 11.2 12.8 12.4  2.3 12.2  1.1\n",
            " 15.2  0.   7.7 12.  27.2 14.8  4.3 11.4 23.6 15.4 36.6 14.  19.2  9.\n",
            " 12.6  1.9 18.6 35.8  6.5  5.3 36.8 10.5 14.4  6.7  2.7 13.6 20.6  5.1\n",
            " 10.1  3.1 17.6  5.7 17.  21.   8.5 28.6  9.1 14.2  3.7 14.6 30.4  3.3\n",
            " 22.4 10.9 15.   8.7 15.8 13.2 16.2 16.6 14.5 35.4 33.6  2.5 52.4  1.3\n",
            "  7.5 32.  24.   4.1  1.7 18.8 19.  17.4 21.6 16.4 14.7 20.8 24.6 18.4\n",
            " 11.9 30.8 18.  20.  28.   4.7 19.8 27.8 56.   0.3 25.4 19.6 36.   7.9\n",
            " 32.2 40.4 54.  23.   1.5 22.6  6.3 24.2 25.  16.8 13.8 19.1 68.8  0.9\n",
            " 12.1 35.   9.3  7.1  4.9 22.1 23.2 21.2 22.   6.9  0.7 34.2 21.4 32.8\n",
            "  5.9 19.7  5.5  8.3 17.8 20.2  0.1 18.2 17.2 22.2 13.3 20.4 39.2 42.8\n",
            " 44.4 22.8 13.1 29.8 23.3 25.6 64.   6.1 37.6 34.  34.5  3.9 38.4 11.1\n",
            " 31.  59.8 13.9 46.6 37.4  0.5 41.2 11.7 23.4]\n",
            "SinarMatahari [ 6.9  9.1  6.4  3.8 11.7  6.6  6.7  3.7 12.4 11.  11.9  5.4  4.8  0.5\n",
            "  8.1  9.   5.3  1.1  2.7  0.   1.6  1.   9.5 12.3  5.6 13.2  2.2  5.2\n",
            " 11.4  7.5  5.5  7.1  9.6  2.9  7.9  3.4  7.8  8.6  2.5  4.9  1.7  6.1\n",
            "  2.6  2.   2.8 10.9  3.2  8.7  0.8  3.6  4.3  6.8  3.3  0.4  1.8  0.7\n",
            "  8.2  8.5  0.2  4.4 11.8  0.6  8.8  1.2  5.8  8.   5.1  3.   5.   1.3\n",
            "  3.9  7.3  7.4  0.1  6.   7.6  7.2  2.1  9.8  4.6 10.   9.2  9.7 12.8\n",
            " 11.5  9.9  0.3  6.3  4.1  8.4  4.7  4.5  6.5  4.2 10.6  6.2  8.3  8.9\n",
            "  0.9 12.1  2.3  5.9  7.7 13.   1.5  1.9 10.2 11.3  5.7  9.4  3.5  2.4\n",
            "  3.1 10.3 10.7  4.  10.1  1.4 11.2 12.7  7.  10.8 12.5 12.6 10.4 13.8\n",
            "  9.3 13.4 12.2 12.  12.9 11.1 11.6 10.5 13.1 13.9 13.3 13.6 13.7 13.5\n",
            " 14.3 14.  14.5 14.1]\n",
            "ArahAnginTerkencang [13  0  6  3  7  1  9 11  5 15  4 12 10 14  2  8]\n",
            "KecepatanAnginTerkencang [ 39.  63.  56.  31.  30.  35.  20.  43.  37.  33.  13.  24.  41.  44.\n",
            "  26.  52.  65.  48.  69.  74.  61.  46.  28.  15.  67.  54.  19.  57.\n",
            "  50.  72.  70.  80.  22.  59.  78.  17.  87.  89.  83.  93.  81.  85.\n",
            "  76.  94.  91.  11.  98. 109. 100. 106.  96. 104.   9. 107.   7. 102.\n",
            " 115.   6. 122.]\n",
            "ArahAngin9am [ 7  0  5  6  9 12  4  3  1 10  8 13 14 11 15  2]\n",
            "ArahAngin3pm [13  5  6  0  9  8 11  3  4  2 12  7  1 15 10 14]\n",
            "KecepatanAngin9am [20. 22. 28. 11.  9. 24. 15. 19.  0. 13. 26. 17.  6.  2.  4. 33. 30.  7.\n",
            " 31. 39. 35. 44. 41. 46. 48. 37. 43. 57. 50. 52. 65. 61. 54. 63. 83. 56.\n",
            " 59.]\n",
            "KecepatanAngin3pm [13. 26. 31. 17.  2. 19. 22. 20. 28.  9.  7. 33. 11. 48. 37.  6.  4. 30.\n",
            " 15. 41. 39. 35. 46. 24. 50.  0. 44. 43. 59. 57. 52. 56. 61. 65. 83. 54.]\n",
            "Kelembaban9am [ 90.  69.  95.  89.  85.  71.  99.  70.  84.  83.  78.  61.  73.  41.\n",
            "  59.  75.  63.  86.  94.  62.  68.  93.  97. 100.  96.  81.  92.  79.\n",
            "  60.  67.  76.  53.  72.  48.  54.  82.  88.  56.  65.  57.  98.  64.\n",
            "  80.  77.  74.  49.  37.  91.  51.  66.  45.  40.  87.  18.  52.  36.\n",
            "  58.  35.  38.  25.  55.  31.  42.  47.  17.  21.  50.  43.  33.  46.\n",
            "  39.  24.  26.  27.  28.  16.  23.  15.   6.  14.  20.  19.  32.  22.\n",
            "  44.  13.  12.  11.  34.  30.   8.   9.  29.   4.  10.   5.   3.   7.\n",
            "   2.]\n",
            "Kelembaban3pm [ 92.  55.  53.  54.  71.  75.  35.  59.  44.  84.  72.  58.  21.  60.\n",
            "  69.  38.  83.  62.  46.  37.  74.  88.  39.  78.  64.  85.  80.  70.\n",
            "  67.  52.  61.  82.  45.  32.  76.  40.  99.  79.  36.  57.  96.  77.\n",
            "  56.  93.  86.  97.  94.  91.  12.  68.  89.  30.  27.  73.  81. 100.\n",
            "  11.  95.  65.  48.  47.  98.  90.  87.  49.  29.  63.  51.  50.  43.\n",
            "  33.  42.  26.  28.  17.  19.  41.  66.  23.  34.  25.  24.  22.   4.\n",
            "  31.  16.  20.  13.  18.  15.   6.   7.  14.   9.   5.  10.   8.   3.\n",
            "   2.   1.]\n",
            "Tekanan9am [1005.4 1011.8 1002.5 1028.4 1006.9 1008.2 1003.9 1020.7 1024.5 1023.1\n",
            " 1019.8 1015.9 1026.6 1029.3 1018.3 1016.3 1014.7 1015.1 1016.9 1015.2\n",
            " 1015.3 1004.8 1008.5 1012.7 1013.2 1009.7 1022.2 1007.8 1013.7 1018.1\n",
            " 1013.1 1016.1 1009.5 1022.1  992.  1019.9 1020.5 1021.9 1007.3 1014.2\n",
            " 1006.2 1001.  1004.6 1019.3 1016.8 1010.5 1011.1 1010.7 1009.4 1009.1\n",
            " 1015.5 1008.8 1016.  1012.5  997.4 1001.6 1014.1 1027.6 1013.5 1013.3\n",
            " 1021.2 1017.7 1011.9 1006.7 1008.4 1017.1 1014.  1011.2 1012.9 1020.9\n",
            " 1010.2 1003.4 1015.7 1012.3 1013.  1022.8 1024.9 1007.  1017.3 1013.9\n",
            " 1019.  1008.7 1020.2 1014.6 1022.9 1007.2 1012.  1012.1 1007.5 1003.6\n",
            " 1006.6 1002.3 1001.3 1002.  1017.6 1014.4 1017.2 1003.2 1011.4 1018.2\n",
            " 1030.1 1022.6 1007.7 1000.5 1021.8 1003.8 1029.8 1021.4 1030.3 1005.7\n",
            " 1010.9 1019.7  993.3 1017.9 1010.1 1012.4  992.6 1025.9 1009.  1012.6\n",
            " 1020.  1004.9 1024.4 1017.8 1008.6 1016.2 1006.5 1025.  1004.  1008.\n",
            " 1029.1  996.1 1015.8 1022.  1009.3 1015.4 1030.7 1027.  1027.5 1010.8\n",
            " 1028.5 1011.  1001.7 1015.  1008.3 1011.7 1021.3 1007.1 1015.6 1005.1\n",
            "  999.4 1012.8 1005.5  997.8 1007.6 1019.5 1005.6  998.6 1002.7 1025.5\n",
            " 1011.5 1018.7 1023.  1013.8 1006.  1028.7 1008.1 1006.4 1014.5 1014.3\n",
            " 1019.1 1029.2 1011.6 1029.  1004.7 1025.4 1014.9 1024.3 1026.7 1021.1\n",
            " 1011.3 1025.7 1009.2 1019.4 1006.8 1032.3 1016.4 1018.4 1005.2 1026.9\n",
            " 1010.4 1012.2 1003.3 1018.6 1017.4 1023.4 1022.7 1010.   997.5 1008.9\n",
            " 1006.1 1007.9 1018.5 1017.5 1004.3 1023.6 1004.2 1013.6 1017.  1013.4\n",
            " 1009.6 1024.1 1020.8 1025.2 1018.9 1019.6 1021.5 1027.7 1025.3 1018.8\n",
            " 1020.4 1016.6 1009.8 1018.  1019.2 1005.3 1029.5 1020.1 1002.1 1026.2\n",
            "  991.9 1001.5 1001.9 1014.8 1003.7 1010.3  998.8 1027.4 1030.2 1007.4\n",
            " 1021.7 1028.  1027.8 1005.8 1023.3 1004.1 1022.5  994.1 1004.4 1024.6\n",
            " 1026.4  998.9 1027.9 1004.5 1010.6 1021.   994.9 1016.7 1001.4 1001.1\n",
            "  994.3 1023.2 1027.1 1025.6 1030.9 1024.2  995.2  992.7 1025.1  996.5\n",
            " 1016.5  996.8 1026.1 1024.8 1000.7 1030.4 1025.8 1029.4  982.3 1023.5\n",
            " 1036.1  995.3  987.3 1023.8 1020.3 1031.5 1028.2 1002.9 1001.8 1002.8\n",
            " 1005.  1020.6  999.3  997.1 1003.   997.3  996.   998.7 1003.5  997.2\n",
            " 1006.3 1002.4  992.1 1031.3 1028.1 1009.9 1023.9  998.4 1003.1 1028.3\n",
            " 1023.7 1029.7  995.9 1022.4 1002.6 1036.8 1021.6  987.2 1026.8 1001.2\n",
            " 1002.2 1027.3  999.9  995.1  995.  1032.7 1000.1 1026.5  991.3 1026.\n",
            "  998.5  999.5 1030.5 1028.8 1000.9  999.7 1033.5  995.6 1000.3  991.8\n",
            "  999.8 1000.6  999.  1024.7 1005.9  991.6  992.3  992.9 1030.6  998.3\n",
            " 1026.3  998.1 1031.4 1024.   985.1  996.7 1027.2  999.2  997.  1034.2\n",
            "  994.7  994.6  995.8  991.1 1022.3  990.2  984.4 1031.6 1000.   989.6\n",
            "  985.9 1028.9  989.7 1036.2 1034.  1029.9  995.5 1038.  1035.7 1000.8\n",
            "  992.8 1036.7 1028.6  996.3 1031.   997.9  999.1 1032.   986.7  990.8\n",
            " 1030.8  996.6 1031.7 1000.2 1032.1  989.4 1031.1 1030.  1032.6 1034.3\n",
            " 1037.  1034.8 1036.4 1033.9 1031.9 1029.6 1033.3 1033.1 1034.4 1032.9\n",
            " 1033.6 1032.8 1032.2 1031.8 1033.2 1031.2 1034.7 1035.4 1039.9  996.4\n",
            " 1034.9 1032.5 1035.  1033.8 1037.8 1035.1 1037.7  993.1 1035.8 1033.7\n",
            " 1033.4 1032.4 1037.9 1035.6 1037.1 1034.5  994.2 1037.4 1040.3 1037.6\n",
            " 1035.5 1035.2 1036.6 1037.5 1038.5  997.6 1036.5 1036.3 1039.2 1035.9\n",
            " 1034.1  996.9  993.7  999.6 1035.3 1033.   998.2 1039.  1040.6 1037.3\n",
            " 1034.6 1036.   988.9 1039.3  994.   995.4 1038.8  987.9 1037.2 1039.6\n",
            " 1036.9  989.8]\n",
            "Tekanan3pm [1005.3 1006.8 1000.4 1024.1 1003.7 1006.2  999.7 1017.5 1022.9 1020.7\n",
            " 1012.4 1013.7 1026.2 1015.3 1014.  1010.8 1014.4 1014.3 1010.5 1002.\n",
            " 1004.2 1016.8 1014.5 1006.1 1015.9 1007.9 1014.7 1017.6 1013.8 1012.2\n",
            " 1012.6 1006.6 1021.7  989.8 1016.2 1020.4 1023.6 1004.4 1001.5 1000.2\n",
            " 1011.5 1004.5 1012.5 1006.4 1005.2 1010.4 1009.9 1005.9 1003.9 1005.\n",
            " 1011.7 1008.4 1003.5  998.9 1026.6 1007.6 1015.1 1018.1 1015.8 1008.1\n",
            " 1006.3 1013.6 1015.5 1014.9 1016.1 1009.8 1018.5 1005.1 1013.3 1009.7\n",
            " 1020.9 1021.2 1007.7 1018.4 1011.8 1016.9 1004.9 1017.9 1009.5 1022.8\n",
            " 1009.1 1012.3 1003.1  999.5 1002.3 1003.2 1001.2 1016.5 1001.  1002.7\n",
            " 1012.1 1019.4 1019.9 1014.2 1017.4 1001.4 1004.  1005.7 1027.8 1019.8\n",
            " 1005.8  993.  1017.  1004.8 1014.1 1008.9 1003.  1028.  1020.2 1028.4\n",
            " 1008.7 1013.1 1010.2  995.7 1010.9 1012.  1014.6  989.7 1023.4 1016.\n",
            "  997.8 1010.  1018.7 1019.2 1015.  1007.3 1025.7 1015.7 1026.8  996.7\n",
            " 1004.1 1013.  1011.3 1017.8 1008.8 1015.6 1006.7 1029.7 1024.  1024.5\n",
            " 1009.4 1026.3 1017.1 1007.5 1005.5  996.8 1004.3 1011.6 1002.6 1003.8\n",
            " 1004.6 1003.3 1013.4 1012.7 1009.3 1024.7 1002.4 1002.8  999.3 1008.5\n",
            " 1023.2 1009.  1012.8 1007.2 1026.7 1026.9 1010.1 1019.7 1017.3 1019.6\n",
            " 1025.8 1000.5 1008.2 1024.6 1010.3 1023.3 1023.  1008.6 1008.  1018.2\n",
            " 1015.2 1030.5 1007.8 1006.9 1011.  1013.2  999.9 1024.4 1021.9 1000.6\n",
            "  994.9 1007.  1007.4 1022.1 1023.5 1011.1 1003.4 1015.4 1021.1 1025.6\n",
            " 1019.5 1018.6 1026.1 1024.3 1002.9 1012.9 1016.7 1017.2 1008.3 1024.8\n",
            " 1004.7 1000.9 1018.8 1007.1 1005.4 1014.8 1016.3 1020.  1029.4 1011.2\n",
            " 1020.8  999.6 1006.   989.  1009.2 1000.1 1018.9 1009.6 1006.5 1002.1\n",
            " 1028.3  997.4 1003.6 1019.  1025.3 1017.7 1023.1  997.  1013.9 1025.1\n",
            " 1001.7 1022.5 1010.6  999.8 1023.8 1001.3 1026.4 1022.  1019.3 1021.\n",
            " 1016.4  995.2  997.7 1021.8  990.1 1022.2 1030.4 1016.6 1002.2  995.\n",
            "  997.1 1019.1  998.2 1022.6 1021.4  988.3 1002.5  998.5 1027.7 1018.\n",
            " 1028.6  994.7 1027.4 1028.2  997.9  986.4 1032.7  996.2 1018.3  986.2\n",
            " 1021.6  991.8 1030.1 1010.7 1024.9 1011.9 1013.5 1001.8  985.1 1000.\n",
            " 1005.6 1000.3  998.1 1023.9 1026.5  997.6  991.  1029.6 1011.4 1027.5\n",
            "  994.5 1001.9 1022.7 1025.  1029.  1024.2 1022.4 1028.9 1025.5 1022.3\n",
            "  991.5 1000.8 1023.7 1020.6  998.3 1035.  1000.7 1001.1  993.3 1020.5\n",
            "  999.1  998.7  992.2  994.3 1033.1 1020.1 1021.5  998.8 1027.1 1001.6\n",
            "  987.7 1027.3  993.9 1021.3 1027.9 1030.3 1027.   994.   998.   995.6\n",
            "  984.5 1025.4  996.6  994.2  986.6  991.3  997.3 1027.6 1020.3  998.4\n",
            "  996.1  996.3 1029.3  984.9  991.6 1031.  1025.9  992.4 1031.4  989.2\n",
            " 1028.1  992.8  997.2  993.5  995.1  994.1  988.  1030.9  998.6 1032.2\n",
            "  985.4  994.6  995.5 1033.8 1035.6  995.9 1027.2 1028.7 1030.7 1034.9\n",
            "  996.4 1032.6  999.  1030.6 1034.1 1032.1  996.9 1025.2  992.9  999.4\n",
            "  986.9 1029.1  999.2  987.3  997.5 1026.  1032.9 1029.9 1031.6 1035.7\n",
            " 1030.2 1033.5 1029.5 1031.3 1028.5 1029.2 1031.2  992.1 1031.1 1028.8\n",
            " 1032.4 1029.8 1031.5 1030.8 1034.2 1035.3 1036.  1032.3 1034.5 1031.8\n",
            " 1031.9 1035.1  993.7 1030.  1031.7 1034.6 1036.4  996.  1034.  1033.9\n",
            "  995.3 1032.5 1037.6  994.8 1032.  1033.7 1035.9 1034.4 1035.4 1034.7\n",
            " 1033.2  990.6  995.8 1033.6 1037.8 1037.7 1033.3 1032.8 1034.3 1037.9\n",
            "  995.4 1033.  1036.7 1033.4 1038.4 1035.5 1034.8 1037.3 1036.2  990.8\n",
            "  992.3]\n",
            "Awan9am [8. 2. 5. 6. 0. 7. 3. 1. 4.]\n",
            "Awan3pm [8. 7. 6. 1. 5. 2. 3. 4. 0.]\n",
            "Suhu9am [ 9.5 28.3 19.2  8.1 24.9 16.2 23.7 12.  13.  17.6 13.2 14.9 17.3 10.6\n",
            " 27.6 16.6 23.9 29.4 26.6 14.7 22.3 11.1 12.3 19.4 14.  19.6 13.4 21.6\n",
            " 11.9  9.6 29.1 10.3 19.9  9.   8.8 12.8  9.8 14.5 29.  16.7 12.7 30.9\n",
            " 16.4 32.7 11.   9.4 11.4 13.6 31.3 30.5 14.2 17.4 15.3 17.  12.4 18.2\n",
            " 19.7 26.5  6.1 25.2 17.9  9.2 10.9 15.5 15.7 18.9 28.  15.2 14.6 13.7\n",
            " 25.  18.5 21.7 27.1 14.4  1.5  9.7 26.4 23.5 10.2 25.7 16.8 22.  21.3\n",
            " 18.  20.3 20.6 27.2 19.5 12.2  7.7 17.7 24.6 19.8 18.4 17.5 22.8 10.1\n",
            " 17.2 34.4  5.6 19.  14.3 19.3 26.1 24.1 18.3 15.  16.  13.5 20.1  6.\n",
            "  8.  29.9  9.3 11.3 19.1 24.  12.6 13.3 10.4 22.2 15.9 10.8 24.3 16.1\n",
            " 16.9 13.1 15.4 20.4 16.5 11.7 26.8 21.9 22.4 30.4 18.7  0.8 30.  18.8\n",
            " 23.2 23.8 15.6  7.  25.9 24.7 23.  21.   8.7 26.2 13.8  7.2 22.9 23.6\n",
            " 22.1 15.1 29.3 12.9 20.5 10.7 10.5  8.9 17.1 27.  11.5 11.6 22.6 12.5\n",
            " 21.8 28.1 18.6  9.1 24.2  6.9 21.5 21.2  3.6 25.3 10.  27.4 25.5 29.2\n",
            " 14.1  6.8 -1.  30.7 28.9 26.7 17.8 28.6 27.9 23.1 27.3 16.3 21.4  6.7\n",
            " 20.8 26.  12.1  9.9  5.  20.  30.6  5.9 14.8 29.8  6.6 13.9 23.4 24.8\n",
            "  5.5 15.8  7.9  6.4  4.5  8.4 11.8  8.3 18.1 24.5 25.4 28.4 24.4  7.6\n",
            "  7.4 21.1 25.8 31.5 27.5  5.4  4.3 20.2  1.2  8.5 22.5  5.8 20.7 25.6\n",
            " 30.1 11.2 28.8  7.8  6.2 28.2 26.9  7.3  2.7 30.2 29.5  5.1  7.5 22.7\n",
            " 27.8 26.3  4.4 20.9  6.3  6.5  4.7 25.1 23.3  4.8  4.6  3.9  3.8  4.9\n",
            " 33.  34.2 30.8  7.1 33.6  3.5  8.2  3.3 29.6 32.  31.   2.1 32.6  2.4\n",
            "  8.6 28.7  2.2  2.5 28.5  5.7  4.2  3.7 34.3 29.7  4.  32.2 32.5  3.\n",
            " 27.7  1.3 31.8 32.8  5.2  3.4  1.  30.3  1.4  4.1 31.6 -0.9  1.6  3.1\n",
            " 33.2  0.   2.6 31.2  5.3 31.1 31.7  2.8 32.3 33.1 34.  -1.3  2.9  0.9\n",
            " 32.4  2.  -0.1  3.2 33.5 -0.3  0.3 31.9  1.8 -0.5 -2.9 33.8  0.6 -0.6\n",
            " 35.2 31.4 37.7  1.1 33.3  1.7  0.7 34.5 33.7 34.8 32.9 33.4 -2.   1.9\n",
            " 32.1 -0.4 34.1 -0.7  0.2  2.3 -1.5 35.5 34.7 -2.4  0.1 35.3 -1.1  0.5\n",
            " 37.6 34.9 35.1 -0.2  0.4 35.7 36.2]\n",
            "Suhu3pm [11.1 33.9 24.3 14.1 28.7 18.1 33.3 20.9 14.4 19.4 20.4 15.1 19.1 13.4\n",
            " 30.  20.3 32.  30.3 28.2 18.  32.2 28.6 14.9 13.7 15.5 19.2 18.9 16.7\n",
            "  9.8 16.3 14.6 25.6 13.9 28.9 24.8 10.  12.4 17.2 29.3 30.2 19.6 33.7\n",
            " 23.2 23.3 33.5 14.3 12.2 31.6 17.7 15.6 32.6 16.6 12.8 26.1 14.7 11.9\n",
            " 20.8 22.1 28.5 12.  24.5 29.  23.8  8.6 12.6 26.  16.1 18.6 13.6 30.8\n",
            " 20.2 37.4 18.3 12.5 33.8 12.7 10.6 23.1 24.  22.3 21.3 14.8 21.  32.9\n",
            " 15.8  8.  13.5 29.5 24.1 11.7 17.  20.7 22.8 19.5 41.3 10.1 15.2 21.1\n",
            " 16.8 15.7 28.1 12.9 17.8 18.2 21.4 16.  16.5 10.7 17.9 31.3 13.3 30.4\n",
            " 22.5 21.2 23.9 27.7 13.8 19.  17.6  9.1 11.8 27.5 22.2 17.5 26.9 17.3\n",
            " 21.7 16.4 18.8 12.3 18.4 19.8  8.2 15.  26.7 25.5 16.9  2.2 29.2 24.6\n",
            " 24.2 15.9 30.7 25.8 23.4 20.5 20.6 10.8 34.4 21.5 19.7 10.4  8.8 24.9\n",
            " 41.2 19.9 14.5 38.7 29.9 23.6 29.1 11.5 18.5 18.7 25.7 20.  29.6 29.7\n",
            " 26.6 15.3 23.  13.2 37.5 22.6 21.8 28.4 11.  27.3 26.8 13.   4.3 25.9\n",
            " 24.4 23.7 30.6 32.1 14.   3.  33.4 25.   2.7  8.3 35.6 15.4 35.  27.4\n",
            " 11.6  9.7 32.8 12.1 31.9 22.  30.1 17.4 33.2 14.2 37.   8.5  9.5 34.6\n",
            " 22.9  9.9 31.7 32.7 28.8 27.6 25.3 33.6 28.  16.2 24.7 27.1 10.9 17.1\n",
            "  6.9 27.   6.6 11.3 20.1  9.  27.2 10.5 27.9  7.1  5.3 22.7 23.5 32.3\n",
            " 36.6 26.4 34.8  1.8 36.9 31.  -1.2  9.6 26.3 25.2 26.5 19.3 13.1  7.5\n",
            " 36.8 34.   7.9 31.4 28.3 35.7  9.3 21.6 31.2 34.9  0.2  8.7 11.2 35.2\n",
            " 38.1 29.4  1.1 11.4 25.1 22.4 31.8 10.2 37.1 37.2  7.6 31.5  5.1 21.9\n",
            "  6.8 35.4 30.9 29.8  4.4 36.  39.8 36.1  6.7  9.2 10.3  8.4  8.9 37.3\n",
            "  4.8 34.1 32.5  3.9  6.  26.2  5.2  9.4  4.1 41.5 35.9 25.4  7.8  5.4\n",
            "  2.4 27.8  7.  31.1  6.2 35.1  2.  35.5 33.1  5.  40.4 34.2 32.4  7.7\n",
            "  8.1  2.5  7.2 38.  34.3  1.6 38.9 36.7  0.8 30.5  0.7 37.7  0.9  6.3\n",
            " 34.5  6.1 42.3 37.6 39.5 39.  36.2 40.1 38.2 39.1 33.  40.5 42.1 35.3\n",
            " 38.8  4.6  5.8 36.5 37.8 38.3  3.5  4.7  4.5 39.4 39.2 41.1 35.8 38.4\n",
            " 34.7  2.8  0.1 40.8 38.6  6.5 38.5  7.3 40.9  4.2 39.7 37.9 36.4 36.3\n",
            " 40.6 39.9  2.6  3.4  2.3 42.  41.  40.  39.6 42.2  1.   5.6  5.7  4.9\n",
            " 40.7 39.3 41.8  4.  41.9  3.7 40.3  5.9  5.5  1.3  3.2 43.  -0.7  3.8\n",
            "  3.1 40.2  7.4 41.7  2.9]\n",
            "BersaljuHariIni [1 0]\n",
            "Class [1 0]\n"
          ],
          "name": "stdout"
        }
      ]
    },
    {
      "cell_type": "code",
      "metadata": {
        "id": "OXVc3f3nHYly",
        "colab": {
          "base_uri": "https://localhost:8080/"
        },
        "outputId": "d598e9af-e9a4-4cd7-fb94-c247696e2156"
      },
      "source": [
        "# Mengecek type atribut\n",
        "print(salju_test_sampling.dtypes)"
      ],
      "execution_count": null,
      "outputs": [
        {
          "output_type": "stream",
          "text": [
            "Tanggal                       int64\n",
            "KodeLokasi                    int64\n",
            "SuhuMin                     float64\n",
            "SuhuMax                     float64\n",
            "Hujan                       float64\n",
            "Penguapan                   float64\n",
            "SinarMatahari               float64\n",
            "ArahAnginTerkencang           int64\n",
            "KecepatanAnginTerkencang    float64\n",
            "ArahAngin9am                  int64\n",
            "ArahAngin3pm                  int64\n",
            "KecepatanAngin9am           float64\n",
            "KecepatanAngin3pm           float64\n",
            "Kelembaban9am               float64\n",
            "Kelembaban3pm               float64\n",
            "Tekanan9am                  float64\n",
            "Tekanan3pm                  float64\n",
            "Awan9am                     float64\n",
            "Awan3pm                     float64\n",
            "Suhu9am                     float64\n",
            "Suhu3pm                     float64\n",
            "BersaljuHariIni               int64\n",
            "Class                         int64\n",
            "dtype: object\n"
          ],
          "name": "stdout"
        }
      ]
    },
    {
      "cell_type": "code",
      "metadata": {
        "colab": {
          "base_uri": "https://localhost:8080/",
          "height": 224
        },
        "id": "g3ToZhHdfyZD",
        "outputId": "7350fd7e-0667-4bbc-bd03-afcb27e34a0d"
      },
      "source": [
        "# Normalisasi data train dengan menggunakan min-max normalization\n",
        "# norm = pembeda variable telah melalui feature engineering\n",
        "salju_train_sampling_norm = (salju_train_sampling - salju_train_sampling.min()) / (salju_train_sampling.max() - salju_train_sampling.min())\n",
        "salju_train_sampling_norm.head(5)"
      ],
      "execution_count": null,
      "outputs": [
        {
          "output_type": "execute_result",
          "data": {
            "text/html": [
              "<div>\n",
              "<style scoped>\n",
              "    .dataframe tbody tr th:only-of-type {\n",
              "        vertical-align: middle;\n",
              "    }\n",
              "\n",
              "    .dataframe tbody tr th {\n",
              "        vertical-align: top;\n",
              "    }\n",
              "\n",
              "    .dataframe thead th {\n",
              "        text-align: right;\n",
              "    }\n",
              "</style>\n",
              "<table border=\"1\" class=\"dataframe\">\n",
              "  <thead>\n",
              "    <tr style=\"text-align: right;\">\n",
              "      <th></th>\n",
              "      <th>Tanggal</th>\n",
              "      <th>KodeLokasi</th>\n",
              "      <th>SuhuMin</th>\n",
              "      <th>SuhuMax</th>\n",
              "      <th>Hujan</th>\n",
              "      <th>Penguapan</th>\n",
              "      <th>SinarMatahari</th>\n",
              "      <th>ArahAnginTerkencang</th>\n",
              "      <th>KecepatanAnginTerkencang</th>\n",
              "      <th>ArahAngin9am</th>\n",
              "      <th>ArahAngin3pm</th>\n",
              "      <th>KecepatanAngin9am</th>\n",
              "      <th>KecepatanAngin3pm</th>\n",
              "      <th>Kelembaban9am</th>\n",
              "      <th>Kelembaban3pm</th>\n",
              "      <th>Tekanan9am</th>\n",
              "      <th>Tekanan3pm</th>\n",
              "      <th>Awan9am</th>\n",
              "      <th>Awan3pm</th>\n",
              "      <th>Suhu9am</th>\n",
              "      <th>Suhu3pm</th>\n",
              "      <th>BersaljuHariIni</th>\n",
              "      <th>Class</th>\n",
              "    </tr>\n",
              "  </thead>\n",
              "  <tbody>\n",
              "    <tr>\n",
              "      <th>75745</th>\n",
              "      <td>0.122766</td>\n",
              "      <td>0.541667</td>\n",
              "      <td>0.242340</td>\n",
              "      <td>0.371921</td>\n",
              "      <td>0.000000</td>\n",
              "      <td>0.030345</td>\n",
              "      <td>0.482517</td>\n",
              "      <td>0.400000</td>\n",
              "      <td>0.335938</td>\n",
              "      <td>0.200000</td>\n",
              "      <td>0.933333</td>\n",
              "      <td>0.069231</td>\n",
              "      <td>0.252874</td>\n",
              "      <td>0.84</td>\n",
              "      <td>0.93</td>\n",
              "      <td>0.570248</td>\n",
              "      <td>0.5648</td>\n",
              "      <td>0.666667</td>\n",
              "      <td>0.666667</td>\n",
              "      <td>0.381733</td>\n",
              "      <td>0.364055</td>\n",
              "      <td>0.0</td>\n",
              "      <td>1.0</td>\n",
              "    </tr>\n",
              "    <tr>\n",
              "      <th>108371</th>\n",
              "      <td>0.541752</td>\n",
              "      <td>0.708333</td>\n",
              "      <td>0.331476</td>\n",
              "      <td>0.327586</td>\n",
              "      <td>0.011321</td>\n",
              "      <td>0.012414</td>\n",
              "      <td>0.482517</td>\n",
              "      <td>0.333333</td>\n",
              "      <td>0.203125</td>\n",
              "      <td>0.400000</td>\n",
              "      <td>0.400000</td>\n",
              "      <td>0.084615</td>\n",
              "      <td>0.126437</td>\n",
              "      <td>0.93</td>\n",
              "      <td>0.87</td>\n",
              "      <td>0.581818</td>\n",
              "      <td>0.5920</td>\n",
              "      <td>0.888889</td>\n",
              "      <td>0.888889</td>\n",
              "      <td>0.372365</td>\n",
              "      <td>0.368664</td>\n",
              "      <td>1.0</td>\n",
              "      <td>1.0</td>\n",
              "    </tr>\n",
              "    <tr>\n",
              "      <th>79848</th>\n",
              "      <td>0.970993</td>\n",
              "      <td>0.770833</td>\n",
              "      <td>0.328691</td>\n",
              "      <td>0.258621</td>\n",
              "      <td>0.009164</td>\n",
              "      <td>0.008276</td>\n",
              "      <td>0.363636</td>\n",
              "      <td>0.533333</td>\n",
              "      <td>0.265625</td>\n",
              "      <td>0.333333</td>\n",
              "      <td>0.200000</td>\n",
              "      <td>0.053846</td>\n",
              "      <td>0.126437</td>\n",
              "      <td>0.99</td>\n",
              "      <td>0.92</td>\n",
              "      <td>0.373554</td>\n",
              "      <td>0.3520</td>\n",
              "      <td>0.666667</td>\n",
              "      <td>0.666667</td>\n",
              "      <td>0.302108</td>\n",
              "      <td>0.292627</td>\n",
              "      <td>1.0</td>\n",
              "      <td>1.0</td>\n",
              "    </tr>\n",
              "    <tr>\n",
              "      <th>15317</th>\n",
              "      <td>0.524758</td>\n",
              "      <td>0.937500</td>\n",
              "      <td>0.860724</td>\n",
              "      <td>0.721675</td>\n",
              "      <td>0.031806</td>\n",
              "      <td>0.026207</td>\n",
              "      <td>0.223776</td>\n",
              "      <td>0.800000</td>\n",
              "      <td>0.234375</td>\n",
              "      <td>0.400000</td>\n",
              "      <td>0.666667</td>\n",
              "      <td>0.084615</td>\n",
              "      <td>0.068966</td>\n",
              "      <td>0.76</td>\n",
              "      <td>0.78</td>\n",
              "      <td>0.452893</td>\n",
              "      <td>0.4496</td>\n",
              "      <td>0.777778</td>\n",
              "      <td>0.777778</td>\n",
              "      <td>0.786885</td>\n",
              "      <td>0.686636</td>\n",
              "      <td>1.0</td>\n",
              "      <td>1.0</td>\n",
              "    </tr>\n",
              "    <tr>\n",
              "      <th>102437</th>\n",
              "      <td>0.753296</td>\n",
              "      <td>0.437500</td>\n",
              "      <td>0.442897</td>\n",
              "      <td>0.366995</td>\n",
              "      <td>0.026954</td>\n",
              "      <td>0.006897</td>\n",
              "      <td>0.363636</td>\n",
              "      <td>0.733333</td>\n",
              "      <td>0.320312</td>\n",
              "      <td>0.800000</td>\n",
              "      <td>0.800000</td>\n",
              "      <td>0.053846</td>\n",
              "      <td>0.252874</td>\n",
              "      <td>1.00</td>\n",
              "      <td>0.82</td>\n",
              "      <td>0.573554</td>\n",
              "      <td>0.6272</td>\n",
              "      <td>0.777778</td>\n",
              "      <td>0.777778</td>\n",
              "      <td>0.377049</td>\n",
              "      <td>0.290323</td>\n",
              "      <td>1.0</td>\n",
              "      <td>1.0</td>\n",
              "    </tr>\n",
              "  </tbody>\n",
              "</table>\n",
              "</div>"
            ],
            "text/plain": [
              "         Tanggal  KodeLokasi   SuhuMin  ...   Suhu3pm  BersaljuHariIni  Class\n",
              "75745   0.122766    0.541667  0.242340  ...  0.364055              0.0    1.0\n",
              "108371  0.541752    0.708333  0.331476  ...  0.368664              1.0    1.0\n",
              "79848   0.970993    0.770833  0.328691  ...  0.292627              1.0    1.0\n",
              "15317   0.524758    0.937500  0.860724  ...  0.686636              1.0    1.0\n",
              "102437  0.753296    0.437500  0.442897  ...  0.290323              1.0    1.0\n",
              "\n",
              "[5 rows x 23 columns]"
            ]
          },
          "metadata": {
            "tags": []
          },
          "execution_count": 97
        }
      ]
    },
    {
      "cell_type": "code",
      "metadata": {
        "colab": {
          "base_uri": "https://localhost:8080/",
          "height": 224
        },
        "id": "FApe06OcgNuh",
        "outputId": "73e1ab42-5d5b-425a-c137-df78f3f00011"
      },
      "source": [
        "# Normalisasi data test dengan menggunakan min-max normalization\n",
        "# norm = pembeda variable telah melalui feature engineering\n",
        "salju_test_sampling_norm = (salju_test_sampling - salju_test_sampling.min()) / (salju_test_sampling.max() - salju_test_sampling.min())\n",
        "salju_test_sampling_norm.head(5)"
      ],
      "execution_count": null,
      "outputs": [
        {
          "output_type": "execute_result",
          "data": {
            "text/html": [
              "<div>\n",
              "<style scoped>\n",
              "    .dataframe tbody tr th:only-of-type {\n",
              "        vertical-align: middle;\n",
              "    }\n",
              "\n",
              "    .dataframe tbody tr th {\n",
              "        vertical-align: top;\n",
              "    }\n",
              "\n",
              "    .dataframe thead th {\n",
              "        text-align: right;\n",
              "    }\n",
              "</style>\n",
              "<table border=\"1\" class=\"dataframe\">\n",
              "  <thead>\n",
              "    <tr style=\"text-align: right;\">\n",
              "      <th></th>\n",
              "      <th>Tanggal</th>\n",
              "      <th>KodeLokasi</th>\n",
              "      <th>SuhuMin</th>\n",
              "      <th>SuhuMax</th>\n",
              "      <th>Hujan</th>\n",
              "      <th>Penguapan</th>\n",
              "      <th>SinarMatahari</th>\n",
              "      <th>ArahAnginTerkencang</th>\n",
              "      <th>KecepatanAnginTerkencang</th>\n",
              "      <th>ArahAngin9am</th>\n",
              "      <th>ArahAngin3pm</th>\n",
              "      <th>KecepatanAngin9am</th>\n",
              "      <th>KecepatanAngin3pm</th>\n",
              "      <th>Kelembaban9am</th>\n",
              "      <th>Kelembaban3pm</th>\n",
              "      <th>Tekanan9am</th>\n",
              "      <th>Tekanan3pm</th>\n",
              "      <th>Awan9am</th>\n",
              "      <th>Awan3pm</th>\n",
              "      <th>Suhu9am</th>\n",
              "      <th>Suhu3pm</th>\n",
              "      <th>BersaljuHariIni</th>\n",
              "      <th>Class</th>\n",
              "    </tr>\n",
              "  </thead>\n",
              "  <tbody>\n",
              "    <tr>\n",
              "      <th>15679</th>\n",
              "      <td>0.213219</td>\n",
              "      <td>0.708333</td>\n",
              "      <td>0.377049</td>\n",
              "      <td>0.239709</td>\n",
              "      <td>0.010518</td>\n",
              "      <td>0.011628</td>\n",
              "      <td>0.475862</td>\n",
              "      <td>0.866667</td>\n",
              "      <td>0.284483</td>\n",
              "      <td>0.466667</td>\n",
              "      <td>0.866667</td>\n",
              "      <td>0.240964</td>\n",
              "      <td>0.156627</td>\n",
              "      <td>0.897959</td>\n",
              "      <td>0.919192</td>\n",
              "      <td>0.396226</td>\n",
              "      <td>0.385900</td>\n",
              "      <td>1.000</td>\n",
              "      <td>1.000</td>\n",
              "      <td>0.305419</td>\n",
              "      <td>0.278281</td>\n",
              "      <td>1.0</td>\n",
              "      <td>1.0</td>\n",
              "    </tr>\n",
              "    <tr>\n",
              "      <th>15634</th>\n",
              "      <td>0.650779</td>\n",
              "      <td>0.937500</td>\n",
              "      <td>0.822404</td>\n",
              "      <td>0.806295</td>\n",
              "      <td>0.000000</td>\n",
              "      <td>0.113372</td>\n",
              "      <td>0.627586</td>\n",
              "      <td>0.000000</td>\n",
              "      <td>0.491379</td>\n",
              "      <td>0.000000</td>\n",
              "      <td>0.333333</td>\n",
              "      <td>0.265060</td>\n",
              "      <td>0.313253</td>\n",
              "      <td>0.683673</td>\n",
              "      <td>0.545455</td>\n",
              "      <td>0.506003</td>\n",
              "      <td>0.413729</td>\n",
              "      <td>0.250</td>\n",
              "      <td>0.875</td>\n",
              "      <td>0.768473</td>\n",
              "      <td>0.794118</td>\n",
              "      <td>0.0</td>\n",
              "      <td>1.0</td>\n",
              "    </tr>\n",
              "    <tr>\n",
              "      <th>9955</th>\n",
              "      <td>0.591357</td>\n",
              "      <td>0.187500</td>\n",
              "      <td>0.631148</td>\n",
              "      <td>0.588378</td>\n",
              "      <td>0.071197</td>\n",
              "      <td>0.058140</td>\n",
              "      <td>0.441379</td>\n",
              "      <td>0.400000</td>\n",
              "      <td>0.431034</td>\n",
              "      <td>0.333333</td>\n",
              "      <td>0.400000</td>\n",
              "      <td>0.337349</td>\n",
              "      <td>0.373494</td>\n",
              "      <td>0.948980</td>\n",
              "      <td>0.525253</td>\n",
              "      <td>0.346484</td>\n",
              "      <td>0.294991</td>\n",
              "      <td>0.625</td>\n",
              "      <td>0.875</td>\n",
              "      <td>0.544335</td>\n",
              "      <td>0.576923</td>\n",
              "      <td>1.0</td>\n",
              "      <td>1.0</td>\n",
              "    </tr>\n",
              "    <tr>\n",
              "      <th>1778</th>\n",
              "      <td>0.021608</td>\n",
              "      <td>0.541667</td>\n",
              "      <td>0.234973</td>\n",
              "      <td>0.334140</td>\n",
              "      <td>0.000000</td>\n",
              "      <td>0.063953</td>\n",
              "      <td>0.475862</td>\n",
              "      <td>0.200000</td>\n",
              "      <td>0.215517</td>\n",
              "      <td>0.000000</td>\n",
              "      <td>0.400000</td>\n",
              "      <td>0.132530</td>\n",
              "      <td>0.204819</td>\n",
              "      <td>0.683673</td>\n",
              "      <td>0.535354</td>\n",
              "      <td>0.790738</td>\n",
              "      <td>0.734694</td>\n",
              "      <td>0.750</td>\n",
              "      <td>0.750</td>\n",
              "      <td>0.270936</td>\n",
              "      <td>0.346154</td>\n",
              "      <td>0.0</td>\n",
              "      <td>1.0</td>\n",
              "    </tr>\n",
              "    <tr>\n",
              "      <th>12983</th>\n",
              "      <td>0.432158</td>\n",
              "      <td>0.729167</td>\n",
              "      <td>0.751366</td>\n",
              "      <td>0.716707</td>\n",
              "      <td>0.009709</td>\n",
              "      <td>0.066860</td>\n",
              "      <td>0.262069</td>\n",
              "      <td>0.866667</td>\n",
              "      <td>0.206897</td>\n",
              "      <td>0.400000</td>\n",
              "      <td>0.000000</td>\n",
              "      <td>0.108434</td>\n",
              "      <td>0.024096</td>\n",
              "      <td>0.887755</td>\n",
              "      <td>0.707071</td>\n",
              "      <td>0.421955</td>\n",
              "      <td>0.356215</td>\n",
              "      <td>0.250</td>\n",
              "      <td>0.875</td>\n",
              "      <td>0.684729</td>\n",
              "      <td>0.676471</td>\n",
              "      <td>1.0</td>\n",
              "      <td>1.0</td>\n",
              "    </tr>\n",
              "  </tbody>\n",
              "</table>\n",
              "</div>"
            ],
            "text/plain": [
              "        Tanggal  KodeLokasi   SuhuMin  ...   Suhu3pm  BersaljuHariIni  Class\n",
              "15679  0.213219    0.708333  0.377049  ...  0.278281              1.0    1.0\n",
              "15634  0.650779    0.937500  0.822404  ...  0.794118              0.0    1.0\n",
              "9955   0.591357    0.187500  0.631148  ...  0.576923              1.0    1.0\n",
              "1778   0.021608    0.541667  0.234973  ...  0.346154              0.0    1.0\n",
              "12983  0.432158    0.729167  0.751366  ...  0.676471              1.0    1.0\n",
              "\n",
              "[5 rows x 23 columns]"
            ]
          },
          "metadata": {
            "tags": []
          },
          "execution_count": 98
        }
      ]
    },
    {
      "cell_type": "markdown",
      "metadata": {
        "id": "8sIHT40HndUg"
      },
      "source": [
        "#Data Pre Processing (Processed Data)"
      ]
    },
    {
      "cell_type": "markdown",
      "metadata": {
        "id": "G25_lpXJiT16"
      },
      "source": [
        "## Tanpa Feature Engineering"
      ]
    },
    {
      "cell_type": "code",
      "metadata": {
        "id": "GTbqAGgqnhXu"
      },
      "source": [
        "#Data train\n",
        "x_train = salju_train_sampling.drop(['Class'], axis=1)\n",
        "y_train = salju_train_sampling['Class'].values"
      ],
      "execution_count": null,
      "outputs": []
    },
    {
      "cell_type": "code",
      "metadata": {
        "id": "rVyKI5VPt414"
      },
      "source": [
        "x_train = x_train.values"
      ],
      "execution_count": null,
      "outputs": []
    },
    {
      "cell_type": "code",
      "metadata": {
        "id": "tJ2cKClht-y2"
      },
      "source": [
        "#Data test\n",
        "x_test = salju_test_sampling.drop(['Class'], axis=1)\n",
        "y_test = salju_test_sampling['Class'].values"
      ],
      "execution_count": null,
      "outputs": []
    },
    {
      "cell_type": "code",
      "metadata": {
        "id": "EXumkcPvuDUX"
      },
      "source": [
        "x_test = x_test.values"
      ],
      "execution_count": null,
      "outputs": []
    },
    {
      "cell_type": "code",
      "metadata": {
        "colab": {
          "base_uri": "https://localhost:8080/"
        },
        "id": "_moYZCESuGdG",
        "outputId": "27f6600e-5d47-4779-d781-76316898c032"
      },
      "source": [
        "len(salju_train_sampling.columns)"
      ],
      "execution_count": null,
      "outputs": [
        {
          "output_type": "execute_result",
          "data": {
            "text/plain": [
              "23"
            ]
          },
          "metadata": {
            "tags": []
          },
          "execution_count": 103
        }
      ]
    },
    {
      "cell_type": "code",
      "metadata": {
        "colab": {
          "base_uri": "https://localhost:8080/"
        },
        "id": "Xe0cyU-UueBY",
        "outputId": "beaeae1c-2498-4d19-a032-fc4a8e34eecb"
      },
      "source": [
        "len(salju_test_sampling.columns)"
      ],
      "execution_count": null,
      "outputs": [
        {
          "output_type": "execute_result",
          "data": {
            "text/plain": [
              "23"
            ]
          },
          "metadata": {
            "tags": []
          },
          "execution_count": 112
        }
      ]
    },
    {
      "cell_type": "markdown",
      "metadata": {
        "id": "iSFBFEjWiXof"
      },
      "source": [
        "## Dengan Feature Engineering"
      ]
    },
    {
      "cell_type": "code",
      "metadata": {
        "id": "jiRwxrw0iaHD"
      },
      "source": [
        "#Data train\n",
        "# norm = pembeda variable telah melalui feature engineering\n",
        "x_train_norm = salju_train_sampling_norm.drop(['Class'], axis=1)\n",
        "y_train_norm = salju_train_sampling_norm['Class'].values"
      ],
      "execution_count": null,
      "outputs": []
    },
    {
      "cell_type": "code",
      "metadata": {
        "id": "nleacy33iq9e"
      },
      "source": [
        "x_train_norm = x_train_norm.values"
      ],
      "execution_count": null,
      "outputs": []
    },
    {
      "cell_type": "code",
      "metadata": {
        "id": "RBV60P9oitaS"
      },
      "source": [
        "#Data test\n",
        "# norm = pembeda variable telah melalui feature engineering\n",
        "x_test_norm = salju_test_sampling_norm.drop(['Class'], axis=1)\n",
        "y_test_norm = salju_test_sampling_norm['Class'].values"
      ],
      "execution_count": null,
      "outputs": []
    },
    {
      "cell_type": "code",
      "metadata": {
        "id": "W3zNDpGIi0L5"
      },
      "source": [
        "x_test_norm = x_test_norm.values"
      ],
      "execution_count": null,
      "outputs": []
    },
    {
      "cell_type": "code",
      "metadata": {
        "colab": {
          "base_uri": "https://localhost:8080/"
        },
        "id": "klRu4MvojEUV",
        "outputId": "50e70dd2-ccd6-442c-c667-6676b67da66d"
      },
      "source": [
        "len(salju_train_sampling_norm.columns)"
      ],
      "execution_count": null,
      "outputs": [
        {
          "output_type": "execute_result",
          "data": {
            "text/plain": [
              "23"
            ]
          },
          "metadata": {
            "tags": []
          },
          "execution_count": 110
        }
      ]
    },
    {
      "cell_type": "code",
      "metadata": {
        "colab": {
          "base_uri": "https://localhost:8080/"
        },
        "id": "Uzv7cqFAjKAw",
        "outputId": "b34b71dd-97b4-4ecc-8d84-53589116d602"
      },
      "source": [
        "len(salju_test_sampling_norm.columns)"
      ],
      "execution_count": null,
      "outputs": [
        {
          "output_type": "execute_result",
          "data": {
            "text/plain": [
              "23"
            ]
          },
          "metadata": {
            "tags": []
          },
          "execution_count": 111
        }
      ]
    },
    {
      "cell_type": "markdown",
      "metadata": {
        "id": "BcDxAZ1stfeG"
      },
      "source": [
        "#Model (Naive Bayes)"
      ]
    },
    {
      "cell_type": "markdown",
      "metadata": {
        "id": "WCd6H2RYg-7P"
      },
      "source": [
        "## Tanpa Feature Scaling"
      ]
    },
    {
      "cell_type": "code",
      "metadata": {
        "id": "ZfnzfWhgupAW"
      },
      "source": [
        "gnb = GaussianNB()\n",
        "gnb.fit(x_train, y_train.ravel())\n",
        "y_pred = gnb.predict(x_test)"
      ],
      "execution_count": null,
      "outputs": []
    },
    {
      "cell_type": "code",
      "metadata": {
        "id": "C7nXj8kfCRlR",
        "colab": {
          "base_uri": "https://localhost:8080/"
        },
        "outputId": "615e30d0-083f-41c2-8368-a1e3d71a5852"
      },
      "source": [
        "print(\"Accuracy :\",metrics.accuracy_score(y_test, y_pred))\n",
        "print('')\n",
        "print(classification_report(y_test,y_pred))"
      ],
      "execution_count": null,
      "outputs": [
        {
          "output_type": "stream",
          "text": [
            "Accuracy : 0.742873742692182\n",
            "\n",
            "              precision    recall  f1-score   support\n",
            "\n",
            "           0       0.73      0.78      0.75     13779\n",
            "           1       0.76      0.70      0.73     13760\n",
            "\n",
            "    accuracy                           0.74     27539\n",
            "   macro avg       0.74      0.74      0.74     27539\n",
            "weighted avg       0.74      0.74      0.74     27539\n",
            "\n"
          ],
          "name": "stdout"
        }
      ]
    },
    {
      "cell_type": "markdown",
      "metadata": {
        "id": "KlDjgWQQhLtw"
      },
      "source": [
        "## Dengan Feature Engineering"
      ]
    },
    {
      "cell_type": "code",
      "metadata": {
        "id": "gDODVtVGhG1Y"
      },
      "source": [
        "# norm = pembeda variable telah melalui feature engineering\n",
        "gnb = GaussianNB()\n",
        "gnb.fit(x_train_norm, y_train_norm.ravel())\n",
        "y_pred_norm = gnb.predict(x_test_norm)"
      ],
      "execution_count": null,
      "outputs": []
    },
    {
      "cell_type": "code",
      "metadata": {
        "colab": {
          "base_uri": "https://localhost:8080/"
        },
        "id": "ue0jZiWOhNjU",
        "outputId": "a470e9ce-1652-46ef-8b0a-aaac13e07bd8"
      },
      "source": [
        "print(\"Accuracy :\",metrics.accuracy_score(y_test_norm, y_pred_norm))\n",
        "print('')\n",
        "print(classification_report(y_test_norm,y_pred_norm))"
      ],
      "execution_count": null,
      "outputs": [
        {
          "output_type": "stream",
          "text": [
            "Accuracy : 0.7316896038345619\n",
            "\n",
            "              precision    recall  f1-score   support\n",
            "\n",
            "         0.0       0.72      0.77      0.74     13779\n",
            "         1.0       0.75      0.69      0.72     13760\n",
            "\n",
            "    accuracy                           0.73     27539\n",
            "   macro avg       0.73      0.73      0.73     27539\n",
            "weighted avg       0.73      0.73      0.73     27539\n",
            "\n"
          ],
          "name": "stdout"
        }
      ]
    }
  ]
}